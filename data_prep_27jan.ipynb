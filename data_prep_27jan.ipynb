{
 "cells": [
  {
   "cell_type": "code",
   "execution_count": 1,
   "metadata": {
    "collapsed": true
   },
   "outputs": [],
   "source": [
    "import pandas as pd\n",
    "import numpy as np\n",
    "import matplotlib.pyplot as plt\n",
    "%matplotlib inline\n",
    "\n",
    "import seaborn as sns\n",
    "#sns.set(style = 'white', color_code=True)\n",
    "import warnings\n",
    "warnings.filterwarnings('ignore')\n",
    "sns.set_style('whitegrid')"
   ]
  },
  {
   "cell_type": "code",
   "execution_count": 2,
   "metadata": {
    "collapsed": false
   },
   "outputs": [
    {
     "data": {
      "text/plain": [
       "((614, 13), (367, 12))"
      ]
     },
     "execution_count": 2,
     "metadata": {},
     "output_type": "execute_result"
    }
   ],
   "source": [
    "train = pd.read_csv('train.csv')\n",
    "test = pd.read_csv('test.csv')\n",
    "train.shape,test.shape\n",
    "# test.plot(y='LoanAmount',x='Loan_Amount_Term',kind='scatter')"
   ]
  },
  {
   "cell_type": "code",
   "execution_count": 3,
   "metadata": {
    "collapsed": true
   },
   "outputs": [],
   "source": [
    "train['source'] = 'train'\n",
    "test['source'] = 'test'"
   ]
  },
  {
   "cell_type": "code",
   "execution_count": 4,
   "metadata": {
    "collapsed": false
   },
   "outputs": [
    {
     "name": "stdout",
     "output_type": "stream",
     "text": [
      "<class 'pandas.core.frame.DataFrame'>\n",
      "Int64Index: 981 entries, 0 to 366\n",
      "Data columns (total 14 columns):\n",
      "ApplicantIncome      981 non-null int64\n",
      "CoapplicantIncome    981 non-null float64\n",
      "Credit_History       902 non-null float64\n",
      "Dependents           956 non-null object\n",
      "Education            981 non-null object\n",
      "Gender               957 non-null object\n",
      "LoanAmount           954 non-null float64\n",
      "Loan_Amount_Term     961 non-null float64\n",
      "Loan_ID              981 non-null object\n",
      "Loan_Status          614 non-null object\n",
      "Married              978 non-null object\n",
      "Property_Area        981 non-null object\n",
      "Self_Employed        926 non-null object\n",
      "source               981 non-null object\n",
      "dtypes: float64(4), int64(1), object(9)\n",
      "memory usage: 115.0+ KB\n"
     ]
    }
   ],
   "source": [
    "data = pd.concat([train,test],ignore_index=False)\n",
    "data.info()"
   ]
  },
  {
   "cell_type": "code",
   "execution_count": 5,
   "metadata": {
    "collapsed": false
   },
   "outputs": [
    {
     "data": {
      "text/plain": [
       "ApplicantIncome        0\n",
       "CoapplicantIncome      0\n",
       "Credit_History        79\n",
       "Dependents            25\n",
       "Education              0\n",
       "Gender                24\n",
       "LoanAmount            27\n",
       "Loan_Amount_Term      20\n",
       "Loan_ID                0\n",
       "Loan_Status          367\n",
       "Married                3\n",
       "Property_Area          0\n",
       "Self_Employed         55\n",
       "source                 0\n",
       "dtype: int64"
      ]
     },
     "execution_count": 5,
     "metadata": {},
     "output_type": "execute_result"
    }
   ],
   "source": [
    "data.apply(lambda x: sum(x.isnull()))"
   ]
  },
  {
   "cell_type": "code",
   "execution_count": 6,
   "metadata": {
    "collapsed": false
   },
   "outputs": [],
   "source": [
    "data['Gender'].fillna('Male',inplace=True)\n",
    "data['Married'].fillna('Yes',inplace=True)\n",
    "data['Self_Employed'].fillna('No',inplace=True)\n",
    "data['Dependents'].fillna('0',inplace=True)\n",
    "data['Married'].fillna('Yes',inplace=True)\n",
    "data['Credit_History'].fillna(1.0,inplace=True)\n",
    "data['Loan_Amount_Term'].fillna(data['Loan_Amount_Term'].mean(),inplace=True)\n",
    "\n",
    "impute_grps = data.pivot_table(values=[\"LoanAmount\"], index=[\"Gender\",\"Married\",\"Self_Employed\"], aggfunc=np.mean)"
   ]
  },
  {
   "cell_type": "code",
   "execution_count": 7,
   "metadata": {
    "collapsed": false
   },
   "outputs": [
    {
     "name": "stdout",
     "output_type": "stream",
     "text": [
      "ApplicantIncome        0\n",
      "CoapplicantIncome      0\n",
      "Credit_History         0\n",
      "Dependents             0\n",
      "Education              0\n",
      "Gender                 0\n",
      "LoanAmount             0\n",
      "Loan_Amount_Term       0\n",
      "Loan_ID                0\n",
      "Loan_Status          367\n",
      "Married                0\n",
      "Property_Area          0\n",
      "Self_Employed          0\n",
      "source                 0\n",
      "dtype: int64\n"
     ]
    }
   ],
   "source": [
    "#Create a new function:\n",
    "def num_missing(x):\n",
    "  return sum(x.isnull())\n",
    "\n",
    "#iterate only through rows with missing LoanAmount\n",
    "for i,row in data.loc[data['LoanAmount'].isnull(),:].iterrows():\n",
    "    ind = tuple([row['Gender'],row['Married'],row['Self_Employed']])\n",
    "    data.loc[i,'LoanAmount'] = impute_grps.loc[ind].values[0]\n",
    "\n",
    "#Now check the #missing values again to confirm:\n",
    "print(data.apply(num_missing, axis=0))"
   ]
  },
  {
   "cell_type": "code",
   "execution_count": 8,
   "metadata": {
    "collapsed": false
   },
   "outputs": [],
   "source": [
    "data['Total_Income'] = data['ApplicantIncome'] + data['CoapplicantIncome']\n",
    "data['Total_Income_log'] = np.log(data['Total_Income'])\n",
    "#To remove outliers in LoanAmount \n",
    "data['LoanAmount_log'] = np.log(data['LoanAmount'])\n",
    "data['Loan_Amount_Term_log'] = np.log(data['Loan_Amount_Term'])\n",
    "data['EMI'] = data['LoanAmount_log']/data['Loan_Amount_Term_log']\n",
    "data['Ratio'] = data['LoanAmount_log']/data['Total_Income_log']\n",
    "# data['Ratio_here'] = data['Total_Income']/data['LoanAmount']\n",
    "# data['not_self_graduate_married'] = data.apply(lambda x: 1 if (x['Self_Employed'] == 'No') & (x['Married'] == 'Yes') \\\n",
    "#                                                        & (x['Education'] == 'Graduate' ) & (x['Dependents'] not in ['2','3']) else 0, axis=1)\n",
    "\n",
    "#data['R_6_Unmarried'] = data.apply(lambda x: 1 if (x['Ratio_here'] > 6) & (x['Married'] == 'No') else 0, axis=1)\n",
    "# data['male_6000_not_graduate'] = data.apply(lambda x: 1 if (x['ApplicantIncome'] < 6000) & (x['Gender'] == 'Male') & (x['Education'] == 'Not Graduate') else 0, axis=1)\n",
    "# data['female_self'] = data.apply(lambda x: 1 if (x['Gender'] == 'Female') & (x['Self_Employed'] == 'Yes') else 0, axis=1)\n",
    "\n",
    "data.drop('ApplicantIncome',axis=1,inplace=True)\n",
    "data.drop('CoapplicantIncome',axis=1,inplace=True)\n",
    "data.drop('Gender',axis=1,inplace=True)\n",
    "data.drop('Self_Employed',axis=1,inplace=True)\n",
    "data.drop('Total_Income',axis=1,inplace=True)\n",
    "data.drop('LoanAmount',axis=1,inplace=True)\n",
    "data.drop('Loan_Amount_Term',axis=1,inplace=True)"
   ]
  },
  {
   "cell_type": "code",
   "execution_count": 9,
   "metadata": {
    "collapsed": false
   },
   "outputs": [],
   "source": [
    "from sklearn.preprocessing import LabelEncoder\n",
    "le = LabelEncoder()\n",
    "#var_to_encode = ['Dependents','Education','Gender','Married','Property_Area','Self_Employed']\n",
    "var_to_encode = ['Married','Dependents','Education','Property_Area']\n",
    "for col in var_to_encode:\n",
    "    data[col] = le.fit_transform(data[col])"
   ]
  },
  {
   "cell_type": "code",
   "execution_count": 10,
   "metadata": {
    "collapsed": true
   },
   "outputs": [],
   "source": [
    "data = pd.get_dummies(data,columns=var_to_encode)"
   ]
  },
  {
   "cell_type": "code",
   "execution_count": 11,
   "metadata": {
    "collapsed": false
   },
   "outputs": [
    {
     "data": {
      "text/html": [
       "<div>\n",
       "<table border=\"1\" class=\"dataframe\">\n",
       "  <thead>\n",
       "    <tr style=\"text-align: right;\">\n",
       "      <th></th>\n",
       "      <th>Credit_History</th>\n",
       "      <th>Loan_ID</th>\n",
       "      <th>Loan_Status</th>\n",
       "      <th>source</th>\n",
       "      <th>Total_Income_log</th>\n",
       "      <th>LoanAmount_log</th>\n",
       "      <th>Loan_Amount_Term_log</th>\n",
       "      <th>EMI</th>\n",
       "      <th>Ratio</th>\n",
       "      <th>Married_0</th>\n",
       "      <th>Married_1</th>\n",
       "      <th>Dependents_0</th>\n",
       "      <th>Dependents_1</th>\n",
       "      <th>Dependents_2</th>\n",
       "      <th>Dependents_3</th>\n",
       "      <th>Education_0</th>\n",
       "      <th>Education_1</th>\n",
       "      <th>Property_Area_0</th>\n",
       "      <th>Property_Area_1</th>\n",
       "      <th>Property_Area_2</th>\n",
       "    </tr>\n",
       "  </thead>\n",
       "  <tbody>\n",
       "    <tr>\n",
       "      <th>0</th>\n",
       "      <td>1.0</td>\n",
       "      <td>LP001002</td>\n",
       "      <td>Y</td>\n",
       "      <td>train</td>\n",
       "      <td>8.674026</td>\n",
       "      <td>4.841041</td>\n",
       "      <td>5.886104</td>\n",
       "      <td>0.822452</td>\n",
       "      <td>0.558108</td>\n",
       "      <td>1.0</td>\n",
       "      <td>0.0</td>\n",
       "      <td>1.0</td>\n",
       "      <td>0.0</td>\n",
       "      <td>0.0</td>\n",
       "      <td>0.0</td>\n",
       "      <td>1.0</td>\n",
       "      <td>0.0</td>\n",
       "      <td>0.0</td>\n",
       "      <td>0.0</td>\n",
       "      <td>1.0</td>\n",
       "    </tr>\n",
       "    <tr>\n",
       "      <th>1</th>\n",
       "      <td>1.0</td>\n",
       "      <td>LP001003</td>\n",
       "      <td>N</td>\n",
       "      <td>train</td>\n",
       "      <td>8.714568</td>\n",
       "      <td>4.852030</td>\n",
       "      <td>5.886104</td>\n",
       "      <td>0.824319</td>\n",
       "      <td>0.556772</td>\n",
       "      <td>0.0</td>\n",
       "      <td>1.0</td>\n",
       "      <td>0.0</td>\n",
       "      <td>1.0</td>\n",
       "      <td>0.0</td>\n",
       "      <td>0.0</td>\n",
       "      <td>1.0</td>\n",
       "      <td>0.0</td>\n",
       "      <td>1.0</td>\n",
       "      <td>0.0</td>\n",
       "      <td>0.0</td>\n",
       "    </tr>\n",
       "    <tr>\n",
       "      <th>2</th>\n",
       "      <td>1.0</td>\n",
       "      <td>LP001005</td>\n",
       "      <td>Y</td>\n",
       "      <td>train</td>\n",
       "      <td>8.006368</td>\n",
       "      <td>4.189655</td>\n",
       "      <td>5.886104</td>\n",
       "      <td>0.711787</td>\n",
       "      <td>0.523290</td>\n",
       "      <td>0.0</td>\n",
       "      <td>1.0</td>\n",
       "      <td>1.0</td>\n",
       "      <td>0.0</td>\n",
       "      <td>0.0</td>\n",
       "      <td>0.0</td>\n",
       "      <td>1.0</td>\n",
       "      <td>0.0</td>\n",
       "      <td>0.0</td>\n",
       "      <td>0.0</td>\n",
       "      <td>1.0</td>\n",
       "    </tr>\n",
       "    <tr>\n",
       "      <th>3</th>\n",
       "      <td>1.0</td>\n",
       "      <td>LP001006</td>\n",
       "      <td>Y</td>\n",
       "      <td>train</td>\n",
       "      <td>8.505323</td>\n",
       "      <td>4.787492</td>\n",
       "      <td>5.886104</td>\n",
       "      <td>0.813355</td>\n",
       "      <td>0.562882</td>\n",
       "      <td>0.0</td>\n",
       "      <td>1.0</td>\n",
       "      <td>1.0</td>\n",
       "      <td>0.0</td>\n",
       "      <td>0.0</td>\n",
       "      <td>0.0</td>\n",
       "      <td>0.0</td>\n",
       "      <td>1.0</td>\n",
       "      <td>0.0</td>\n",
       "      <td>0.0</td>\n",
       "      <td>1.0</td>\n",
       "    </tr>\n",
       "    <tr>\n",
       "      <th>4</th>\n",
       "      <td>1.0</td>\n",
       "      <td>LP001008</td>\n",
       "      <td>Y</td>\n",
       "      <td>train</td>\n",
       "      <td>8.699515</td>\n",
       "      <td>4.948760</td>\n",
       "      <td>5.886104</td>\n",
       "      <td>0.840753</td>\n",
       "      <td>0.568855</td>\n",
       "      <td>1.0</td>\n",
       "      <td>0.0</td>\n",
       "      <td>1.0</td>\n",
       "      <td>0.0</td>\n",
       "      <td>0.0</td>\n",
       "      <td>0.0</td>\n",
       "      <td>1.0</td>\n",
       "      <td>0.0</td>\n",
       "      <td>0.0</td>\n",
       "      <td>0.0</td>\n",
       "      <td>1.0</td>\n",
       "    </tr>\n",
       "  </tbody>\n",
       "</table>\n",
       "</div>"
      ],
      "text/plain": [
       "   Credit_History   Loan_ID Loan_Status source  Total_Income_log  \\\n",
       "0             1.0  LP001002           Y  train          8.674026   \n",
       "1             1.0  LP001003           N  train          8.714568   \n",
       "2             1.0  LP001005           Y  train          8.006368   \n",
       "3             1.0  LP001006           Y  train          8.505323   \n",
       "4             1.0  LP001008           Y  train          8.699515   \n",
       "\n",
       "   LoanAmount_log  Loan_Amount_Term_log       EMI     Ratio  Married_0  \\\n",
       "0        4.841041              5.886104  0.822452  0.558108        1.0   \n",
       "1        4.852030              5.886104  0.824319  0.556772        0.0   \n",
       "2        4.189655              5.886104  0.711787  0.523290        0.0   \n",
       "3        4.787492              5.886104  0.813355  0.562882        0.0   \n",
       "4        4.948760              5.886104  0.840753  0.568855        1.0   \n",
       "\n",
       "   Married_1  Dependents_0  Dependents_1  Dependents_2  Dependents_3  \\\n",
       "0        0.0           1.0           0.0           0.0           0.0   \n",
       "1        1.0           0.0           1.0           0.0           0.0   \n",
       "2        1.0           1.0           0.0           0.0           0.0   \n",
       "3        1.0           1.0           0.0           0.0           0.0   \n",
       "4        0.0           1.0           0.0           0.0           0.0   \n",
       "\n",
       "   Education_0  Education_1  Property_Area_0  Property_Area_1  Property_Area_2  \n",
       "0          1.0          0.0              0.0              0.0              1.0  \n",
       "1          1.0          0.0              1.0              0.0              0.0  \n",
       "2          1.0          0.0              0.0              0.0              1.0  \n",
       "3          0.0          1.0              0.0              0.0              1.0  \n",
       "4          1.0          0.0              0.0              0.0              1.0  "
      ]
     },
     "execution_count": 11,
     "metadata": {},
     "output_type": "execute_result"
    }
   ],
   "source": [
    "data.head()"
   ]
  },
  {
   "cell_type": "code",
   "execution_count": 12,
   "metadata": {
    "collapsed": false
   },
   "outputs": [],
   "source": [
    "#data['Credit_Score'] = data['Married_1'] + data['Dependents_2'] + data['Education_1'] + data['Property_Area_1'] + data['Property_Area_0']"
   ]
  },
  {
   "cell_type": "code",
   "execution_count": 13,
   "metadata": {
    "collapsed": false
   },
   "outputs": [],
   "source": [
    "#data['Credit_History'] = data['Credit_Score'].apply(lambda x : 0.0 if x==1.0 else 1.0)"
   ]
  },
  {
   "cell_type": "code",
   "execution_count": 14,
   "metadata": {
    "collapsed": false
   },
   "outputs": [],
   "source": [
    "#data[['Credit_Score','Credit_History']][(data['Credit_History']==0.0) & (data['Credit_Score']==1.0)]"
   ]
  },
  {
   "cell_type": "code",
   "execution_count": 15,
   "metadata": {
    "collapsed": true
   },
   "outputs": [],
   "source": [
    "train = data.loc[data['source']=='train']\n",
    "test = data.loc[data['source']=='test']"
   ]
  },
  {
   "cell_type": "code",
   "execution_count": 16,
   "metadata": {
    "collapsed": true
   },
   "outputs": [],
   "source": [
    "train.drop('source',axis=1,inplace=True)\n",
    "test.drop(['source','Loan_Status'],axis=1,inplace=True)"
   ]
  },
  {
   "cell_type": "code",
   "execution_count": 17,
   "metadata": {
    "collapsed": false
   },
   "outputs": [
    {
     "data": {
      "text/plain": [
       "<matplotlib.axes._subplots.AxesSubplot at 0x250ac8d7668>"
      ]
     },
     "execution_count": 17,
     "metadata": {},
     "output_type": "execute_result"
    },
    {
     "data": {
      "image/png": "[encoded data removed]",
      "text/plain": [
       "<matplotlib.figure.Figure at 0x250ac7fe828>"
      ]
     },
     "metadata": {},
     "output_type": "display_data"
    }
   ],
   "source": [
    "corr_temp = data.corr()\n",
    "sns.heatmap(corr_temp,cmap='viridis')"
   ]
  },
  {
   "cell_type": "code",
   "execution_count": 18,
   "metadata": {
    "collapsed": false
   },
   "outputs": [
    {
     "name": "stdout",
     "output_type": "stream",
     "text": [
      "<class 'pandas.core.frame.DataFrame'>\n",
      "Int64Index: 981 entries, 0 to 366\n",
      "Data columns (total 20 columns):\n",
      "Credit_History          981 non-null float64\n",
      "Loan_ID                 981 non-null object\n",
      "Loan_Status             614 non-null object\n",
      "source                  981 non-null object\n",
      "Total_Income_log        981 non-null float64\n",
      "LoanAmount_log          981 non-null float64\n",
      "Loan_Amount_Term_log    981 non-null float64\n",
      "EMI                     981 non-null float64\n",
      "Ratio                   981 non-null float64\n",
      "Married_0               981 non-null float64\n",
      "Married_1               981 non-null float64\n",
      "Dependents_0            981 non-null float64\n",
      "Dependents_1            981 non-null float64\n",
      "Dependents_2            981 non-null float64\n",
      "Dependents_3            981 non-null float64\n",
      "Education_0             981 non-null float64\n",
      "Education_1             981 non-null float64\n",
      "Property_Area_0         981 non-null float64\n",
      "Property_Area_1         981 non-null float64\n",
      "Property_Area_2         981 non-null float64\n",
      "dtypes: float64(17), object(3)\n",
      "memory usage: 160.9+ KB\n"
     ]
    }
   ],
   "source": [
    "data.info()"
   ]
  },
  {
   "cell_type": "code",
   "execution_count": 19,
   "metadata": {
    "collapsed": true
   },
   "outputs": [],
   "source": [
    "train.to_csv('train_modified27jan.csv',index=False)\n",
    "test.to_csv('test_modified27jan.csv',index=False)"
   ]
  },
  {
   "cell_type": "code",
   "execution_count": 20,
   "metadata": {
    "collapsed": false
   },
   "outputs": [
    {
     "name": "stderr",
     "output_type": "stream",
     "text": [
      "C:\\Anaconda3\\lib\\site-packages\\sklearn\\utils\\validation.py:420: DataConversionWarning: Data with input dtype object was converted to float64 by the scale function.\n",
      "  warnings.warn(msg, DataConversionWarning)\n",
      "C:\\Anaconda3\\lib\\site-packages\\sklearn\\utils\\validation.py:420: DataConversionWarning: Data with input dtype object was converted to float64 by the scale function.\n",
      "  warnings.warn(msg, DataConversionWarning)\n",
      "C:\\Anaconda3\\lib\\site-packages\\sklearn\\utils\\validation.py:420: DataConversionWarning: Data with input dtype object was converted to float64 by the scale function.\n",
      "  warnings.warn(msg, DataConversionWarning)\n",
      "C:\\Anaconda3\\lib\\site-packages\\sklearn\\utils\\validation.py:420: DataConversionWarning: Data with input dtype object was converted to float64 by the scale function.\n",
      "  warnings.warn(msg, DataConversionWarning)\n",
      "C:\\Anaconda3\\lib\\site-packages\\sklearn\\utils\\validation.py:420: DataConversionWarning: Data with input dtype object was converted to float64 by the scale function.\n",
      "  warnings.warn(msg, DataConversionWarning)\n"
     ]
    },
    {
     "ename": "ValueError",
     "evalue": "Input X must be non-negative.",
     "output_type": "error",
     "traceback": [
      "\u001b[1;31m---------------------------------------------------------------------------\u001b[0m",
      "\u001b[1;31mValueError\u001b[0m                                Traceback (most recent call last)",
      "\u001b[1;32m<ipython-input-20-e4c4a7cd4887>\u001b[0m in \u001b[0;36m<module>\u001b[1;34m()\u001b[0m\n\u001b[0;32m    110\u001b[0m \u001b[1;32mfrom\u001b[0m \u001b[0msklearn\u001b[0m\u001b[1;33m.\u001b[0m\u001b[0mfeature_selection\u001b[0m \u001b[1;32mimport\u001b[0m \u001b[0mchi2\u001b[0m\u001b[1;33m\u001b[0m\u001b[0m\n\u001b[0;32m    111\u001b[0m \u001b[0msel\u001b[0m \u001b[1;33m=\u001b[0m \u001b[0mSelectKBest\u001b[0m\u001b[1;33m(\u001b[0m\u001b[0mchi2\u001b[0m\u001b[1;33m,\u001b[0m \u001b[0mk\u001b[0m\u001b[1;33m=\u001b[0m\u001b[1;36m10\u001b[0m\u001b[1;33m)\u001b[0m\u001b[1;33m\u001b[0m\u001b[0m\n\u001b[1;32m--> 112\u001b[1;33m \u001b[0mdf_train\u001b[0m\u001b[1;33m=\u001b[0m\u001b[0mpd\u001b[0m\u001b[1;33m.\u001b[0m\u001b[0mDataFrame\u001b[0m\u001b[1;33m(\u001b[0m\u001b[0msel\u001b[0m\u001b[1;33m.\u001b[0m\u001b[0mfit_transform\u001b[0m\u001b[1;33m(\u001b[0m\u001b[0mdf_train\u001b[0m\u001b[1;33m,\u001b[0m\u001b[0my_train\u001b[0m\u001b[1;33m)\u001b[0m\u001b[1;33m)\u001b[0m\u001b[1;33m\u001b[0m\u001b[0m\n\u001b[0m\u001b[0;32m    113\u001b[0m \u001b[0mdf_test\u001b[0m\u001b[1;33m=\u001b[0m\u001b[0mpd\u001b[0m\u001b[1;33m.\u001b[0m\u001b[0mDataFrame\u001b[0m\u001b[1;33m(\u001b[0m\u001b[0msel\u001b[0m\u001b[1;33m.\u001b[0m\u001b[0mtransform\u001b[0m\u001b[1;33m(\u001b[0m\u001b[0mdf_test\u001b[0m\u001b[1;33m)\u001b[0m\u001b[1;33m)\u001b[0m\u001b[1;33m\u001b[0m\u001b[0m\n\u001b[0;32m    114\u001b[0m \u001b[1;33m\u001b[0m\u001b[0m\n",
      "\u001b[1;32mC:\\Anaconda3\\lib\\site-packages\\sklearn\\base.py\u001b[0m in \u001b[0;36mfit_transform\u001b[1;34m(self, X, y, **fit_params)\u001b[0m\n\u001b[0;32m    456\u001b[0m         \u001b[1;32melse\u001b[0m\u001b[1;33m:\u001b[0m\u001b[1;33m\u001b[0m\u001b[0m\n\u001b[0;32m    457\u001b[0m             \u001b[1;31m# fit method of arity 2 (supervised transformation)\u001b[0m\u001b[1;33m\u001b[0m\u001b[1;33m\u001b[0m\u001b[0m\n\u001b[1;32m--> 458\u001b[1;33m             \u001b[1;32mreturn\u001b[0m \u001b[0mself\u001b[0m\u001b[1;33m.\u001b[0m\u001b[0mfit\u001b[0m\u001b[1;33m(\u001b[0m\u001b[0mX\u001b[0m\u001b[1;33m,\u001b[0m \u001b[0my\u001b[0m\u001b[1;33m,\u001b[0m \u001b[1;33m**\u001b[0m\u001b[0mfit_params\u001b[0m\u001b[1;33m)\u001b[0m\u001b[1;33m.\u001b[0m\u001b[0mtransform\u001b[0m\u001b[1;33m(\u001b[0m\u001b[0mX\u001b[0m\u001b[1;33m)\u001b[0m\u001b[1;33m\u001b[0m\u001b[0m\n\u001b[0m\u001b[0;32m    459\u001b[0m \u001b[1;33m\u001b[0m\u001b[0m\n\u001b[0;32m    460\u001b[0m \u001b[1;33m\u001b[0m\u001b[0m\n",
      "\u001b[1;32mC:\\Anaconda3\\lib\\site-packages\\sklearn\\feature_selection\\univariate_selection.py\u001b[0m in \u001b[0;36mfit\u001b[1;34m(self, X, y)\u001b[0m\n\u001b[0;32m    329\u001b[0m         \u001b[0mself\u001b[0m\u001b[1;33m.\u001b[0m\u001b[0m_check_params\u001b[0m\u001b[1;33m(\u001b[0m\u001b[0mX\u001b[0m\u001b[1;33m,\u001b[0m \u001b[0my\u001b[0m\u001b[1;33m)\u001b[0m\u001b[1;33m\u001b[0m\u001b[0m\n\u001b[0;32m    330\u001b[0m \u001b[1;33m\u001b[0m\u001b[0m\n\u001b[1;32m--> 331\u001b[1;33m         \u001b[0mself\u001b[0m\u001b[1;33m.\u001b[0m\u001b[0mscores_\u001b[0m\u001b[1;33m,\u001b[0m \u001b[0mself\u001b[0m\u001b[1;33m.\u001b[0m\u001b[0mpvalues_\u001b[0m \u001b[1;33m=\u001b[0m \u001b[0mself\u001b[0m\u001b[1;33m.\u001b[0m\u001b[0mscore_func\u001b[0m\u001b[1;33m(\u001b[0m\u001b[0mX\u001b[0m\u001b[1;33m,\u001b[0m \u001b[0my\u001b[0m\u001b[1;33m)\u001b[0m\u001b[1;33m\u001b[0m\u001b[0m\n\u001b[0m\u001b[0;32m    332\u001b[0m         \u001b[0mself\u001b[0m\u001b[1;33m.\u001b[0m\u001b[0mscores_\u001b[0m \u001b[1;33m=\u001b[0m \u001b[0mnp\u001b[0m\u001b[1;33m.\u001b[0m\u001b[0masarray\u001b[0m\u001b[1;33m(\u001b[0m\u001b[0mself\u001b[0m\u001b[1;33m.\u001b[0m\u001b[0mscores_\u001b[0m\u001b[1;33m)\u001b[0m\u001b[1;33m\u001b[0m\u001b[0m\n\u001b[0;32m    333\u001b[0m         \u001b[0mself\u001b[0m\u001b[1;33m.\u001b[0m\u001b[0mpvalues_\u001b[0m \u001b[1;33m=\u001b[0m \u001b[0mnp\u001b[0m\u001b[1;33m.\u001b[0m\u001b[0masarray\u001b[0m\u001b[1;33m(\u001b[0m\u001b[0mself\u001b[0m\u001b[1;33m.\u001b[0m\u001b[0mpvalues_\u001b[0m\u001b[1;33m)\u001b[0m\u001b[1;33m\u001b[0m\u001b[0m\n",
      "\u001b[1;32mC:\\Anaconda3\\lib\\site-packages\\sklearn\\feature_selection\\univariate_selection.py\u001b[0m in \u001b[0;36mchi2\u001b[1;34m(X, y)\u001b[0m\n\u001b[0;32m    212\u001b[0m     \u001b[0mX\u001b[0m \u001b[1;33m=\u001b[0m \u001b[0mcheck_array\u001b[0m\u001b[1;33m(\u001b[0m\u001b[0mX\u001b[0m\u001b[1;33m,\u001b[0m \u001b[0maccept_sparse\u001b[0m\u001b[1;33m=\u001b[0m\u001b[1;34m'csr'\u001b[0m\u001b[1;33m)\u001b[0m\u001b[1;33m\u001b[0m\u001b[0m\n\u001b[0;32m    213\u001b[0m     \u001b[1;32mif\u001b[0m \u001b[0mnp\u001b[0m\u001b[1;33m.\u001b[0m\u001b[0many\u001b[0m\u001b[1;33m(\u001b[0m\u001b[1;33m(\u001b[0m\u001b[0mX\u001b[0m\u001b[1;33m.\u001b[0m\u001b[0mdata\u001b[0m \u001b[1;32mif\u001b[0m \u001b[0missparse\u001b[0m\u001b[1;33m(\u001b[0m\u001b[0mX\u001b[0m\u001b[1;33m)\u001b[0m \u001b[1;32melse\u001b[0m \u001b[0mX\u001b[0m\u001b[1;33m)\u001b[0m \u001b[1;33m<\u001b[0m \u001b[1;36m0\u001b[0m\u001b[1;33m)\u001b[0m\u001b[1;33m:\u001b[0m\u001b[1;33m\u001b[0m\u001b[0m\n\u001b[1;32m--> 214\u001b[1;33m         \u001b[1;32mraise\u001b[0m \u001b[0mValueError\u001b[0m\u001b[1;33m(\u001b[0m\u001b[1;34m\"Input X must be non-negative.\"\u001b[0m\u001b[1;33m)\u001b[0m\u001b[1;33m\u001b[0m\u001b[0m\n\u001b[0m\u001b[0;32m    215\u001b[0m \u001b[1;33m\u001b[0m\u001b[0m\n\u001b[0;32m    216\u001b[0m     \u001b[0mY\u001b[0m \u001b[1;33m=\u001b[0m \u001b[0mLabelBinarizer\u001b[0m\u001b[1;33m(\u001b[0m\u001b[1;33m)\u001b[0m\u001b[1;33m.\u001b[0m\u001b[0mfit_transform\u001b[0m\u001b[1;33m(\u001b[0m\u001b[0my\u001b[0m\u001b[1;33m)\u001b[0m\u001b[1;33m\u001b[0m\u001b[0m\n",
      "\u001b[1;31mValueError\u001b[0m: Input X must be non-negative."
     ]
    }
   ],
   "source": [
    "import pandas as pd \n",
    "import pylab\n",
    "df=pd.read_csv(\"train.csv\")\n",
    "\n",
    "\n",
    "df[\"Gender\"].fillna(value=\"other\", inplace=True)\n",
    "df[\"Genderc\"]=df[\"Gender\"].astype(\"category\")\n",
    "df[\"Genderc\"]=df[\"Genderc\"].cat.rename_categories([1,2,3])\n",
    "df=df.drop(\"Gender\", axis=1)\n",
    "\n",
    "\n",
    "df[\"Married\"].fillna(value=\"No\", inplace=True)\n",
    "df[\"Marriedc\"]=df[\"Married\"].astype(\"category\")\n",
    "df[\"Marriedc\"]=df[\"Marriedc\"].cat.rename_categories([1,2])\n",
    "df=df.drop(\"Married\", axis=1)\n",
    "\n",
    "\n",
    "df[\"Dependents\"].fillna(value=\"0\", inplace=True)\n",
    "df[\"Dependentsc\"]=df[\"Dependents\"].astype(\"category\")\n",
    "df[\"Dependentsc\"]=df[\"Dependentsc\"].cat.rename_categories([1,2,3,4])\n",
    "df=df.drop(\"Dependents\", axis=1)\n",
    "\n",
    "\n",
    "\n",
    "df[\"Educationc\"]=df[\"Education\"].astype(\"category\")\n",
    "df[\"Educationc\"]=df[\"Educationc\"].cat.rename_categories([1,2])\n",
    "df=df.drop(\"Education\", axis=1)\n",
    "\n",
    "\n",
    "\n",
    "df[\"Self_Employed\"].fillna(value=\"other\", inplace=True)\n",
    "df[\"Self_Employedc\"]=df[\"Self_Employed\"].astype(\"category\")\n",
    "df[\"Self_Employedc\"]=df[\"Self_Employedc\"].cat.rename_categories([1,2,3])\n",
    "df=df.drop(\"Self_Employed\", axis=1)\n",
    "\n",
    "df[\"Property_Areac\"]=df[\"Property_Area\"].astype(\"category\")\n",
    "df[\"Property_Areac\"]=df[\"Property_Areac\"].cat.rename_categories([1,2,3])\n",
    "df=df.drop(\"Property_Area\", axis=1)\n",
    "\n",
    "\n",
    "df[\"Credit_History\"].fillna(value=1, inplace=True)\n",
    "df[\"Credit_Historyc\"]=df[\"Credit_History\"].astype(\"category\")\n",
    "df=df.drop(\"Credit_History\", axis=1)\n",
    "\n",
    "\n",
    "df[\"ApplicantIncome\"]=df[\"ApplicantIncome\"].astype(\"object\")\n",
    "df[\"CoapplicantIncome\"]=df[\"CoapplicantIncome\"].astype(\"object\")\n",
    "\n",
    "\n",
    "df[\"LoanAmount\"]=df[\"LoanAmount\"].fillna(df[\"LoanAmount\"].mean())\n",
    "df[\"LoanAmount\"]=df[\"LoanAmount\"].astype(\"object\")\n",
    "\n",
    "\n",
    "df[\"Loan_Amount_Term\"]=df[\"Loan_Amount_Term\"].fillna(df[\"Loan_Amount_Term\"].mean())\n",
    "df[\"Loan_Amount_Term\"]=df[\"Loan_Amount_Term\"].astype(\"object\")\n",
    "\n",
    "from sklearn.preprocessing import scale\n",
    "e=pd.Series(data=10.5, index=range(0,981))\n",
    "a = df[\"LoanAmount\"].multiply(9.5*1000)\n",
    "b=a.multiply(e.pow((df[\"Loan_Amount_Term\"].divide(12))))\n",
    "d=e.pow((df[\"Loan_Amount_Term\"].divide(12).subtract(1)))\n",
    "EMI=b.divide(d)\n",
    "\n",
    "df[\"sum_Income\"]=df[\"ApplicantIncome\"].add(df[\"CoapplicantIncome\"])\n",
    "df[\"Poly_feature\"]=EMI.divide((df[\"sum_Income\"]))\n",
    "df[\"ratio\"]=df[\"sum_Income\"].divide(df[\"LoanAmount\"])\n",
    "\n",
    "df[\"Poly_feature\"]=scale(df[\"Poly_feature\"])\n",
    "df[\"sum_Income\"]=scale(df[\"sum_Income\"])\n",
    "df[\"LoanAmount\"]=scale(df[\"LoanAmount\"])\n",
    "df[\"Loan_Amount_Term\"]=scale(df[\"Loan_Amount_Term\"])\n",
    "df[\"ratio\"]=scale(df[\"ratio\"])\n",
    "\n",
    "df_train=df[df.Loan_Status.notnull()]\n",
    "df_test=df[df.Loan_Status.isnull()]\n",
    "\n",
    "df_test=df_test.drop(\"Loan_Status\", axis=1)\n",
    "key=df_test[\"Loan_ID\"]\n",
    "df_test=df_test.drop(\"Loan_ID\", axis=1)\n",
    "df_train=df_train.drop(\"Loan_ID\", axis=1)\n",
    "\n",
    "# from sklearn.preprocessing import OneHotEncoder\n",
    "# enc=OneHotEncoder()\n",
    "# Xtrsp=pd.DataFrame(enc.fit_transform(df_train[[\"Genderc\",\"Marriedc\",\"Dependentsc\",\"Educationc\",\"Self_Employedc\",\"Property_Areac\", \"Credit_Historyc\"]]).\\\n",
    "#                    toarray())\n",
    "# Xtstsp=pd.DataFrame(enc.transform(df_test[[\"Genderc\",\"Marriedc\",\"Dependentsc\",\"Educationc\",\"Self_Employedc\",\"Property_Areac\", \"Credit_Historyc\"]]).\\\n",
    "#                     toarray())\n",
    "# print(Xtrsp.shape)\n",
    "from sklearn.preprocessing import LabelEncoder\n",
    "le = LabelEncoder()\n",
    "#var_to_encode = ['Dependents','Education','Gender','Married','Property_Area','Self_Employed']\n",
    "var_to_encode = [\"Genderc\",\"Marriedc\",\"Dependentsc\",\"Educationc\",\"Self_Employedc\",\"Property_Areac\", \"Credit_Historyc\"]\n",
    "for col in var_to_encode:\n",
    "    df_train[col] = le.fit_transform(df_train[col])\n",
    "    df_test[col] = le.fit_transform(df_test[col])\n",
    "# df_train = pd.get_dummies(df_train,columns=var_to_encode)\n",
    "# df_test = pd.get_dummies(df_test,columns=var_to_encode)\n",
    "df_train[\"Loan_Statusc\"]=df_train[\"Loan_Status\"].astype(\"category\")\n",
    "df_train[\"Loan_Statusc\"]=df_train[\"Loan_Statusc\"].cat.rename_categories([1,0])\n",
    "\n",
    "\n",
    "y_train=df_train[\"Loan_Statusc\"]\n",
    "df_train=df_train.drop(\"Loan_Status\", axis=1)\n",
    "df_train=df_train.drop(\"Loan_Statusc\", axis=1)\n",
    "\n",
    "\n",
    "\n",
    "\n",
    "from sklearn.feature_selection import SelectKBest\n",
    "from sklearn.feature_selection import chi2\n",
    "sel = SelectKBest(chi2, k=10)\n",
    "df_train=pd.DataFrame(sel.fit_transform(df_train,y_train))\n",
    "df_test=pd.DataFrame(sel.transform(df_test))\n",
    "\n",
    "\n",
    "\n",
    "df_train_Xtrf=df_train[[\"Poly_feature\",\"sum_Income\",\"LoanAmount\",\"Loan_Amount_Term\",\"ratio\"]]\n",
    "df_test_Xtstf=df_test[[\"Poly_feature\",\"sum_Income\",\"LoanAmount\",\"Loan_Amount_Term\",\"ratio\"]]\n",
    "\n",
    "df_train_Xtrf.index=df_train.index\n",
    "X_train=pd.concat([df_train,df_train_Xtrf], axis=1)\n",
    "df_test.index=df_test_Xtstf.index\n",
    "X_test=pd.concat([df_test,df_test_Xtstf], axis=1)\n",
    "\n",
    "from sklearn.linear_model import LogisticRegression \n",
    "#from sklearn.neighbors import KNeighborsClassifier\n",
    "#from sklearn.ensemble import RandomForestClassifier \n",
    "#from sklearn.naive_bayes import GaussianNB\n",
    "#from sklearn.neural_network import MLPClassifier\n",
    "#from sklearn.svm import LinearSVC\n",
    "\n",
    "#model=RandomForestClassifier(n_estimators=128, verbose=1)\n",
    "model=LogisticRegression(C=0.01, tol=0.00001)\n",
    "#model=KNeighborsClassifier(n_neighbors=40)\n",
    "#model=LinearSVC(C=0.01, tol=0.0000001)\n",
    "#model=GaussianNB()\n",
    "model.fit(X_train,y_train)\n",
    "y_pred=model.predict(X_test)\n",
    "print(y_pred)\n",
    "\n",
    "out=pd.DataFrame()\n",
    "out[\"Loan_ID\"]=key\n",
    "out[\"Loan_Status\"]=y_pred\n",
    "out[\"Loan_Status\"]=out[\"Loan_Status\"].astype(\"category\")\n",
    "out[\"Loan_Status\"]=out[\"Loan_Status\"].cat.rename_categories([\"Y\",\"N\"])\n",
    "out.to_csv('outcredit.csv', index=False)\n",
    "\n",
    "\n",
    "\n",
    "\n",
    "\n",
    "\n",
    "#from sklearn.cross_validation import train_test_split\n",
    "\n",
    "#Xtr,Xts,ytr,yts=train_test_split(X_train,y_train, test_size=0.1)\n",
    "#model.fit(Xtr, ytr)\n",
    "#print model.score(Xts,yts)\n"
   ]
  },
  {
   "cell_type": "code",
   "execution_count": null,
   "metadata": {
    "collapsed": true
   },
   "outputs": [],
   "source": []
  }
 ],
 "metadata": {
  "anaconda-cloud": {},
  "kernelspec": {
   "display_name": "Python 3",
   "language": "python",
   "name": "python3"
  },
  "language_info": {
   "codemirror_mode": {
    "name": "ipython",
    "version": 3
   },
   "file_extension": ".py",
   "mimetype": "text/x-python",
   "name": "python",
   "nbconvert_exporter": "python",
   "pygments_lexer": "ipython3",
   "version": "3.5.2"
  }
 },
 "nbformat": 4,
 "nbformat_minor": 1
}
