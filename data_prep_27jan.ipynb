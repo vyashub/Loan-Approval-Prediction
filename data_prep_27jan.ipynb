{
 "cells": [
  {
   "cell_type": "code",
   "execution_count": 1,
   "metadata": {
    "collapsed": true
   },
   "outputs": [],
   "source": [
    "import pandas as pd\n",
    "import numpy as np\n",
    "import matplotlib.pyplot as plt\n",
    "%matplotlib inline\n",
    "\n",
    "import seaborn as sns\n",
    "#sns.set(style = 'white', color_code=True)\n",
    "import warnings\n",
    "warnings.filterwarnings('ignore')\n",
    "sns.set_style('whitegrid')"
   ]
  },
  {
   "cell_type": "code",
   "execution_count": 2,
   "metadata": {
    "collapsed": false
   },
   "outputs": [
    {
     "data": {
      "text/plain": [
       "((614, 13), (367, 12))"
      ]
     },
     "execution_count": 2,
     "metadata": {},
     "output_type": "execute_result"
    }
   ],
   "source": [
    "train = pd.read_csv('train.csv')\n",
    "test = pd.read_csv('test.csv')\n",
    "train.shape,test.shape\n",
    "# test.plot(y='LoanAmount',x='Loan_Amount_Term',kind='scatter')"
   ]
  },
  {
   "cell_type": "code",
   "execution_count": 3,
   "metadata": {
    "collapsed": true
   },
   "outputs": [],
   "source": [
    "train['source'] = 'train'\n",
    "test['source'] = 'test'"
   ]
  },
  {
   "cell_type": "code",
   "execution_count": 4,
   "metadata": {
    "collapsed": false
   },
   "outputs": [
    {
     "name": "stdout",
     "output_type": "stream",
     "text": [
      "<class 'pandas.core.frame.DataFrame'>\n",
      "Int64Index: 981 entries, 0 to 366\n",
      "Data columns (total 14 columns):\n",
      "ApplicantIncome      981 non-null int64\n",
      "CoapplicantIncome    981 non-null float64\n",
      "Credit_History       902 non-null float64\n",
      "Dependents           956 non-null object\n",
      "Education            981 non-null object\n",
      "Gender               957 non-null object\n",
      "LoanAmount           954 non-null float64\n",
      "Loan_Amount_Term     961 non-null float64\n",
      "Loan_ID              981 non-null object\n",
      "Loan_Status          614 non-null object\n",
      "Married              978 non-null object\n",
      "Property_Area        981 non-null object\n",
      "Self_Employed        926 non-null object\n",
      "source               981 non-null object\n",
      "dtypes: float64(4), int64(1), object(9)\n",
      "memory usage: 115.0+ KB\n"
     ]
    }
   ],
   "source": [
    "data = pd.concat([train,test],ignore_index=False)\n",
    "data.info()"
   ]
  },
  {
   "cell_type": "code",
   "execution_count": 5,
   "metadata": {
    "collapsed": false
   },
   "outputs": [
    {
     "data": {
      "text/plain": [
       "ApplicantIncome        0\n",
       "CoapplicantIncome      0\n",
       "Credit_History        79\n",
       "Dependents            25\n",
       "Education              0\n",
       "Gender                24\n",
       "LoanAmount            27\n",
       "Loan_Amount_Term      20\n",
       "Loan_ID                0\n",
       "Loan_Status          367\n",
       "Married                3\n",
       "Property_Area          0\n",
       "Self_Employed         55\n",
       "source                 0\n",
       "dtype: int64"
      ]
     },
     "execution_count": 5,
     "metadata": {},
     "output_type": "execute_result"
    }
   ],
   "source": [
    "data.apply(lambda x: sum(x.isnull()))"
   ]
  },
  {
   "cell_type": "code",
   "execution_count": 6,
   "metadata": {
    "collapsed": true
   },
   "outputs": [],
   "source": [
    "data['Gender'].fillna('Male',inplace=True)\n",
    "data['Married'].fillna('Yes',inplace=True)\n",
    "data['Self_Employed'].fillna('No',inplace=True)\n",
    "data['Dependents'].fillna('0',inplace=True)\n",
    "data['Married'].fillna('Yes',inplace=True)\n",
    "data['Credit_History'].fillna(1.0,inplace=True)\n",
    "data['Loan_Amount_Term'].fillna(data['Loan_Amount_Term'].mean(),inplace=True)\n",
    "impute_grps = data.pivot_table(values=[\"LoanAmount\"], index=[\"Gender\",\"Married\",\"Self_Employed\"], aggfunc=np.mean)"
   ]
  },
  {
   "cell_type": "code",
   "execution_count": 7,
   "metadata": {
    "collapsed": false
   },
   "outputs": [
    {
     "name": "stdout",
     "output_type": "stream",
     "text": [
      "ApplicantIncome        0\n",
      "CoapplicantIncome      0\n",
      "Credit_History         0\n",
      "Dependents             0\n",
      "Education              0\n",
      "Gender                 0\n",
      "LoanAmount             0\n",
      "Loan_Amount_Term       0\n",
      "Loan_ID                0\n",
      "Loan_Status          367\n",
      "Married                0\n",
      "Property_Area          0\n",
      "Self_Employed          0\n",
      "source                 0\n",
      "dtype: int64\n"
     ]
    }
   ],
   "source": [
    "#Create a new function:\n",
    "def num_missing(x):\n",
    "  return sum(x.isnull())\n",
    "\n",
    "#iterate only through rows with missing LoanAmount\n",
    "for i,row in data.loc[data['LoanAmount'].isnull(),:].iterrows():\n",
    "    ind = tuple([row['Gender'],row['Married'],row['Self_Employed']])\n",
    "    data.loc[i,'LoanAmount'] = impute_grps.loc[ind].values[0]\n",
    "\n",
    "#Now check the #missing values again to confirm:\n",
    "print(data.apply(num_missing, axis=0))"
   ]
  },
  {
   "cell_type": "code",
   "execution_count": 8,
   "metadata": {
    "collapsed": false
   },
   "outputs": [],
   "source": [
    "data['Total_Income'] = data['ApplicantIncome'] + data['CoapplicantIncome']\n",
    "data['Total_Income_log'] = np.log(data['Total_Income'])\n",
    "#To remove outliers in LoanAmount \n",
    "data['LoanAmount_log'] = np.log(data['LoanAmount'])\n",
    "data['Loan_Amount_Term_log'] = np.log(data['Loan_Amount_Term'])\n",
    "data['EMI'] = data['LoanAmount_log']/data['Loan_Amount_Term_log']\n",
    "data['Ratio'] = data['LoanAmount_log']/data['Total_Income_log']\n",
    "\n",
    "data.drop('ApplicantIncome',axis=1,inplace=True)\n",
    "data.drop('CoapplicantIncome',axis=1,inplace=True)\n",
    "data.drop('Gender',axis=1,inplace=True)\n",
    "data.drop('Self_Employed',axis=1,inplace=True)\n",
    "data.drop('Total_Income',axis=1,inplace=True)\n",
    "data.drop('LoanAmount',axis=1,inplace=True)\n",
    "data.drop('Loan_Amount_Term',axis=1,inplace=True)"
   ]
  },
  {
   "cell_type": "code",
   "execution_count": 9,
   "metadata": {
    "collapsed": false
   },
   "outputs": [
    {
     "data": {
      "text/html": [
       "<div>\n",
       "<table border=\"1\" class=\"dataframe\">\n",
       "  <thead>\n",
       "    <tr style=\"text-align: right;\">\n",
       "      <th></th>\n",
       "      <th>Credit_History</th>\n",
       "      <th>Total_Income_log</th>\n",
       "      <th>LoanAmount_log</th>\n",
       "      <th>Loan_Amount_Term_log</th>\n",
       "      <th>EMI</th>\n",
       "      <th>Ratio</th>\n",
       "    </tr>\n",
       "  </thead>\n",
       "  <tbody>\n",
       "    <tr>\n",
       "      <th>count</th>\n",
       "      <td>981.000000</td>\n",
       "      <td>981.000000</td>\n",
       "      <td>981.000000</td>\n",
       "      <td>981.000000</td>\n",
       "      <td>981.000000</td>\n",
       "      <td>981.000000</td>\n",
       "    </tr>\n",
       "    <tr>\n",
       "      <th>mean</th>\n",
       "      <td>0.849134</td>\n",
       "      <td>8.649904</td>\n",
       "      <td>4.849140</td>\n",
       "      <td>5.799637</td>\n",
       "      <td>0.840722</td>\n",
       "      <td>0.560604</td>\n",
       "    </tr>\n",
       "    <tr>\n",
       "      <th>std</th>\n",
       "      <td>0.358101</td>\n",
       "      <td>0.520593</td>\n",
       "      <td>0.463307</td>\n",
       "      <td>0.340169</td>\n",
       "      <td>0.120034</td>\n",
       "      <td>0.041816</td>\n",
       "    </tr>\n",
       "    <tr>\n",
       "      <th>min</th>\n",
       "      <td>0.000000</td>\n",
       "      <td>7.273786</td>\n",
       "      <td>2.197225</td>\n",
       "      <td>1.791759</td>\n",
       "      <td>0.373290</td>\n",
       "      <td>0.282637</td>\n",
       "    </tr>\n",
       "    <tr>\n",
       "      <th>25%</th>\n",
       "      <td>1.000000</td>\n",
       "      <td>8.334712</td>\n",
       "      <td>4.624973</td>\n",
       "      <td>5.886104</td>\n",
       "      <td>0.789043</td>\n",
       "      <td>0.544162</td>\n",
       "    </tr>\n",
       "    <tr>\n",
       "      <th>50%</th>\n",
       "      <td>1.000000</td>\n",
       "      <td>8.578100</td>\n",
       "      <td>4.852030</td>\n",
       "      <td>5.886104</td>\n",
       "      <td>0.828255</td>\n",
       "      <td>0.564651</td>\n",
       "    </tr>\n",
       "    <tr>\n",
       "      <th>75%</th>\n",
       "      <td>1.000000</td>\n",
       "      <td>8.896725</td>\n",
       "      <td>5.075174</td>\n",
       "      <td>5.886104</td>\n",
       "      <td>0.878422</td>\n",
       "      <td>0.583341</td>\n",
       "    </tr>\n",
       "    <tr>\n",
       "      <th>max</th>\n",
       "      <td>1.000000</td>\n",
       "      <td>11.302204</td>\n",
       "      <td>6.551080</td>\n",
       "      <td>6.173786</td>\n",
       "      <td>2.541567</td>\n",
       "      <td>0.694889</td>\n",
       "    </tr>\n",
       "  </tbody>\n",
       "</table>\n",
       "</div>"
      ],
      "text/plain": [
       "       Credit_History  Total_Income_log  LoanAmount_log  Loan_Amount_Term_log  \\\n",
       "count      981.000000        981.000000      981.000000            981.000000   \n",
       "mean         0.849134          8.649904        4.849140              5.799637   \n",
       "std          0.358101          0.520593        0.463307              0.340169   \n",
       "min          0.000000          7.273786        2.197225              1.791759   \n",
       "25%          1.000000          8.334712        4.624973              5.886104   \n",
       "50%          1.000000          8.578100        4.852030              5.886104   \n",
       "75%          1.000000          8.896725        5.075174              5.886104   \n",
       "max          1.000000         11.302204        6.551080              6.173786   \n",
       "\n",
       "              EMI       Ratio  \n",
       "count  981.000000  981.000000  \n",
       "mean     0.840722    0.560604  \n",
       "std      0.120034    0.041816  \n",
       "min      0.373290    0.282637  \n",
       "25%      0.789043    0.544162  \n",
       "50%      0.828255    0.564651  \n",
       "75%      0.878422    0.583341  \n",
       "max      2.541567    0.694889  "
      ]
     },
     "execution_count": 9,
     "metadata": {},
     "output_type": "execute_result"
    }
   ],
   "source": [
    "data.describe()"
   ]
  },
  {
   "cell_type": "code",
   "execution_count": 10,
   "metadata": {
    "collapsed": false
   },
   "outputs": [],
   "source": [
    "from sklearn.preprocessing import LabelEncoder\n",
    "le = LabelEncoder()\n",
    "#var_to_encode = ['Dependents','Education','Gender','Married','Property_Area','Self_Employed']\n",
    "var_to_encode = ['Married','Dependents','Education','Property_Area']\n",
    "for col in var_to_encode:\n",
    "    data[col] = le.fit_transform(data[col])"
   ]
  },
  {
   "cell_type": "code",
   "execution_count": 11,
   "metadata": {
    "collapsed": true
   },
   "outputs": [],
   "source": [
    "data = pd.get_dummies(data,columns=var_to_encode)"
   ]
  },
  {
   "cell_type": "code",
   "execution_count": 12,
   "metadata": {
    "collapsed": true
   },
   "outputs": [],
   "source": [
    "train = data.loc[data['source']=='train']\n",
    "test = data.loc[data['source']=='test']"
   ]
  },
  {
   "cell_type": "code",
   "execution_count": 13,
   "metadata": {
    "collapsed": true
   },
   "outputs": [],
   "source": [
    "train.drop('source',axis=1,inplace=True)\n",
    "test.drop(['source','Loan_Status'],axis=1,inplace=True)"
   ]
  },
  {
   "cell_type": "code",
   "execution_count": 14,
   "metadata": {
    "collapsed": false
   },
   "outputs": [
    {
     "data": {
      "text/plain": [
       "<matplotlib.axes._subplots.AxesSubplot at 0xb3a4c88>"
      ]
     },
     "execution_count": 14,
     "metadata": {},
     "output_type": "execute_result"
    },
    {
     "data": {
      "image/png": "[encoded data removed]",
      "text/plain": [
       "<matplotlib.figure.Figure at 0xb33dac8>"
      ]
     },
     "metadata": {},
     "output_type": "display_data"
    }
   ],
   "source": [
    "corr_temp = data.corr()\n",
    "sns.heatmap(corr_temp,cmap='viridis')"
   ]
  },
  {
   "cell_type": "code",
   "execution_count": 15,
   "metadata": {
    "collapsed": false
   },
   "outputs": [
    {
     "name": "stdout",
     "output_type": "stream",
     "text": [
      "<class 'pandas.core.frame.DataFrame'>\n",
      "Int64Index: 981 entries, 0 to 366\n",
      "Data columns (total 20 columns):\n",
      "Credit_History          981 non-null float64\n",
      "Loan_ID                 981 non-null object\n",
      "Loan_Status             614 non-null object\n",
      "source                  981 non-null object\n",
      "Total_Income_log        981 non-null float64\n",
      "LoanAmount_log          981 non-null float64\n",
      "Loan_Amount_Term_log    981 non-null float64\n",
      "EMI                     981 non-null float64\n",
      "Ratio                   981 non-null float64\n",
      "Married_0               981 non-null float64\n",
      "Married_1               981 non-null float64\n",
      "Dependents_0            981 non-null float64\n",
      "Dependents_1            981 non-null float64\n",
      "Dependents_2            981 non-null float64\n",
      "Dependents_3            981 non-null float64\n",
      "Education_0             981 non-null float64\n",
      "Education_1             981 non-null float64\n",
      "Property_Area_0         981 non-null float64\n",
      "Property_Area_1         981 non-null float64\n",
      "Property_Area_2         981 non-null float64\n",
      "dtypes: float64(17), object(3)\n",
      "memory usage: 160.9+ KB\n"
     ]
    }
   ],
   "source": [
    "data.info()"
   ]
  },
  {
   "cell_type": "code",
   "execution_count": 16,
   "metadata": {
    "collapsed": true
   },
   "outputs": [],
   "source": [
    "data['Credit_Score'] = data['Married_1'] + data['Dependents_0'] + data['Education_1']"
   ]
  },
  {
   "cell_type": "code",
   "execution_count": 17,
   "metadata": {
    "collapsed": true
   },
   "outputs": [],
   "source": [
    "train.to_csv('train_modified27jan.csv',index=False)\n",
    "test.to_csv('test_modified27jan.csv',index=False)"
   ]
  }
 ],
 "metadata": {
  "anaconda-cloud": {},
  "kernelspec": {
   "display_name": "Python [default]",
   "language": "python",
   "name": "python3"
  },
  "language_info": {
   "codemirror_mode": {
    "name": "ipython",
    "version": 3
   },
   "file_extension": ".py",
   "mimetype": "text/x-python",
   "name": "python",
   "nbconvert_exporter": "python",
   "pygments_lexer": "ipython3",
   "version": "3.5.2"
  }
 },
 "nbformat": 4,
 "nbformat_minor": 1
}
