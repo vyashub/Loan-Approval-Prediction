{
 "cells": [
  {
   "cell_type": "code",
   "execution_count": 1,
   "metadata": {
    "collapsed": false
   },
   "outputs": [],
   "source": [
    "import pandas as pd\n",
    "import numpy as np\n",
    "import matplotlib.pyplot as plt\n",
    "%matplotlib inline\n",
    "\n",
    "import seaborn as sns\n",
    "#sns.set(style = 'white', color_code=True)\n",
    "import warnings\n",
    "warnings.filterwarnings('ignore')\n",
    "sns.set_style('whitegrid')"
   ]
  },
  {
   "cell_type": "code",
   "execution_count": 2,
   "metadata": {
    "collapsed": false
   },
   "outputs": [
    {
     "data": {
      "text/plain": [
       "((614, 13), (367, 12))"
      ]
     },
     "execution_count": 2,
     "metadata": {},
     "output_type": "execute_result"
    }
   ],
   "source": [
    "train = pd.read_csv('train.csv')\n",
    "test = pd.read_csv('test.csv')\n",
    "train.shape,test.shape\n",
    "# test.plot(y='LoanAmount',x='Loan_Amount_Term',kind='scatter')"
   ]
  },
  {
   "cell_type": "code",
   "execution_count": 3,
   "metadata": {
    "collapsed": false
   },
   "outputs": [],
   "source": [
    "train['source'] = 'train'\n",
    "test['source'] = 'test'"
   ]
  },
  {
   "cell_type": "code",
   "execution_count": 4,
   "metadata": {
    "collapsed": false
   },
   "outputs": [
    {
     "name": "stdout",
     "output_type": "stream",
     "text": [
      "<class 'pandas.core.frame.DataFrame'>\n",
      "Int64Index: 981 entries, 0 to 366\n",
      "Data columns (total 14 columns):\n",
      "ApplicantIncome      981 non-null int64\n",
      "CoapplicantIncome    981 non-null float64\n",
      "Credit_History       902 non-null float64\n",
      "Dependents           956 non-null object\n",
      "Education            981 non-null object\n",
      "Gender               957 non-null object\n",
      "LoanAmount           954 non-null float64\n",
      "Loan_Amount_Term     961 non-null float64\n",
      "Loan_ID              981 non-null object\n",
      "Loan_Status          614 non-null object\n",
      "Married              978 non-null object\n",
      "Property_Area        981 non-null object\n",
      "Self_Employed        926 non-null object\n",
      "source               981 non-null object\n",
      "dtypes: float64(4), int64(1), object(9)\n",
      "memory usage: 115.0+ KB\n"
     ]
    }
   ],
   "source": [
    "data = pd.concat([train,test],ignore_index=False)\n",
    "data.info()\n",
    "# data.head()"
   ]
  },
  {
   "cell_type": "code",
   "execution_count": 5,
   "metadata": {
    "collapsed": false
   },
   "outputs": [
    {
     "data": {
      "text/plain": [
       "ApplicantIncome        0\n",
       "CoapplicantIncome      0\n",
       "Credit_History        79\n",
       "Dependents            25\n",
       "Education              0\n",
       "Gender                24\n",
       "LoanAmount            27\n",
       "Loan_Amount_Term      20\n",
       "Loan_ID                0\n",
       "Loan_Status          367\n",
       "Married                3\n",
       "Property_Area          0\n",
       "Self_Employed         55\n",
       "source                 0\n",
       "dtype: int64"
      ]
     },
     "execution_count": 5,
     "metadata": {},
     "output_type": "execute_result"
    }
   ],
   "source": [
    "data.apply(lambda x: sum(x.isnull()))"
   ]
  },
  {
   "cell_type": "markdown",
   "metadata": {},
   "source": [
    "## Pivot Table"
   ]
  },
  {
   "cell_type": "code",
   "execution_count": 6,
   "metadata": {
    "collapsed": false
   },
   "outputs": [],
   "source": [
    "data['Gender'].fillna('Male',inplace=True)\n",
    "#data['Dependents'].fillna('0',inplace=True)\n",
    "data['Married'].fillna('Yes',inplace=True)\n",
    "data['Self_Employed'].fillna('No',inplace=True)\n",
    "#data['Credit_History'].fillna(1.0,inplace=True)\n",
    "impute_grps = data.pivot_table(values=[\"LoanAmount\"], index=[\"Gender\",\"Married\",\"Self_Employed\"], aggfunc=np.mean)\n",
    "# print(impute_grps.loc[\"Gender\"].values[0])\n",
    "# print(impute_grps)"
   ]
  },
  {
   "cell_type": "code",
   "execution_count": 7,
   "metadata": {
    "collapsed": false
   },
   "outputs": [
    {
     "name": "stdout",
     "output_type": "stream",
     "text": [
      "ApplicantIncome        0\n",
      "CoapplicantIncome      0\n",
      "Credit_History        79\n",
      "Dependents            25\n",
      "Education              0\n",
      "Gender                 0\n",
      "LoanAmount             0\n",
      "Loan_Amount_Term      20\n",
      "Loan_ID                0\n",
      "Loan_Status          367\n",
      "Married                0\n",
      "Property_Area          0\n",
      "Self_Employed          0\n",
      "source                 0\n",
      "dtype: int64\n"
     ]
    }
   ],
   "source": [
    "#Create a new function:\n",
    "def num_missing(x):\n",
    "  return sum(x.isnull())\n",
    "\n",
    "#iterate only through rows with missing LoanAmount\n",
    "for i,row in data.loc[data['LoanAmount'].isnull(),:].iterrows():\n",
    "    ind = tuple([row['Gender'],row['Married'],row['Self_Employed']])\n",
    "    data.loc[i,'LoanAmount'] = impute_grps.loc[ind].values[0]\n",
    "\n",
    "#Now check the #missing values again to confirm:\n",
    "print(data.apply(num_missing, axis=0))"
   ]
  },
  {
   "cell_type": "code",
   "execution_count": 8,
   "metadata": {
    "collapsed": false
   },
   "outputs": [
    {
     "data": {
      "text/plain": [
       "ApplicantIncome        int64\n",
       "CoapplicantIncome    float64\n",
       "Credit_History       float64\n",
       "Dependents            object\n",
       "Education             object\n",
       "Gender                object\n",
       "LoanAmount           float64\n",
       "Loan_Amount_Term     float64\n",
       "Loan_ID               object\n",
       "Loan_Status           object\n",
       "Married               object\n",
       "Property_Area         object\n",
       "Self_Employed         object\n",
       "source                object\n",
       "dtype: object"
      ]
     },
     "execution_count": 8,
     "metadata": {},
     "output_type": "execute_result"
    }
   ],
   "source": [
    "data.dtypes"
   ]
  },
  {
   "cell_type": "markdown",
   "metadata": {},
   "source": [
    "## We have some object(String) Variable in our Dataset, Lets check their Categories"
   ]
  },
  {
   "cell_type": "code",
   "execution_count": 9,
   "metadata": {
    "collapsed": false
   },
   "outputs": [
    {
     "name": "stdout",
     "output_type": "stream",
     "text": [
      "\n",
      "Freq count of columns:Dependents\n",
      "0     545\n",
      "1     160\n",
      "2     160\n",
      "3+     91\n",
      "Name: Dependents, dtype: int64\n",
      "\n",
      "Freq count of columns:Education\n",
      "Graduate        763\n",
      "Not Graduate    218\n",
      "Name: Education, dtype: int64\n",
      "\n",
      "Freq count of columns:Gender\n",
      "Male      799\n",
      "Female    182\n",
      "Name: Gender, dtype: int64\n",
      "\n",
      "Freq count of columns:Married\n",
      "Yes    634\n",
      "No     347\n",
      "Name: Married, dtype: int64\n",
      "\n",
      "Freq count of columns:Property_Area\n",
      "Semiurban    349\n",
      "Urban        342\n",
      "Rural        290\n",
      "Name: Property_Area, dtype: int64\n",
      "\n",
      "Freq count of columns:Self_Employed\n",
      "No     862\n",
      "Yes    119\n",
      "Name: Self_Employed, dtype: int64\n",
      "\n",
      "Freq count of columns:Credit_History\n",
      "1.0    754\n",
      "0.0    148\n",
      "Name: Credit_History, dtype: int64\n",
      "\n",
      "Freq count of columns:Loan_Amount_Term\n",
      "360.0    823\n",
      "180.0     66\n",
      "480.0     23\n",
      "300.0     20\n",
      "240.0      8\n",
      "84.0       7\n",
      "120.0      4\n",
      "60.0       3\n",
      "36.0       3\n",
      "12.0       2\n",
      "350.0      1\n",
      "6.0        1\n",
      "Name: Loan_Amount_Term, dtype: int64\n"
     ]
    }
   ],
   "source": [
    "var = data[['Dependents','Education','Gender','Married','Property_Area','Self_Employed','Credit_History','Loan_Amount_Term']]\n",
    "for v in var:\n",
    "    print('\\nFreq count of columns:%s'%v)\n",
    "    print(data[v].value_counts())"
   ]
  },
  {
   "cell_type": "code",
   "execution_count": 10,
   "metadata": {
    "collapsed": false
   },
   "outputs": [
    {
     "data": {
      "text/plain": [
       "ApplicantIncome        int64\n",
       "CoapplicantIncome    float64\n",
       "Credit_History       float64\n",
       "Dependents            object\n",
       "Education             object\n",
       "Gender                object\n",
       "LoanAmount           float64\n",
       "Loan_Amount_Term     float64\n",
       "Loan_ID               object\n",
       "Loan_Status           object\n",
       "Married               object\n",
       "Property_Area         object\n",
       "Self_Employed         object\n",
       "source                object\n",
       "dtype: object"
      ]
     },
     "execution_count": 10,
     "metadata": {},
     "output_type": "execute_result"
    }
   ],
   "source": [
    "data.dtypes\n",
    "# data[data['Loan_Amount_Term']<240]"
   ]
  },
  {
   "cell_type": "code",
   "execution_count": 11,
   "metadata": {
    "collapsed": false
   },
   "outputs": [],
   "source": [
    "data['Total_Income'] = data['ApplicantIncome'] + data['CoapplicantIncome']\n",
    "#data['Total_Income_Log'] = np.log(data['Total_Income'])\n",
    "data['LoanAmount'].fillna(data['LoanAmount'].mean(),inplace=True)\n",
    "#To remove outliers in LoanAmount \n",
    "#data['LoanAmount_log'] = np.log(data['LoanAmount'])\n",
    "#data['LoanAmount_log'].fillna(data['LoanAmount_log'].mean(),inplace=True)\n",
    "data['Loan_Amount_Term'].fillna(data['Loan_Amount_Term'].mean(),inplace=True)\n",
    "#data['EMI'] = data['LoanAmount_log']/data['Loan_Amount_Term']\n",
    "data['EMI'] = data['LoanAmount']/data['Loan_Amount_Term']\n",
    "#data['EMI'] = (data['LoanAmount'] * 0.095 * ((1+0.095) ** data['Loan_Amount_Term'])) \\\n",
    "                     # /(1.095 ** data['Loan_Amount_Term'] -1)\n",
    "#data['Ratio'] = data['LoanAmount_log']/data['Total_Income']\n",
    "#data['Ratio'] = data['LoanAmount']/data['Total_Income']\n",
    "# data[['EMI','Loan_Status','LoanAmount','Loan_Amount_Term']][data['LoanAmount']<100]\n",
    "dep_map = {'0':'0','1':'1','2':'2','3+':'3'}\n",
    "data['Dependents'] = data['Dependents'].map(dep_map)\n",
    "data['not_self_graduate_married'] = data.apply(lambda x: 1 if (x['Self_Employed'] == 'No') & (x['Married'] == 'Yes') \\\n",
    "                                                       & (x['Education'] == 'Graduate' ) & (x['Dependents'] not in ['2','3']) else 0, axis=1)\n",
    "data['Ratio'] = data['LoanAmount']/data['Total_Income']\n",
    "data['R_6_Unmarried'] = data.apply(lambda x: 1 if (x['Ratio'] > 6) & (x['Married'] == 'No') else 0, axis=1)\n",
    "data['male_6000_not_graduate'] = data.apply(lambda x: 1 if (x['ApplicantIncome'] < 6000) & (x['Gender'] == 'Male') & (x['Education'] == 'Not Graduate') else 0, axis=1)\n",
    "data['female_self'] = data.apply(lambda x: 1 if (x['Gender'] == 'Female') & (x['Self_Employed'] == 'Yes') else 0, axis=1)"
   ]
  },
  {
   "cell_type": "code",
   "execution_count": 12,
   "metadata": {
    "collapsed": false
   },
   "outputs": [
    {
     "data": {
      "text/plain": [
       "ApplicantIncome                int64\n",
       "CoapplicantIncome            float64\n",
       "Credit_History               float64\n",
       "Dependents                    object\n",
       "Education                     object\n",
       "Gender                        object\n",
       "LoanAmount                   float64\n",
       "Loan_Amount_Term             float64\n",
       "Loan_ID                       object\n",
       "Loan_Status                   object\n",
       "Married                       object\n",
       "Property_Area                 object\n",
       "Self_Employed                 object\n",
       "source                        object\n",
       "Total_Income                 float64\n",
       "EMI                          float64\n",
       "not_self_graduate_married      int64\n",
       "Ratio                        float64\n",
       "R_6_Unmarried                  int64\n",
       "male_6000_not_graduate         int64\n",
       "female_self                    int64\n",
       "dtype: object"
      ]
     },
     "execution_count": 12,
     "metadata": {},
     "output_type": "execute_result"
    }
   ],
   "source": [
    "# data.drop('ApplicantIncome',axis=1,inplace=True)\n",
    "# data.drop('CoapplicantIncome',axis=1,inplace=True)\n",
    "data.dtypes"
   ]
  },
  {
   "cell_type": "code",
   "execution_count": 13,
   "metadata": {
    "collapsed": true
   },
   "outputs": [],
   "source": [
    "#data['Gender'].fillna('Male',inplace=True)\n",
    "data['Dependents'].fillna('0',inplace=True)\n",
    "data['Married'].fillna('Yes',inplace=True)\n",
    "#data['Self_Employed'].fillna('No',inplace=True)\n",
    "data['Credit_History'].fillna(1.0,inplace=True)\n",
    "data.drop('Gender',axis=1,inplace=True)\n",
    "data.drop('Self_Employed',axis=1,inplace=True)\n",
    "# data.drop('LoanAmount',axis=1,inplace=True)\n",
    "# data.drop('Loan_Amount_Term',axis=1,inplace=True)\n",
    "#data.drop('Dependents',axis=1,inplace=True)\n",
    "#data.drop('Married',axis=1,inplace=True)"
   ]
  },
  {
   "cell_type": "code",
   "execution_count": 14,
   "metadata": {
    "collapsed": false
   },
   "outputs": [],
   "source": [
    "from sklearn.preprocessing import LabelEncoder\n",
    "le = LabelEncoder()\n",
    "#var_to_encode = ['Dependents','Education','Gender','Married','Property_Area','Self_Employed']\n",
    "var_to_encode = ['Married','Dependents','Education','Property_Area']\n",
    "#var_to_encode = ['Married','Education','Property_Area']\n",
    "for col in var_to_encode:\n",
    "    data[col] = le.fit_transform(data[col])"
   ]
  },
  {
   "cell_type": "code",
   "execution_count": 15,
   "metadata": {
    "collapsed": true
   },
   "outputs": [],
   "source": [
    "data = pd.get_dummies(data,columns=var_to_encode)"
   ]
  },
  {
   "cell_type": "code",
   "execution_count": 16,
   "metadata": {
    "collapsed": false
   },
   "outputs": [
    {
     "name": "stdout",
     "output_type": "stream",
     "text": [
      "<class 'pandas.core.frame.DataFrame'>\n",
      "Int64Index: 981 entries, 0 to 366\n",
      "Data columns (total 26 columns):\n",
      "ApplicantIncome              981 non-null int64\n",
      "CoapplicantIncome            981 non-null float64\n",
      "Credit_History               981 non-null float64\n",
      "LoanAmount                   981 non-null float64\n",
      "Loan_Amount_Term             981 non-null float64\n",
      "Loan_ID                      981 non-null object\n",
      "Loan_Status                  614 non-null object\n",
      "source                       981 non-null object\n",
      "Total_Income                 981 non-null float64\n",
      "EMI                          981 non-null float64\n",
      "not_self_graduate_married    981 non-null int64\n",
      "Ratio                        981 non-null float64\n",
      "R_6_Unmarried                981 non-null int64\n",
      "male_6000_not_graduate       981 non-null int64\n",
      "female_self                  981 non-null int64\n",
      "Married_0                    981 non-null float64\n",
      "Married_1                    981 non-null float64\n",
      "Dependents_0                 981 non-null float64\n",
      "Dependents_1                 981 non-null float64\n",
      "Dependents_2                 981 non-null float64\n",
      "Dependents_3                 981 non-null float64\n",
      "Education_0                  981 non-null float64\n",
      "Education_1                  981 non-null float64\n",
      "Property_Area_0              981 non-null float64\n",
      "Property_Area_1              981 non-null float64\n",
      "Property_Area_2              981 non-null float64\n",
      "dtypes: float64(18), int64(5), object(3)\n",
      "memory usage: 206.9+ KB\n"
     ]
    }
   ],
   "source": [
    "data.info()"
   ]
  },
  {
   "cell_type": "code",
   "execution_count": 17,
   "metadata": {
    "collapsed": true
   },
   "outputs": [],
   "source": [
    "train = data.loc[data['source']=='train']\n",
    "test = data.loc[data['source']=='test']"
   ]
  },
  {
   "cell_type": "code",
   "execution_count": 18,
   "metadata": {
    "collapsed": false
   },
   "outputs": [],
   "source": [
    "train.drop('source',axis=1,inplace=True)\n",
    "test.drop(['source','Loan_Status'],axis=1,inplace=True)"
   ]
  },
  {
   "cell_type": "code",
   "execution_count": 19,
   "metadata": {
    "collapsed": false
   },
   "outputs": [],
   "source": [
    "train.to_csv('train_modified.csv',index=False)\n",
    "test.to_csv('test_modified.csv',index=False)"
   ]
  }
 ],
 "metadata": {
  "anaconda-cloud": {},
  "kernelspec": {
   "display_name": "Python 3",
   "language": "python",
   "name": "python3"
  },
  "language_info": {
   "codemirror_mode": {
    "name": "ipython",
    "version": 3
   },
   "file_extension": ".py",
   "mimetype": "text/x-python",
   "name": "python",
   "nbconvert_exporter": "python",
   "pygments_lexer": "ipython3",
   "version": "3.5.1"
  }
 },
 "nbformat": 4,
 "nbformat_minor": 1
}
