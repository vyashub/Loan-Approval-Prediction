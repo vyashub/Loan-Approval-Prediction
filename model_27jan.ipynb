{
 "cells": [
  {
   "cell_type": "code",
   "execution_count": 58,
   "metadata": {
    "collapsed": true
   },
   "outputs": [],
   "source": [
    "import pandas as pd\n",
    "import numpy as np\n",
    "import matplotlib.pyplot as plt\n",
    "%matplotlib inline\n",
    "#from matplotlib import style\n",
    "#style.use('fivethirtyeight')\n",
    "import seaborn as sns\n",
    "#sns.set(style = 'white', color_code=True)\n",
    "# import warnings\n",
    "# warnings.filterwarnings('ignore')\n",
    "# sns.set_style('whitegrid')\n",
    "\n",
    "from sklearn.ensemble import GradientBoostingClassifier  #GBM algorithm\n",
    "from sklearn import cross_validation, metrics   #Additional scklearn functions\n",
    "from sklearn.grid_search import GridSearchCV   #Performing grid search\n",
    "# from sklearn.model_selection import GridSearchCV\n",
    "import matplotlib.pylab as plt\n",
    "from matplotlib.pylab import rcParams\n",
    "rcParams['figure.figsize'] = 12, 4"
   ]
  },
  {
   "cell_type": "code",
   "execution_count": 59,
   "metadata": {
    "collapsed": true
   },
   "outputs": [],
   "source": [
    "df = pd.read_csv('train_modified27jan.csv')\n",
    "dtest = pd.read_csv('test_modified27jan.csv')"
   ]
  },
  {
   "cell_type": "code",
   "execution_count": 60,
   "metadata": {
    "collapsed": false
   },
   "outputs": [
    {
     "data": {
      "text/html": [
       "<div>\n",
       "<table border=\"1\" class=\"dataframe\">\n",
       "  <thead>\n",
       "    <tr style=\"text-align: right;\">\n",
       "      <th></th>\n",
       "      <th>Credit_History</th>\n",
       "      <th>Loan_ID</th>\n",
       "      <th>Loan_Status</th>\n",
       "      <th>Total_Income_log</th>\n",
       "      <th>LoanAmount_log</th>\n",
       "      <th>Loan_Amount_Term_log</th>\n",
       "      <th>EMI</th>\n",
       "      <th>Ratio</th>\n",
       "      <th>Married_0</th>\n",
       "      <th>Married_1</th>\n",
       "      <th>Dependents_0</th>\n",
       "      <th>Dependents_1</th>\n",
       "      <th>Dependents_2</th>\n",
       "      <th>Dependents_3</th>\n",
       "      <th>Education_0</th>\n",
       "      <th>Education_1</th>\n",
       "      <th>Property_Area_0</th>\n",
       "      <th>Property_Area_1</th>\n",
       "      <th>Property_Area_2</th>\n",
       "    </tr>\n",
       "  </thead>\n",
       "  <tbody>\n",
       "    <tr>\n",
       "      <th>0</th>\n",
       "      <td>1.0</td>\n",
       "      <td>LP001002</td>\n",
       "      <td>Y</td>\n",
       "      <td>8.674026</td>\n",
       "      <td>4.841041</td>\n",
       "      <td>5.886104</td>\n",
       "      <td>0.822452</td>\n",
       "      <td>0.558108</td>\n",
       "      <td>1.0</td>\n",
       "      <td>0.0</td>\n",
       "      <td>1.0</td>\n",
       "      <td>0.0</td>\n",
       "      <td>0.0</td>\n",
       "      <td>0.0</td>\n",
       "      <td>1.0</td>\n",
       "      <td>0.0</td>\n",
       "      <td>0.0</td>\n",
       "      <td>0.0</td>\n",
       "      <td>1.0</td>\n",
       "    </tr>\n",
       "    <tr>\n",
       "      <th>1</th>\n",
       "      <td>1.0</td>\n",
       "      <td>LP001003</td>\n",
       "      <td>N</td>\n",
       "      <td>8.714568</td>\n",
       "      <td>4.852030</td>\n",
       "      <td>5.886104</td>\n",
       "      <td>0.824319</td>\n",
       "      <td>0.556772</td>\n",
       "      <td>0.0</td>\n",
       "      <td>1.0</td>\n",
       "      <td>0.0</td>\n",
       "      <td>1.0</td>\n",
       "      <td>0.0</td>\n",
       "      <td>0.0</td>\n",
       "      <td>1.0</td>\n",
       "      <td>0.0</td>\n",
       "      <td>1.0</td>\n",
       "      <td>0.0</td>\n",
       "      <td>0.0</td>\n",
       "    </tr>\n",
       "    <tr>\n",
       "      <th>2</th>\n",
       "      <td>1.0</td>\n",
       "      <td>LP001005</td>\n",
       "      <td>Y</td>\n",
       "      <td>8.006368</td>\n",
       "      <td>4.189655</td>\n",
       "      <td>5.886104</td>\n",
       "      <td>0.711787</td>\n",
       "      <td>0.523290</td>\n",
       "      <td>0.0</td>\n",
       "      <td>1.0</td>\n",
       "      <td>1.0</td>\n",
       "      <td>0.0</td>\n",
       "      <td>0.0</td>\n",
       "      <td>0.0</td>\n",
       "      <td>1.0</td>\n",
       "      <td>0.0</td>\n",
       "      <td>0.0</td>\n",
       "      <td>0.0</td>\n",
       "      <td>1.0</td>\n",
       "    </tr>\n",
       "    <tr>\n",
       "      <th>3</th>\n",
       "      <td>1.0</td>\n",
       "      <td>LP001006</td>\n",
       "      <td>Y</td>\n",
       "      <td>8.505323</td>\n",
       "      <td>4.787492</td>\n",
       "      <td>5.886104</td>\n",
       "      <td>0.813355</td>\n",
       "      <td>0.562882</td>\n",
       "      <td>0.0</td>\n",
       "      <td>1.0</td>\n",
       "      <td>1.0</td>\n",
       "      <td>0.0</td>\n",
       "      <td>0.0</td>\n",
       "      <td>0.0</td>\n",
       "      <td>0.0</td>\n",
       "      <td>1.0</td>\n",
       "      <td>0.0</td>\n",
       "      <td>0.0</td>\n",
       "      <td>1.0</td>\n",
       "    </tr>\n",
       "    <tr>\n",
       "      <th>4</th>\n",
       "      <td>1.0</td>\n",
       "      <td>LP001008</td>\n",
       "      <td>Y</td>\n",
       "      <td>8.699515</td>\n",
       "      <td>4.948760</td>\n",
       "      <td>5.886104</td>\n",
       "      <td>0.840753</td>\n",
       "      <td>0.568855</td>\n",
       "      <td>1.0</td>\n",
       "      <td>0.0</td>\n",
       "      <td>1.0</td>\n",
       "      <td>0.0</td>\n",
       "      <td>0.0</td>\n",
       "      <td>0.0</td>\n",
       "      <td>1.0</td>\n",
       "      <td>0.0</td>\n",
       "      <td>0.0</td>\n",
       "      <td>0.0</td>\n",
       "      <td>1.0</td>\n",
       "    </tr>\n",
       "  </tbody>\n",
       "</table>\n",
       "</div>"
      ],
      "text/plain": [
       "   Credit_History   Loan_ID Loan_Status  Total_Income_log  LoanAmount_log  \\\n",
       "0             1.0  LP001002           Y          8.674026        4.841041   \n",
       "1             1.0  LP001003           N          8.714568        4.852030   \n",
       "2             1.0  LP001005           Y          8.006368        4.189655   \n",
       "3             1.0  LP001006           Y          8.505323        4.787492   \n",
       "4             1.0  LP001008           Y          8.699515        4.948760   \n",
       "\n",
       "   Loan_Amount_Term_log       EMI     Ratio  Married_0  Married_1  \\\n",
       "0              5.886104  0.822452  0.558108        1.0        0.0   \n",
       "1              5.886104  0.824319  0.556772        0.0        1.0   \n",
       "2              5.886104  0.711787  0.523290        0.0        1.0   \n",
       "3              5.886104  0.813355  0.562882        0.0        1.0   \n",
       "4              5.886104  0.840753  0.568855        1.0        0.0   \n",
       "\n",
       "   Dependents_0  Dependents_1  Dependents_2  Dependents_3  Education_0  \\\n",
       "0           1.0           0.0           0.0           0.0          1.0   \n",
       "1           0.0           1.0           0.0           0.0          1.0   \n",
       "2           1.0           0.0           0.0           0.0          1.0   \n",
       "3           1.0           0.0           0.0           0.0          0.0   \n",
       "4           1.0           0.0           0.0           0.0          1.0   \n",
       "\n",
       "   Education_1  Property_Area_0  Property_Area_1  Property_Area_2  \n",
       "0          0.0              0.0              0.0              1.0  \n",
       "1          0.0              1.0              0.0              0.0  \n",
       "2          0.0              0.0              0.0              1.0  \n",
       "3          1.0              0.0              0.0              1.0  \n",
       "4          0.0              0.0              0.0              1.0  "
      ]
     },
     "execution_count": 60,
     "metadata": {},
     "output_type": "execute_result"
    }
   ],
   "source": [
    "df.head()"
   ]
  },
  {
   "cell_type": "code",
   "execution_count": 61,
   "metadata": {
    "collapsed": false
   },
   "outputs": [
    {
     "data": {
      "text/html": [
       "<div>\n",
       "<table border=\"1\" class=\"dataframe\">\n",
       "  <thead>\n",
       "    <tr style=\"text-align: right;\">\n",
       "      <th></th>\n",
       "      <th>Credit_History</th>\n",
       "      <th>Total_Income_log</th>\n",
       "      <th>LoanAmount_log</th>\n",
       "      <th>Loan_Amount_Term_log</th>\n",
       "      <th>EMI</th>\n",
       "      <th>Ratio</th>\n",
       "      <th>Married_0</th>\n",
       "      <th>Married_1</th>\n",
       "      <th>Dependents_0</th>\n",
       "      <th>Dependents_1</th>\n",
       "      <th>Dependents_2</th>\n",
       "      <th>Dependents_3</th>\n",
       "      <th>Education_0</th>\n",
       "      <th>Education_1</th>\n",
       "      <th>Property_Area_0</th>\n",
       "      <th>Property_Area_1</th>\n",
       "      <th>Property_Area_2</th>\n",
       "    </tr>\n",
       "  </thead>\n",
       "  <tbody>\n",
       "    <tr>\n",
       "      <th>0</th>\n",
       "      <td>1.0</td>\n",
       "      <td>8.651724</td>\n",
       "      <td>4.841041</td>\n",
       "      <td>5.886104</td>\n",
       "      <td>0.822452</td>\n",
       "      <td>0.559546</td>\n",
       "      <td>0.0</td>\n",
       "      <td>1.0</td>\n",
       "      <td>1.0</td>\n",
       "      <td>0.0</td>\n",
       "      <td>0.0</td>\n",
       "      <td>0.0</td>\n",
       "      <td>1.0</td>\n",
       "      <td>0.0</td>\n",
       "      <td>0.0</td>\n",
       "      <td>0.0</td>\n",
       "      <td>1.0</td>\n",
       "    </tr>\n",
       "    <tr>\n",
       "      <th>1</th>\n",
       "      <td>1.0</td>\n",
       "      <td>8.428581</td>\n",
       "      <td>4.836282</td>\n",
       "      <td>5.886104</td>\n",
       "      <td>0.821644</td>\n",
       "      <td>0.573796</td>\n",
       "      <td>0.0</td>\n",
       "      <td>1.0</td>\n",
       "      <td>0.0</td>\n",
       "      <td>1.0</td>\n",
       "      <td>0.0</td>\n",
       "      <td>0.0</td>\n",
       "      <td>1.0</td>\n",
       "      <td>0.0</td>\n",
       "      <td>0.0</td>\n",
       "      <td>0.0</td>\n",
       "      <td>1.0</td>\n",
       "    </tr>\n",
       "    <tr>\n",
       "      <th>2</th>\n",
       "      <td>1.0</td>\n",
       "      <td>8.824678</td>\n",
       "      <td>5.337538</td>\n",
       "      <td>5.886104</td>\n",
       "      <td>0.906803</td>\n",
       "      <td>0.604842</td>\n",
       "      <td>0.0</td>\n",
       "      <td>1.0</td>\n",
       "      <td>0.0</td>\n",
       "      <td>0.0</td>\n",
       "      <td>1.0</td>\n",
       "      <td>0.0</td>\n",
       "      <td>1.0</td>\n",
       "      <td>0.0</td>\n",
       "      <td>0.0</td>\n",
       "      <td>0.0</td>\n",
       "      <td>1.0</td>\n",
       "    </tr>\n",
       "    <tr>\n",
       "      <th>3</th>\n",
       "      <td>1.0</td>\n",
       "      <td>8.494129</td>\n",
       "      <td>4.605170</td>\n",
       "      <td>5.886104</td>\n",
       "      <td>0.782380</td>\n",
       "      <td>0.542159</td>\n",
       "      <td>0.0</td>\n",
       "      <td>1.0</td>\n",
       "      <td>0.0</td>\n",
       "      <td>0.0</td>\n",
       "      <td>1.0</td>\n",
       "      <td>0.0</td>\n",
       "      <td>1.0</td>\n",
       "      <td>0.0</td>\n",
       "      <td>0.0</td>\n",
       "      <td>0.0</td>\n",
       "      <td>1.0</td>\n",
       "    </tr>\n",
       "    <tr>\n",
       "      <th>4</th>\n",
       "      <td>1.0</td>\n",
       "      <td>8.094378</td>\n",
       "      <td>4.356709</td>\n",
       "      <td>5.886104</td>\n",
       "      <td>0.740169</td>\n",
       "      <td>0.538239</td>\n",
       "      <td>1.0</td>\n",
       "      <td>0.0</td>\n",
       "      <td>1.0</td>\n",
       "      <td>0.0</td>\n",
       "      <td>0.0</td>\n",
       "      <td>0.0</td>\n",
       "      <td>0.0</td>\n",
       "      <td>1.0</td>\n",
       "      <td>0.0</td>\n",
       "      <td>0.0</td>\n",
       "      <td>1.0</td>\n",
       "    </tr>\n",
       "  </tbody>\n",
       "</table>\n",
       "</div>"
      ],
      "text/plain": [
       "   Credit_History  Total_Income_log  LoanAmount_log  Loan_Amount_Term_log  \\\n",
       "0             1.0          8.651724        4.841041              5.886104   \n",
       "1             1.0          8.428581        4.836282              5.886104   \n",
       "2             1.0          8.824678        5.337538              5.886104   \n",
       "3             1.0          8.494129        4.605170              5.886104   \n",
       "4             1.0          8.094378        4.356709              5.886104   \n",
       "\n",
       "        EMI     Ratio  Married_0  Married_1  Dependents_0  Dependents_1  \\\n",
       "0  0.822452  0.559546        0.0        1.0           1.0           0.0   \n",
       "1  0.821644  0.573796        0.0        1.0           0.0           1.0   \n",
       "2  0.906803  0.604842        0.0        1.0           0.0           0.0   \n",
       "3  0.782380  0.542159        0.0        1.0           0.0           0.0   \n",
       "4  0.740169  0.538239        1.0        0.0           1.0           0.0   \n",
       "\n",
       "   Dependents_2  Dependents_3  Education_0  Education_1  Property_Area_0  \\\n",
       "0           0.0           0.0          1.0          0.0              0.0   \n",
       "1           0.0           0.0          1.0          0.0              0.0   \n",
       "2           1.0           0.0          1.0          0.0              0.0   \n",
       "3           1.0           0.0          1.0          0.0              0.0   \n",
       "4           0.0           0.0          0.0          1.0              0.0   \n",
       "\n",
       "   Property_Area_1  Property_Area_2  \n",
       "0              0.0              1.0  \n",
       "1              0.0              1.0  \n",
       "2              0.0              1.0  \n",
       "3              0.0              1.0  \n",
       "4              0.0              1.0  "
      ]
     },
     "execution_count": 61,
     "metadata": {},
     "output_type": "execute_result"
    }
   ],
   "source": [
    "X_test = dtest.drop('Loan_ID',axis=1)\n",
    "X_test.head()"
   ]
  },
  {
   "cell_type": "code",
   "execution_count": 62,
   "metadata": {
    "collapsed": false
   },
   "outputs": [
    {
     "data": {
      "text/html": [
       "<div>\n",
       "<table border=\"1\" class=\"dataframe\">\n",
       "  <thead>\n",
       "    <tr style=\"text-align: right;\">\n",
       "      <th></th>\n",
       "      <th>Credit_History</th>\n",
       "      <th>Loan_ID</th>\n",
       "      <th>Loan_Status</th>\n",
       "      <th>Total_Income_log</th>\n",
       "      <th>LoanAmount_log</th>\n",
       "      <th>Loan_Amount_Term_log</th>\n",
       "      <th>EMI</th>\n",
       "      <th>Ratio</th>\n",
       "      <th>Married_0</th>\n",
       "      <th>Married_1</th>\n",
       "      <th>Dependents_0</th>\n",
       "      <th>Dependents_1</th>\n",
       "      <th>Dependents_2</th>\n",
       "      <th>Dependents_3</th>\n",
       "      <th>Education_0</th>\n",
       "      <th>Education_1</th>\n",
       "      <th>Property_Area_0</th>\n",
       "      <th>Property_Area_1</th>\n",
       "      <th>Property_Area_2</th>\n",
       "    </tr>\n",
       "  </thead>\n",
       "  <tbody>\n",
       "    <tr>\n",
       "      <th>0</th>\n",
       "      <td>1.0</td>\n",
       "      <td>LP001002</td>\n",
       "      <td>Y</td>\n",
       "      <td>8.674026</td>\n",
       "      <td>4.841041</td>\n",
       "      <td>5.886104</td>\n",
       "      <td>0.822452</td>\n",
       "      <td>0.558108</td>\n",
       "      <td>1.0</td>\n",
       "      <td>0.0</td>\n",
       "      <td>1.0</td>\n",
       "      <td>0.0</td>\n",
       "      <td>0.0</td>\n",
       "      <td>0.0</td>\n",
       "      <td>1.0</td>\n",
       "      <td>0.0</td>\n",
       "      <td>0.0</td>\n",
       "      <td>0.0</td>\n",
       "      <td>1.0</td>\n",
       "    </tr>\n",
       "    <tr>\n",
       "      <th>1</th>\n",
       "      <td>1.0</td>\n",
       "      <td>LP001003</td>\n",
       "      <td>N</td>\n",
       "      <td>8.714568</td>\n",
       "      <td>4.852030</td>\n",
       "      <td>5.886104</td>\n",
       "      <td>0.824319</td>\n",
       "      <td>0.556772</td>\n",
       "      <td>0.0</td>\n",
       "      <td>1.0</td>\n",
       "      <td>0.0</td>\n",
       "      <td>1.0</td>\n",
       "      <td>0.0</td>\n",
       "      <td>0.0</td>\n",
       "      <td>1.0</td>\n",
       "      <td>0.0</td>\n",
       "      <td>1.0</td>\n",
       "      <td>0.0</td>\n",
       "      <td>0.0</td>\n",
       "    </tr>\n",
       "    <tr>\n",
       "      <th>2</th>\n",
       "      <td>1.0</td>\n",
       "      <td>LP001005</td>\n",
       "      <td>Y</td>\n",
       "      <td>8.006368</td>\n",
       "      <td>4.189655</td>\n",
       "      <td>5.886104</td>\n",
       "      <td>0.711787</td>\n",
       "      <td>0.523290</td>\n",
       "      <td>0.0</td>\n",
       "      <td>1.0</td>\n",
       "      <td>1.0</td>\n",
       "      <td>0.0</td>\n",
       "      <td>0.0</td>\n",
       "      <td>0.0</td>\n",
       "      <td>1.0</td>\n",
       "      <td>0.0</td>\n",
       "      <td>0.0</td>\n",
       "      <td>0.0</td>\n",
       "      <td>1.0</td>\n",
       "    </tr>\n",
       "    <tr>\n",
       "      <th>3</th>\n",
       "      <td>1.0</td>\n",
       "      <td>LP001006</td>\n",
       "      <td>Y</td>\n",
       "      <td>8.505323</td>\n",
       "      <td>4.787492</td>\n",
       "      <td>5.886104</td>\n",
       "      <td>0.813355</td>\n",
       "      <td>0.562882</td>\n",
       "      <td>0.0</td>\n",
       "      <td>1.0</td>\n",
       "      <td>1.0</td>\n",
       "      <td>0.0</td>\n",
       "      <td>0.0</td>\n",
       "      <td>0.0</td>\n",
       "      <td>0.0</td>\n",
       "      <td>1.0</td>\n",
       "      <td>0.0</td>\n",
       "      <td>0.0</td>\n",
       "      <td>1.0</td>\n",
       "    </tr>\n",
       "    <tr>\n",
       "      <th>4</th>\n",
       "      <td>1.0</td>\n",
       "      <td>LP001008</td>\n",
       "      <td>Y</td>\n",
       "      <td>8.699515</td>\n",
       "      <td>4.948760</td>\n",
       "      <td>5.886104</td>\n",
       "      <td>0.840753</td>\n",
       "      <td>0.568855</td>\n",
       "      <td>1.0</td>\n",
       "      <td>0.0</td>\n",
       "      <td>1.0</td>\n",
       "      <td>0.0</td>\n",
       "      <td>0.0</td>\n",
       "      <td>0.0</td>\n",
       "      <td>1.0</td>\n",
       "      <td>0.0</td>\n",
       "      <td>0.0</td>\n",
       "      <td>0.0</td>\n",
       "      <td>1.0</td>\n",
       "    </tr>\n",
       "  </tbody>\n",
       "</table>\n",
       "</div>"
      ],
      "text/plain": [
       "   Credit_History   Loan_ID Loan_Status  Total_Income_log  LoanAmount_log  \\\n",
       "0             1.0  LP001002           Y          8.674026        4.841041   \n",
       "1             1.0  LP001003           N          8.714568        4.852030   \n",
       "2             1.0  LP001005           Y          8.006368        4.189655   \n",
       "3             1.0  LP001006           Y          8.505323        4.787492   \n",
       "4             1.0  LP001008           Y          8.699515        4.948760   \n",
       "\n",
       "   Loan_Amount_Term_log       EMI     Ratio  Married_0  Married_1  \\\n",
       "0              5.886104  0.822452  0.558108        1.0        0.0   \n",
       "1              5.886104  0.824319  0.556772        0.0        1.0   \n",
       "2              5.886104  0.711787  0.523290        0.0        1.0   \n",
       "3              5.886104  0.813355  0.562882        0.0        1.0   \n",
       "4              5.886104  0.840753  0.568855        1.0        0.0   \n",
       "\n",
       "   Dependents_0  Dependents_1  Dependents_2  Dependents_3  Education_0  \\\n",
       "0           1.0           0.0           0.0           0.0          1.0   \n",
       "1           0.0           1.0           0.0           0.0          1.0   \n",
       "2           1.0           0.0           0.0           0.0          1.0   \n",
       "3           1.0           0.0           0.0           0.0          0.0   \n",
       "4           1.0           0.0           0.0           0.0          1.0   \n",
       "\n",
       "   Education_1  Property_Area_0  Property_Area_1  Property_Area_2  \n",
       "0          0.0              0.0              0.0              1.0  \n",
       "1          0.0              1.0              0.0              0.0  \n",
       "2          0.0              0.0              0.0              1.0  \n",
       "3          1.0              0.0              0.0              1.0  \n",
       "4          0.0              0.0              0.0              1.0  "
      ]
     },
     "execution_count": 62,
     "metadata": {},
     "output_type": "execute_result"
    }
   ],
   "source": [
    "target = 'Loan_Status'\n",
    "IDcol = 'Loan_ID'\n",
    "df.head()"
   ]
  },
  {
   "cell_type": "code",
   "execution_count": 54,
   "metadata": {
    "collapsed": false
   },
   "outputs": [
    {
     "name": "stdout",
     "output_type": "stream",
     "text": [
      "LR: 0.809446 (0.033496)\n",
      "LDA: 0.807806 (0.034153)\n",
      "KNN: 0.760578 (0.042557)\n",
      "CART: 0.708535 (0.033125)\n",
      "NB: 0.796383 (0.035339)\n"
     ]
    },
    {
     "name": "stderr",
     "output_type": "stream",
     "text": [
      "C:\\Anaconda3\\lib\\site-packages\\sklearn\\discriminant_analysis.py:387: UserWarning: Variables are collinear.\n",
      "  warnings.warn(\"Variables are collinear.\")\n",
      "C:\\Anaconda3\\lib\\site-packages\\sklearn\\discriminant_analysis.py:387: UserWarning: Variables are collinear.\n",
      "  warnings.warn(\"Variables are collinear.\")\n",
      "C:\\Anaconda3\\lib\\site-packages\\sklearn\\discriminant_analysis.py:387: UserWarning: Variables are collinear.\n",
      "  warnings.warn(\"Variables are collinear.\")\n",
      "C:\\Anaconda3\\lib\\site-packages\\sklearn\\discriminant_analysis.py:387: UserWarning: Variables are collinear.\n",
      "  warnings.warn(\"Variables are collinear.\")\n",
      "C:\\Anaconda3\\lib\\site-packages\\sklearn\\discriminant_analysis.py:387: UserWarning: Variables are collinear.\n",
      "  warnings.warn(\"Variables are collinear.\")\n",
      "C:\\Anaconda3\\lib\\site-packages\\sklearn\\discriminant_analysis.py:387: UserWarning: Variables are collinear.\n",
      "  warnings.warn(\"Variables are collinear.\")\n",
      "C:\\Anaconda3\\lib\\site-packages\\sklearn\\discriminant_analysis.py:387: UserWarning: Variables are collinear.\n",
      "  warnings.warn(\"Variables are collinear.\")\n",
      "C:\\Anaconda3\\lib\\site-packages\\sklearn\\discriminant_analysis.py:387: UserWarning: Variables are collinear.\n",
      "  warnings.warn(\"Variables are collinear.\")\n",
      "C:\\Anaconda3\\lib\\site-packages\\sklearn\\discriminant_analysis.py:387: UserWarning: Variables are collinear.\n",
      "  warnings.warn(\"Variables are collinear.\")\n",
      "C:\\Anaconda3\\lib\\site-packages\\sklearn\\discriminant_analysis.py:387: UserWarning: Variables are collinear.\n",
      "  warnings.warn(\"Variables are collinear.\")\n"
     ]
    },
    {
     "name": "stdout",
     "output_type": "stream",
     "text": [
      "SVM: 0.809446 (0.033496)\n",
      "GBM: 0.807963 (0.035521)\n"
     ]
    }
   ],
   "source": [
    "from sklearn.linear_model import LogisticRegression\n",
    "from sklearn.discriminant_analysis import LinearDiscriminantAnalysis\n",
    "from sklearn.neighbors import KNeighborsClassifier\n",
    "from sklearn.tree import DecisionTreeClassifier\n",
    "from sklearn.naive_bayes import GaussianNB\n",
    "from sklearn.svm import SVC\n",
    "\n",
    "from pandas.tools.plotting import scatter_matrix\n",
    "import matplotlib.pyplot as plt\n",
    "from sklearn import cross_validation\n",
    "from sklearn.metrics import classification_report\n",
    "from sklearn.metrics import confusion_matrix\n",
    "models = []\n",
    "models.append(('LR',LogisticRegression()))\n",
    "models.append(('LDA',LinearDiscriminantAnalysis()))\n",
    "models.append(('KNN',KNeighborsClassifier()))\n",
    "models.append(('CART',DecisionTreeClassifier()))\n",
    "models.append(('NB',GaussianNB()))\n",
    "models.append(('SVM',SVC()))\n",
    "models.append(('GBM',GradientBoostingClassifier(learning_rate =0.1,random_state=10,subsample=0.8,n_estimators=20,max_features=3,\n",
    "                                 max_depth=5,min_samples_leaf=13,min_samples_split=50)))\n",
    "predictors = [x for x in df.columns if x not in [target, IDcol]]\n",
    "#Evaluate each model\n",
    "results = []\n",
    "names = []\n",
    "for name,model in models:\n",
    "    #kfold = model_selection.KFold(n_splits=10,random_state=7)\n",
    "    cv_results = cross_validation.cross_val_score(model,df[predictors],df['Loan_Status'],cv=10,scoring='accuracy')\n",
    "    results.append(cv_results)\n",
    "    names.append(name)\n",
    "    msg = \"%s: %f (%f)\" % (name, cv_results.mean(), cv_results.std())\n",
    "    print(msg)"
   ]
  },
  {
   "cell_type": "code",
   "execution_count": 63,
   "metadata": {
    "collapsed": false
   },
   "outputs": [
    {
     "name": "stdout",
     "output_type": "stream",
     "text": [
      "{'verbose': 0, 'max_features': 3, 'n_estimators': 20, 'presort': 'auto', 'min_samples_leaf': 13, 'learning_rate': 0.1, 'max_leaf_nodes': None, 'init': None, 'min_samples_split': 50, 'max_depth': 5, 'loss': 'deviance', 'warm_start': False, 'random_state': 10, 'min_weight_fraction_leaf': 0.0, 'subsample': 0.8}\n"
     ]
    },
    {
     "data": {
      "text/plain": [
       "0.81596091205211729"
      ]
     },
     "execution_count": 63,
     "metadata": {},
     "output_type": "execute_result"
    }
   ],
   "source": [
    "from sklearn.linear_model import LogisticRegression\n",
    "predictors = [x for x in df.columns if x not in [target, IDcol]]\n",
    "#logReg = LogisticRegression(fit_intercept = False,C = 1e9)\n",
    "#logReg = LogisticRegression(fit_intercept = False,C=0.01, tol=0.00001)\n",
    "logReg = GradientBoostingClassifier(learning_rate =0.1,random_state=10,subsample=0.8,n_estimators=20,max_features=3,\n",
    "                                 max_depth=5,min_samples_leaf=13,min_samples_split=50)\n",
    "logReg.fit(df[predictors],df['Loan_Status'])\n",
    "#print(logReg.coef_)\n",
    "print(logReg.get_params())\n",
    "dtrain_predictions = logReg.predict(X_test)\n",
    "logReg.score(df[predictors],df['Loan_Status'])"
   ]
  },
  {
   "cell_type": "code",
   "execution_count": 64,
   "metadata": {
    "collapsed": false
   },
   "outputs": [],
   "source": [
    "submission = pd.DataFrame({\n",
    "        'Loan_ID':dtest['Loan_ID'],\n",
    "        'Loan_Status':dtrain_predictions\n",
    "    })\n",
    "submission.to_csv('Loan_Prediction.csv',index=False)"
   ]
  },
  {
   "cell_type": "code",
   "execution_count": 9,
   "metadata": {
    "collapsed": false
   },
   "outputs": [
    {
     "data": {
      "image/png": "[encoded data removed]",
      "text/plain": [
       "<matplotlib.figure.Figure at 0x20fd8dbdd68>"
      ]
     },
     "metadata": {},
     "output_type": "display_data"
    },
    {
     "data": {
      "image/png": "[encoded data removed]",
      "text/plain": [
       "<matplotlib.figure.Figure at 0x20fda0e83c8>"
      ]
     },
     "metadata": {},
     "output_type": "display_data"
    }
   ],
   "source": [
    "from sklearn.feature_selection import SelectKBest\n",
    "from sklearn.feature_selection import chi2,f_classif\n",
    "sel1 = SelectKBest(chi2, k=10)\n",
    "sel1.fit_transform(df[predictors],df['Loan_Status'])\n",
    "\n",
    "# Perform feature selection\n",
    "#selector = SelectKBest(f_classif, k=5)\n",
    "#selector.fit(titanic[predictors], titanic[\"Survived\"])\n",
    "\n",
    "# Get the raw p-values for each feature, and transform from p-values into scores\n",
    "scores1 = -np.log10(sel1.pvalues_)\n",
    "\n",
    "# Plot the scores.  See how \"Pclass\", \"Sex\", \"Title\", and \"Fare\" are the best?\n",
    "plt.bar(range(len(predictors)), scores1)\n",
    "plt.xticks(range(len(predictors)), predictors, rotation='vertical')\n",
    "plt.show()\n",
    "\n",
    "sel2 = SelectKBest(f_classif, k=10)\n",
    "sel2.fit_transform(df[predictors],df['Loan_Status'])\n",
    "\n",
    "# Perform feature selection\n",
    "#selector = SelectKBest(f_classif, k=5)\n",
    "#selector.fit(titanic[predictors], titanic[\"Survived\"])\n",
    "\n",
    "# Get the raw p-values for each feature, and transform from p-values into scores\n",
    "scores2 = -np.log10(sel2.pvalues_)\n",
    "\n",
    "# Plot the scores.  See how \"Pclass\", \"Sex\", \"Title\", and \"Fare\" are the best?\n",
    "plt.bar(range(len(predictors)), scores2)\n",
    "plt.xticks(range(len(predictors)), predictors, rotation='vertical')\n",
    "plt.show()"
   ]
  },
  {
   "cell_type": "code",
   "execution_count": 10,
   "metadata": {
    "collapsed": false
   },
   "outputs": [],
   "source": [
    "################## LIBRARIES ###################\n",
    "import pandas as pd\n",
    "import numpy as np\n",
    "import xgboost as xgb\n",
    "\n",
    "################ dataset load ###################\n",
    "# train_data_df = pd.read_csv('train_modified27jan.csv')\n",
    "# test_data_df = pd.read_csv('test_modified27jan.csv')\n",
    "\n",
    "# output = pd.Series(df.Loan_Status, dtype=\"float\")\n",
    "# train_data_df = df.drop('Loan_Status',1)\n",
    "# train_data_df = df.drop('Loan_ID',1)\n",
    "\n",
    "# id = dtest.Loan_ID\n",
    "# test_data_df = dtest.drop('Loan_ID',1)\n",
    "\n",
    "# test_data_df = test_data_df.astype('float')\n",
    "# train_data_df.head()\n",
    "# train_data_df = train_data_df.astype('float')\n",
    "\n",
    "\n",
    "# xgb_tr = xgb.DMatrix(train_data_df, label=output, missing=np.NaN)\n",
    "# xgb_ts = xgb.DMatrix(test_data_df, missing=np.NaN)\n",
    "\n",
    "############## Prediction model #################\n",
    "# param = {}\n",
    "# param['objective'] = 'binary:logitraw'\n",
    "# param['eta'] = 0.1\n",
    "# param['max_delta_step'] = 1000\n",
    "# param['max_depth'] = 5\n",
    "\n",
    "# param['lambda']=0.001\n",
    "# param['subsample'] = 0.85\n",
    "\n",
    "# param['gamma'] = 1\n",
    "# param['min_child_weight'] = 17\n",
    "# num_round = 2000\n",
    "\n",
    "# gbm = xgb.train(param,xgb_tr,num_round)\n",
    "# test_pred = gbm.predict(xgb_ts)\n",
    "\n",
    "\n",
    "# f = open(\"submission.csv\",\"w\")\n",
    "# f.write(\"Loan_ID,Loan_Status\\n\")\n",
    "# for i in range(len(test_pred)):\n",
    "#     if test_pred[i]<=0:\n",
    "#         a = \"N\"\n",
    "#     else:\n",
    "#         a = \"Y\"\n",
    "# f.write(str(id[i])+\",\"+a)\n",
    "# f.write(\"\\n\")"
   ]
  },
  {
   "cell_type": "markdown",
   "metadata": {},
   "source": [
    "## Cross Validation"
   ]
  },
  {
   "cell_type": "code",
   "execution_count": 11,
   "metadata": {
    "collapsed": false
   },
   "outputs": [
    {
     "name": "stdout",
     "output_type": "stream",
     "text": [
      "[ 0.73015873  0.79365079  0.70491803  0.70491803  0.81967213  0.80327869\n",
      "  0.81967213  0.73770492  0.75409836  0.73770492]\n"
     ]
    }
   ],
   "source": [
    "from sklearn.neighbors import KNeighborsClassifier\n",
    "from sklearn.cross_validation import cross_val_score\n",
    "\n",
    "knn = KNeighborsClassifier(n_neighbors=5)\n",
    "scores = cross_val_score(knn,df[predictors],df['Loan_Status'],cv=10,scoring='accuracy')\n",
    "print(scores)"
   ]
  },
  {
   "cell_type": "code",
   "execution_count": 12,
   "metadata": {
    "collapsed": false
   },
   "outputs": [
    {
     "name": "stdout",
     "output_type": "stream",
     "text": [
      "0.760577673692\n"
     ]
    }
   ],
   "source": [
    "print(scores.mean())"
   ]
  },
  {
   "cell_type": "code",
   "execution_count": 13,
   "metadata": {
    "collapsed": false
   },
   "outputs": [
    {
     "name": "stdout",
     "output_type": "stream",
     "text": [
      "[0.69372885766328396, 0.64342961228207129, 0.75586781160551664, 0.71001821493624773, 0.7605776736924279, 0.74100962789487379, 0.71017434296122828, 0.71514441842310694, 0.71837106427270359]\n"
     ]
    }
   ],
   "source": [
    "k_range = range(1,10)\n",
    "k_scores = []\n",
    "for k in k_range:\n",
    "    knn = KNeighborsClassifier(n_neighbors=k)\n",
    "    scores = cross_val_score(knn,df[predictors],df['Loan_Status'],cv=10,scoring='accuracy')\n",
    "    k_scores.append(scores.mean())\n",
    "print(k_scores)    \n",
    "    "
   ]
  },
  {
   "cell_type": "code",
   "execution_count": 14,
   "metadata": {
    "collapsed": false
   },
   "outputs": [
    {
     "data": {
      "text/plain": [
       "[<matplotlib.lines.Line2D at 0x20fd8f37f28>]"
      ]
     },
     "execution_count": 14,
     "metadata": {},
     "output_type": "execute_result"
    },
    {
     "data": {
      "image/png": "[encoded data removed]",
      "text/plain": [
       "<matplotlib.figure.Figure at 0x20fda1c9160>"
      ]
     },
     "metadata": {},
     "output_type": "display_data"
    }
   ],
   "source": [
    "plt.plot(k_range,k_scores)"
   ]
  },
  {
   "cell_type": "markdown",
   "metadata": {},
   "source": [
    "## GridSearchCV"
   ]
  },
  {
   "cell_type": "code",
   "execution_count": 15,
   "metadata": {
    "collapsed": false
   },
   "outputs": [
    {
     "name": "stdout",
     "output_type": "stream",
     "text": [
      "[1, 2, 3, 4, 5, 6, 7, 8, 9, 10]\n"
     ]
    }
   ],
   "source": [
    "from sklearn.grid_search import GridSearchCV\n",
    "k_range = list(range(1,11))\n",
    "print(k_range)"
   ]
  },
  {
   "cell_type": "code",
   "execution_count": 16,
   "metadata": {
    "collapsed": false
   },
   "outputs": [
    {
     "name": "stdout",
     "output_type": "stream",
     "text": [
      "{'n_neighbors': [1, 2, 3, 4, 5, 6, 7, 8, 9, 10]}\n"
     ]
    }
   ],
   "source": [
    "param_grid = dict(n_neighbors=k_range)\n",
    "print(param_grid)"
   ]
  },
  {
   "cell_type": "code",
   "execution_count": 17,
   "metadata": {
    "collapsed": true
   },
   "outputs": [],
   "source": [
    "grid = GridSearchCV(knn,param_grid,cv=10,scoring='accuracy')"
   ]
  },
  {
   "cell_type": "code",
   "execution_count": 18,
   "metadata": {
    "collapsed": false
   },
   "outputs": [
    {
     "data": {
      "text/plain": [
       "GridSearchCV(cv=10, error_score='raise',\n",
       "       estimator=KNeighborsClassifier(algorithm='auto', leaf_size=30, metric='minkowski',\n",
       "           metric_params=None, n_jobs=1, n_neighbors=9, p=2,\n",
       "           weights='uniform'),\n",
       "       fit_params={}, iid=True, n_jobs=1,\n",
       "       param_grid={'n_neighbors': [1, 2, 3, 4, 5, 6, 7, 8, 9, 10]},\n",
       "       pre_dispatch='2*n_jobs', refit=True, scoring='accuracy', verbose=0)"
      ]
     },
     "execution_count": 18,
     "metadata": {},
     "output_type": "execute_result"
    }
   ],
   "source": [
    "grid.fit(df[predictors],df['Loan_Status'])"
   ]
  },
  {
   "cell_type": "code",
   "execution_count": 19,
   "metadata": {
    "collapsed": false
   },
   "outputs": [
    {
     "data": {
      "text/plain": [
       "[mean: 0.69381, std: 0.03442, params: {'n_neighbors': 1},\n",
       " mean: 0.64332, std: 0.04467, params: {'n_neighbors': 2},\n",
       " mean: 0.75570, std: 0.02541, params: {'n_neighbors': 3},\n",
       " mean: 0.71010, std: 0.04032, params: {'n_neighbors': 4},\n",
       " mean: 0.76059, std: 0.04256, params: {'n_neighbors': 5},\n",
       " mean: 0.74104, std: 0.04183, params: {'n_neighbors': 6},\n",
       " mean: 0.71010, std: 0.02805, params: {'n_neighbors': 7},\n",
       " mean: 0.71498, std: 0.03029, params: {'n_neighbors': 8},\n",
       " mean: 0.71824, std: 0.03256, params: {'n_neighbors': 9},\n",
       " mean: 0.71498, std: 0.03245, params: {'n_neighbors': 10}]"
      ]
     },
     "execution_count": 19,
     "metadata": {},
     "output_type": "execute_result"
    }
   ],
   "source": [
    "grid.grid_scores_"
   ]
  },
  {
   "cell_type": "code",
   "execution_count": 20,
   "metadata": {
    "collapsed": false
   },
   "outputs": [
    {
     "name": "stdout",
     "output_type": "stream",
     "text": [
      "{'n_neighbors': 1}\n",
      "[ 0.66666667  0.74603175  0.63934426  0.67213115  0.6557377   0.73770492\n",
      "  0.72131148  0.72131148  0.68852459  0.68852459]\n",
      "0.693811074919\n"
     ]
    }
   ],
   "source": [
    "print(grid.grid_scores_[0].parameters)\n",
    "print(grid.grid_scores_[0].cv_validation_scores)\n",
    "print(grid.grid_scores_[0].mean_validation_score)"
   ]
  },
  {
   "cell_type": "code",
   "execution_count": 21,
   "metadata": {
    "collapsed": false
   },
   "outputs": [
    {
     "name": "stdout",
     "output_type": "stream",
     "text": [
      "[0.69381107491856675, 0.64332247557003253, 0.75570032573289903, 0.71009771986970682, 0.76058631921824105, 0.74104234527687296, 0.71009771986970682, 0.71498371335504884, 0.71824104234527686, 0.71498371335504884]\n"
     ]
    }
   ],
   "source": [
    "grid_mean_score = [result.mean_validation_score for result in grid.grid_scores_]\n",
    "print(grid_mean_score)"
   ]
  },
  {
   "cell_type": "code",
   "execution_count": 22,
   "metadata": {
    "collapsed": false
   },
   "outputs": [
    {
     "data": {
      "text/plain": [
       "[<matplotlib.lines.Line2D at 0x20fda2238d0>]"
      ]
     },
     "execution_count": 22,
     "metadata": {},
     "output_type": "execute_result"
    },
    {
     "data": {
      "image/png": "[encoded data removed]",
      "text/plain": [
       "<matplotlib.figure.Figure at 0x20fda1e1d30>"
      ]
     },
     "metadata": {},
     "output_type": "display_data"
    }
   ],
   "source": [
    "plt.plot(k_range,grid_mean_score)"
   ]
  },
  {
   "cell_type": "code",
   "execution_count": 23,
   "metadata": {
    "collapsed": false
   },
   "outputs": [
    {
     "name": "stdout",
     "output_type": "stream",
     "text": [
      "0.760586319218\n",
      "{'n_neighbors': 5}\n",
      "KNeighborsClassifier(algorithm='auto', leaf_size=30, metric='minkowski',\n",
      "           metric_params=None, n_jobs=1, n_neighbors=5, p=2,\n",
      "           weights='uniform')\n"
     ]
    }
   ],
   "source": [
    "print(grid.best_score_)\n",
    "print(grid.best_params_)\n",
    "print(grid.best_estimator_)"
   ]
  },
  {
   "cell_type": "code",
   "execution_count": 24,
   "metadata": {
    "collapsed": false
   },
   "outputs": [
    {
     "name": "stdout",
     "output_type": "stream",
     "text": [
      "0.760586319218\n",
      "{'n_neighbors': 5}\n",
      "KNeighborsClassifier(algorithm='auto', leaf_size=30, metric='minkowski',\n",
      "           metric_params=None, n_jobs=1, n_neighbors=5, p=2,\n",
      "           weights='uniform')\n"
     ]
    }
   ],
   "source": [
    "weight_options = ['uniform','distance']\n",
    "param_grid1 = dict(n_neighbors=k_range,weights=weight_options)\n",
    "\n",
    "grid1 = GridSearchCV(knn,param_grid1,cv=10,scoring='accuracy')\n",
    "grid1.fit(df[predictors],df['Loan_Status'])\n",
    "# print(grid1.grid_scores_)\n",
    "print(grid.best_score_)\n",
    "print(grid.best_params_)\n",
    "print(grid.best_estimator_)"
   ]
  },
  {
   "cell_type": "code",
   "execution_count": 25,
   "metadata": {
    "collapsed": true
   },
   "outputs": [],
   "source": [
    "knn = KNeighborsClassifier(n_neighbors=5,weights='uniform')\n",
    "knn.fit(df[predictors],df['Loan_Status'])\n",
    "dtrain_predictions = knn.predict(X_test)"
   ]
  },
  {
   "cell_type": "markdown",
   "metadata": {},
   "source": [
    "## RandomizedSearch CV"
   ]
  },
  {
   "cell_type": "code",
   "execution_count": 26,
   "metadata": {
    "collapsed": false
   },
   "outputs": [
    {
     "data": {
      "text/plain": [
       "[mean: 0.70847, std: 0.00431, params: {'n_neighbors': 1},\n",
       " mean: 0.65472, std: 0.00963, params: {'n_neighbors': 2},\n",
       " mean: 0.73616, std: 0.02209, params: {'n_neighbors': 3},\n",
       " mean: 0.70684, std: 0.02465, params: {'n_neighbors': 4},\n",
       " mean: 0.72150, std: 0.01453, params: {'n_neighbors': 5},\n",
       " mean: 0.70521, std: 0.04145, params: {'n_neighbors': 6},\n",
       " mean: 0.70358, std: 0.02008, params: {'n_neighbors': 7},\n",
       " mean: 0.71173, std: 0.02833, params: {'n_neighbors': 8},\n",
       " mean: 0.71498, std: 0.00877, params: {'n_neighbors': 9},\n",
       " mean: 0.72476, std: 0.00876, params: {'n_neighbors': 10}]"
      ]
     },
     "execution_count": 26,
     "metadata": {},
     "output_type": "execute_result"
    }
   ],
   "source": [
    "from sklearn.grid_search import RandomizedSearchCV\n",
    "\n",
    "grid_param = dict(n_neignbors=k_range,weights=weight_options)\n",
    "rand = RandomizedSearchCV(knn,param_grid,n_iter=10,random_state=5,scoring='accuracy')\n",
    "rand.fit(df[predictors],df['Loan_Status'])\n",
    "rand.grid_scores_"
   ]
  },
  {
   "cell_type": "code",
   "execution_count": 27,
   "metadata": {
    "collapsed": false
   },
   "outputs": [
    {
     "data": {
      "text/plain": [
       "0.73615635179153094"
      ]
     },
     "execution_count": 27,
     "metadata": {},
     "output_type": "execute_result"
    }
   ],
   "source": [
    "rand.best_score_"
   ]
  },
  {
   "cell_type": "code",
   "execution_count": 28,
   "metadata": {
    "collapsed": false
   },
   "outputs": [
    {
     "name": "stdout",
     "output_type": "stream",
     "text": [
      "0.831168831169\n"
     ]
    }
   ],
   "source": [
    "from sklearn.cross_validation import train_test_split\n",
    "from sklearn import metrics\n",
    "X_train,X_test,Y_train,Y_test = train_test_split(df[predictors],df['Loan_Status'],random_state=0)\n",
    "from sklearn.linear_model import LogisticRegression\n",
    "logReg = LogisticRegression()\n",
    "logReg.fit(X_train,Y_train)\n",
    "Y_pred_class = logReg.predict(X_test)\n",
    "print(metrics.accuracy_score(Y_pred_class,Y_test))\n",
    "# dtrain_predictions"
   ]
  },
  {
   "cell_type": "code",
   "execution_count": 29,
   "metadata": {
    "collapsed": false
   },
   "outputs": [],
   "source": [
    "from sklearn.preprocessing import LabelBinarizer\n",
    "lb = LabelBinarizer()\n",
    "Y_pred_class = np.array([number[0] for number in lb.fit_transform(Y_pred_class)])\n",
    "Y_test = np.array([number[0] for number in lb.fit_transform(Y_test.values)])"
   ]
  },
  {
   "cell_type": "code",
   "execution_count": 30,
   "metadata": {
    "collapsed": false
   },
   "outputs": [
    {
     "name": "stdout",
     "output_type": "stream",
     "text": [
      "True: [1 0 1 0 1 0 1 1 0 1 1 1 1 1 1 0 0 1]\n",
      "Pred: [1 1 1 1 1 0 1 1 0 1 1 1 1 1 1 1 1 1]\n"
     ]
    }
   ],
   "source": [
    "print('True:',Y_test[0:18])\n",
    "print('Pred:',Y_pred_class[0:18])"
   ]
  },
  {
   "cell_type": "code",
   "execution_count": 31,
   "metadata": {
    "collapsed": false
   },
   "outputs": [
    {
     "name": "stdout",
     "output_type": "stream",
     "text": [
      "[[ 19  24]\n",
      " [  2 109]]\n"
     ]
    }
   ],
   "source": [
    "print(metrics.confusion_matrix(Y_test,Y_pred_class))"
   ]
  },
  {
   "cell_type": "code",
   "execution_count": 32,
   "metadata": {
    "collapsed": false
   },
   "outputs": [],
   "source": [
    "confusion = metrics.confusion_matrix(Y_test,Y_pred_class)\n",
    "TP = confusion[1, 1]\n",
    "TN = confusion[0, 0]\n",
    "FP = confusion[0, 1]\n",
    "FN = confusion[1, 0]"
   ]
  },
  {
   "cell_type": "code",
   "execution_count": 33,
   "metadata": {
    "collapsed": false
   },
   "outputs": [
    {
     "data": {
      "text/plain": [
       "array([[ 19,  24],\n",
       "       [  2, 109]])"
      ]
     },
     "execution_count": 33,
     "metadata": {},
     "output_type": "execute_result"
    }
   ],
   "source": [
    "confusion"
   ]
  },
  {
   "cell_type": "code",
   "execution_count": 34,
   "metadata": {
    "collapsed": false,
    "scrolled": true
   },
   "outputs": [
    {
     "name": "stdout",
     "output_type": "stream",
     "text": [
      "0.831168831169\n"
     ]
    }
   ],
   "source": [
    "#Classification Accuracy\n",
    "print(metrics.accuracy_score(Y_test, Y_pred_class))"
   ]
  },
  {
   "cell_type": "code",
   "execution_count": 35,
   "metadata": {
    "collapsed": false
   },
   "outputs": [
    {
     "name": "stdout",
     "output_type": "stream",
     "text": [
      "0.168831168831\n"
     ]
    }
   ],
   "source": [
    "#Classification Error or Mis-Classfication Rate\n",
    "print(1-metrics.accuracy_score(Y_test,Y_pred_class))"
   ]
  },
  {
   "cell_type": "code",
   "execution_count": 36,
   "metadata": {
    "collapsed": false
   },
   "outputs": [
    {
     "name": "stdout",
     "output_type": "stream",
     "text": [
      "0.981981981982\n"
     ]
    }
   ],
   "source": [
    "#Sensitivity or Recall Score\n",
    "print(metrics.recall_score(Y_test,Y_pred_class))"
   ]
  },
  {
   "cell_type": "code",
   "execution_count": 37,
   "metadata": {
    "collapsed": false
   },
   "outputs": [
    {
     "name": "stdout",
     "output_type": "stream",
     "text": [
      "0.441860465116\n"
     ]
    }
   ],
   "source": [
    "print(TN / float(TN + FP))"
   ]
  },
  {
   "cell_type": "code",
   "execution_count": 38,
   "metadata": {
    "collapsed": false
   },
   "outputs": [
    {
     "name": "stdout",
     "output_type": "stream",
     "text": [
      "0.81954887218\n"
     ]
    }
   ],
   "source": [
    "#Precision Score\n",
    "print(metrics.precision_score(Y_test, Y_pred_class))"
   ]
  },
  {
   "cell_type": "code",
   "execution_count": 39,
   "metadata": {
    "collapsed": false
   },
   "outputs": [],
   "source": [
    "from sklearn.preprocessing import LabelBinarizer\n",
    "lb = LabelBinarizer()\n",
    "output = logReg.predict(X_test)\n",
    "output = np.array([number[0] for number in lb.fit_transform(output)])"
   ]
  },
  {
   "cell_type": "code",
   "execution_count": 40,
   "metadata": {
    "collapsed": false
   },
   "outputs": [
    {
     "data": {
      "text/plain": [
       "array(['Y', 'Y', 'Y', 'Y', 'Y', 'N', 'Y', 'Y', 'N', 'Y'], dtype=object)"
      ]
     },
     "execution_count": 40,
     "metadata": {},
     "output_type": "execute_result"
    }
   ],
   "source": [
    "logReg.predict(X_test)[0:10]"
   ]
  },
  {
   "cell_type": "code",
   "execution_count": 41,
   "metadata": {
    "collapsed": false
   },
   "outputs": [
    {
     "data": {
      "text/plain": [
       "array([[ 0.14741726,  0.85258274],\n",
       "       [ 0.18064892,  0.81935108],\n",
       "       [ 0.2857006 ,  0.7142994 ],\n",
       "       [ 0.19116099,  0.80883901],\n",
       "       [ 0.10538011,  0.89461989],\n",
       "       [ 0.9386379 ,  0.0613621 ],\n",
       "       [ 0.2065344 ,  0.7934656 ],\n",
       "       [ 0.2702124 ,  0.7297876 ],\n",
       "       [ 0.91904985,  0.08095015],\n",
       "       [ 0.14212121,  0.85787879]])"
      ]
     },
     "execution_count": 41,
     "metadata": {},
     "output_type": "execute_result"
    }
   ],
   "source": [
    "logReg.predict_proba(X_test)[0:10, :]"
   ]
  },
  {
   "cell_type": "code",
   "execution_count": 42,
   "metadata": {
    "collapsed": false
   },
   "outputs": [
    {
     "data": {
      "text/plain": [
       "array([ 0.85258274,  0.81935108,  0.7142994 ,  0.80883901,  0.89461989,\n",
       "        0.0613621 ,  0.7934656 ,  0.7297876 ,  0.08095015,  0.85787879])"
      ]
     },
     "execution_count": 42,
     "metadata": {},
     "output_type": "execute_result"
    }
   ],
   "source": [
    "# print the first 10 predicted probabilities for class 1\n",
    "# print the first 10 predicted probabilities for class 1\n",
    "logReg.predict_proba(X_test)[0:10, 1]"
   ]
  },
  {
   "cell_type": "code",
   "execution_count": 43,
   "metadata": {
    "collapsed": true
   },
   "outputs": [],
   "source": [
    "Y_pred_prob = logReg.predict_proba(X_test)[:, 1]"
   ]
  },
  {
   "cell_type": "code",
   "execution_count": 44,
   "metadata": {
    "collapsed": true
   },
   "outputs": [],
   "source": [
    "\n",
    "# allow plots to appear in the notebook\n",
    "%matplotlib inline\n",
    "import matplotlib.pyplot as plt\n",
    "plt.rcParams['font.size'] = 14"
   ]
  },
  {
   "cell_type": "code",
   "execution_count": 45,
   "metadata": {
    "collapsed": false
   },
   "outputs": [
    {
     "data": {
      "text/plain": [
       "<matplotlib.text.Text at 0x20fda265278>"
      ]
     },
     "execution_count": 45,
     "metadata": {},
     "output_type": "execute_result"
    },
    {
     "data": {
      "image/png": "[encoded data removed]",
      "text/plain": [
       "<matplotlib.figure.Figure at 0x20fda261668>"
      ]
     },
     "metadata": {},
     "output_type": "display_data"
    }
   ],
   "source": [
    "# histogram of predicted probabilities\n",
    "plt.hist(Y_pred_prob, bins=8)\n",
    "plt.xlim(0, 1)\n",
    "plt.title('Histogram of predicted probabilities')\n",
    "plt.xlabel('Predicted probability of Loan')\n",
    "plt.ylabel('Frequency')"
   ]
  },
  {
   "cell_type": "code",
   "execution_count": 46,
   "metadata": {
    "collapsed": false
   },
   "outputs": [],
   "source": [
    "# predict diabetes if the predicted probability is greater than 0.3\n",
    "from sklearn.preprocessing import binarize\n",
    "Y_pred_class = binarize([Y_pred_prob], 0.7)[0]"
   ]
  },
  {
   "cell_type": "code",
   "execution_count": 47,
   "metadata": {
    "collapsed": false
   },
   "outputs": [
    {
     "data": {
      "text/plain": [
       "array([ 0.85258274,  0.81935108,  0.7142994 ,  0.80883901,  0.89461989,\n",
       "        0.0613621 ,  0.7934656 ,  0.7297876 ,  0.08095015,  0.85787879])"
      ]
     },
     "execution_count": 47,
     "metadata": {},
     "output_type": "execute_result"
    }
   ],
   "source": [
    "# print the first 10 predicted probabilities\n",
    "Y_pred_prob[0:10]"
   ]
  },
  {
   "cell_type": "code",
   "execution_count": 48,
   "metadata": {
    "collapsed": false
   },
   "outputs": [
    {
     "data": {
      "text/plain": [
       "array([ 1.,  1.,  1.,  1.,  1.,  0.,  1.,  1.,  0.,  1.])"
      ]
     },
     "execution_count": 48,
     "metadata": {},
     "output_type": "execute_result"
    }
   ],
   "source": [
    "\n",
    "# print the first 10 predicted classes with the lower threshold\n",
    "Y_pred_class[0:10]"
   ]
  },
  {
   "cell_type": "code",
   "execution_count": 49,
   "metadata": {
    "collapsed": false
   },
   "outputs": [
    {
     "name": "stdout",
     "output_type": "stream",
     "text": [
      "[[ 19  24]\n",
      " [  2 109]]\n"
     ]
    }
   ],
   "source": [
    "# previous confusion matrix (default threshold of 0.5)\n",
    "print(confusion)"
   ]
  },
  {
   "cell_type": "code",
   "execution_count": 50,
   "metadata": {
    "collapsed": false
   },
   "outputs": [
    {
     "name": "stdout",
     "output_type": "stream",
     "text": [
      "[[27 16]\n",
      " [21 90]]\n"
     ]
    }
   ],
   "source": [
    "\n",
    "# new confusion matrix (threshold of 0.3)\n",
    "print(metrics.confusion_matrix(Y_test, Y_pred_class))"
   ]
  },
  {
   "cell_type": "code",
   "execution_count": null,
   "metadata": {
    "collapsed": true
   },
   "outputs": [],
   "source": []
  }
 ],
 "metadata": {
  "anaconda-cloud": {},
  "kernelspec": {
   "display_name": "Python 3",
   "language": "python",
   "name": "python3"
  },
  "language_info": {
   "codemirror_mode": {
    "name": "ipython",
    "version": 3
   },
   "file_extension": ".py",
   "mimetype": "text/x-python",
   "name": "python",
   "nbconvert_exporter": "python",
   "pygments_lexer": "ipython3",
   "version": "3.5.2"
  }
 },
 "nbformat": 4,
 "nbformat_minor": 1
}
