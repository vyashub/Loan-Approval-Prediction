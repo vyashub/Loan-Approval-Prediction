{
 "cells": [
  {
   "cell_type": "code",
   "execution_count": 1,
   "metadata": {
    "collapsed": true
   },
   "outputs": [],
   "source": [
    "import pandas as pd"
   ]
  },
  {
   "cell_type": "code",
   "execution_count": 2,
   "metadata": {
    "collapsed": true
   },
   "outputs": [],
   "source": [
    "train = pd.read_csv('train.csv')\n",
    "test = pd.read_csv('test.csv')"
   ]
  },
  {
   "cell_type": "code",
   "execution_count": 3,
   "metadata": {
    "collapsed": true
   },
   "outputs": [],
   "source": [
    "df = pd.concat([train,test],ignore_index=False)"
   ]
  },
  {
   "cell_type": "code",
   "execution_count": 4,
   "metadata": {
    "collapsed": false
   },
   "outputs": [
    {
     "name": "stdout",
     "output_type": "stream",
     "text": [
      "<class 'pandas.core.frame.DataFrame'>\n",
      "Int64Index: 981 entries, 0 to 366\n",
      "Data columns (total 13 columns):\n",
      "ApplicantIncome      981 non-null int64\n",
      "CoapplicantIncome    981 non-null float64\n",
      "Credit_History       902 non-null float64\n",
      "Dependents           956 non-null object\n",
      "Education            981 non-null object\n",
      "Gender               957 non-null object\n",
      "LoanAmount           954 non-null float64\n",
      "Loan_Amount_Term     961 non-null float64\n",
      "Loan_ID              981 non-null object\n",
      "Loan_Status          614 non-null object\n",
      "Married              978 non-null object\n",
      "Property_Area        981 non-null object\n",
      "Self_Employed        926 non-null object\n",
      "dtypes: float64(4), int64(1), object(8)\n",
      "memory usage: 107.3+ KB\n"
     ]
    }
   ],
   "source": [
    "df.info()"
   ]
  },
  {
   "cell_type": "code",
   "execution_count": 5,
   "metadata": {
    "collapsed": true
   },
   "outputs": [],
   "source": [
    "df['Gender'].fillna('other',inplace=True)\n",
    "df['Genderc'] = df['Gender'].astype('category')\n",
    "df['Genderc'] = df['Genderc'].cat.rename_categories([1,2,3])\n",
    "df=df.drop(\"Gender\", axis=1)"
   ]
  },
  {
   "cell_type": "code",
   "execution_count": 6,
   "metadata": {
    "collapsed": false
   },
   "outputs": [],
   "source": [
    "df[\"Married\"].fillna(value=\"No\", inplace=True)\n",
    "df[\"Marriedc\"]=df[\"Married\"].astype(\"category\")\n",
    "df[\"Marriedc\"]=df[\"Marriedc\"].cat.rename_categories([1,2])\n",
    "df=df.drop(\"Married\", axis=1)"
   ]
  },
  {
   "cell_type": "code",
   "execution_count": 7,
   "metadata": {
    "collapsed": true
   },
   "outputs": [],
   "source": [
    "df[\"Dependents\"].fillna(value=\"0\", inplace=True)\n",
    "df[\"Dependentsc\"]=df[\"Dependents\"].astype(\"category\")\n",
    "df[\"Dependentsc\"]=df[\"Dependentsc\"].cat.rename_categories([1,2,3,4])\n",
    "df=df.drop(\"Dependents\", axis=1)"
   ]
  },
  {
   "cell_type": "code",
   "execution_count": 8,
   "metadata": {
    "collapsed": true
   },
   "outputs": [],
   "source": [
    "df[\"Educationc\"]=df[\"Education\"].astype(\"category\")\n",
    "df[\"Educationc\"]=df[\"Educationc\"].cat.rename_categories([1,2])\n",
    "df=df.drop(\"Education\", axis=1)"
   ]
  },
  {
   "cell_type": "code",
   "execution_count": 9,
   "metadata": {
    "collapsed": true
   },
   "outputs": [],
   "source": [
    "df[\"Self_Employed\"].fillna(value=\"other\", inplace=True)\n",
    "df[\"Self_Employedc\"]=df[\"Self_Employed\"].astype(\"category\")\n",
    "df[\"Self_Employedc\"]=df[\"Self_Employedc\"].cat.rename_categories([1,2,3])\n",
    "df=df.drop(\"Self_Employed\", axis=1)"
   ]
  },
  {
   "cell_type": "code",
   "execution_count": 10,
   "metadata": {
    "collapsed": true
   },
   "outputs": [],
   "source": [
    "df[\"Property_Areac\"]=df[\"Property_Area\"].astype(\"category\")\n",
    "df[\"Property_Areac\"]=df[\"Property_Areac\"].cat.rename_categories([1,2,3])\n",
    "df=df.drop(\"Property_Area\", axis=1)"
   ]
  },
  {
   "cell_type": "code",
   "execution_count": 11,
   "metadata": {
    "collapsed": true
   },
   "outputs": [],
   "source": [
    "df[\"Credit_History\"].fillna(value=1, inplace=True)\n",
    "df[\"Credit_Historyc\"]=df[\"Credit_History\"].astype(\"category\")\n",
    "df=df.drop(\"Credit_History\", axis=1)"
   ]
  },
  {
   "cell_type": "code",
   "execution_count": 12,
   "metadata": {
    "collapsed": true
   },
   "outputs": [],
   "source": [
    "df[\"ApplicantIncome\"]=df[\"ApplicantIncome\"].astype(\"object\")\n",
    "df[\"CoapplicantIncome\"]=df[\"CoapplicantIncome\"].astype(\"object\")"
   ]
  },
  {
   "cell_type": "code",
   "execution_count": 13,
   "metadata": {
    "collapsed": true
   },
   "outputs": [],
   "source": [
    "df[\"LoanAmount\"]=df[\"LoanAmount\"].fillna(df[\"LoanAmount\"].mean())\n",
    "df[\"LoanAmount\"]=df[\"LoanAmount\"].astype(\"object\")"
   ]
  },
  {
   "cell_type": "code",
   "execution_count": 14,
   "metadata": {
    "collapsed": true
   },
   "outputs": [],
   "source": [
    "df[\"Loan_Amount_Term\"]=df[\"Loan_Amount_Term\"].fillna(df[\"Loan_Amount_Term\"].mean())\n",
    "df[\"Loan_Amount_Term\"]=df[\"Loan_Amount_Term\"].astype(\"object\")"
   ]
  },
  {
   "cell_type": "code",
   "execution_count": 15,
   "metadata": {
    "collapsed": false
   },
   "outputs": [],
   "source": [
    "from sklearn.preprocessing import scale\n",
    "df['EMI']=df[\"LoanAmount\"]/df[\"Loan_Amount_Term\"]"
   ]
  },
  {
   "cell_type": "code",
   "execution_count": 16,
   "metadata": {
    "collapsed": false
   },
   "outputs": [],
   "source": [
    "df[\"sum_Income\"]=df[\"ApplicantIncome\"] + (df[\"CoapplicantIncome\"])\n",
    "df[\"Poly_feature\"]=df['EMI']/df[\"sum_Income\"]\n",
    "df[\"ratio\"]=df[\"sum_Income\"]/df[\"LoanAmount\"]"
   ]
  },
  {
   "cell_type": "code",
   "execution_count": 17,
   "metadata": {
    "collapsed": false
   },
   "outputs": [
    {
     "data": {
      "text/html": [
       "<div>\n",
       "<table border=\"1\" class=\"dataframe\">\n",
       "  <thead>\n",
       "    <tr style=\"text-align: right;\">\n",
       "      <th></th>\n",
       "      <th>ApplicantIncome</th>\n",
       "      <th>CoapplicantIncome</th>\n",
       "      <th>LoanAmount</th>\n",
       "      <th>Loan_Amount_Term</th>\n",
       "      <th>Loan_ID</th>\n",
       "      <th>Loan_Status</th>\n",
       "      <th>Genderc</th>\n",
       "      <th>Marriedc</th>\n",
       "      <th>Dependentsc</th>\n",
       "      <th>Educationc</th>\n",
       "      <th>Self_Employedc</th>\n",
       "      <th>Property_Areac</th>\n",
       "      <th>Credit_Historyc</th>\n",
       "      <th>EMI</th>\n",
       "      <th>sum_Income</th>\n",
       "      <th>Poly_feature</th>\n",
       "      <th>ratio</th>\n",
       "    </tr>\n",
       "  </thead>\n",
       "  <tbody>\n",
       "    <tr>\n",
       "      <th>0</th>\n",
       "      <td>5849</td>\n",
       "      <td>0</td>\n",
       "      <td>142.512</td>\n",
       "      <td>360</td>\n",
       "      <td>LP001002</td>\n",
       "      <td>Y</td>\n",
       "      <td>2</td>\n",
       "      <td>1</td>\n",
       "      <td>1</td>\n",
       "      <td>1</td>\n",
       "      <td>1</td>\n",
       "      <td>3</td>\n",
       "      <td>1.0</td>\n",
       "      <td>0.395865</td>\n",
       "      <td>5849</td>\n",
       "      <td>6.76809e-05</td>\n",
       "      <td>41.0423</td>\n",
       "    </tr>\n",
       "    <tr>\n",
       "      <th>1</th>\n",
       "      <td>4583</td>\n",
       "      <td>1508</td>\n",
       "      <td>128</td>\n",
       "      <td>360</td>\n",
       "      <td>LP001003</td>\n",
       "      <td>N</td>\n",
       "      <td>2</td>\n",
       "      <td>2</td>\n",
       "      <td>2</td>\n",
       "      <td>1</td>\n",
       "      <td>1</td>\n",
       "      <td>1</td>\n",
       "      <td>1.0</td>\n",
       "      <td>0.355556</td>\n",
       "      <td>6091</td>\n",
       "      <td>5.83739e-05</td>\n",
       "      <td>47.5859</td>\n",
       "    </tr>\n",
       "    <tr>\n",
       "      <th>2</th>\n",
       "      <td>3000</td>\n",
       "      <td>0</td>\n",
       "      <td>66</td>\n",
       "      <td>360</td>\n",
       "      <td>LP001005</td>\n",
       "      <td>Y</td>\n",
       "      <td>2</td>\n",
       "      <td>2</td>\n",
       "      <td>1</td>\n",
       "      <td>1</td>\n",
       "      <td>2</td>\n",
       "      <td>3</td>\n",
       "      <td>1.0</td>\n",
       "      <td>0.183333</td>\n",
       "      <td>3000</td>\n",
       "      <td>6.11111e-05</td>\n",
       "      <td>45.4545</td>\n",
       "    </tr>\n",
       "    <tr>\n",
       "      <th>3</th>\n",
       "      <td>2583</td>\n",
       "      <td>2358</td>\n",
       "      <td>120</td>\n",
       "      <td>360</td>\n",
       "      <td>LP001006</td>\n",
       "      <td>Y</td>\n",
       "      <td>2</td>\n",
       "      <td>2</td>\n",
       "      <td>1</td>\n",
       "      <td>2</td>\n",
       "      <td>1</td>\n",
       "      <td>3</td>\n",
       "      <td>1.0</td>\n",
       "      <td>0.333333</td>\n",
       "      <td>4941</td>\n",
       "      <td>6.74627e-05</td>\n",
       "      <td>41.175</td>\n",
       "    </tr>\n",
       "    <tr>\n",
       "      <th>4</th>\n",
       "      <td>6000</td>\n",
       "      <td>0</td>\n",
       "      <td>141</td>\n",
       "      <td>360</td>\n",
       "      <td>LP001008</td>\n",
       "      <td>Y</td>\n",
       "      <td>2</td>\n",
       "      <td>1</td>\n",
       "      <td>1</td>\n",
       "      <td>1</td>\n",
       "      <td>1</td>\n",
       "      <td>3</td>\n",
       "      <td>1.0</td>\n",
       "      <td>0.391667</td>\n",
       "      <td>6000</td>\n",
       "      <td>6.52778e-05</td>\n",
       "      <td>42.5532</td>\n",
       "    </tr>\n",
       "  </tbody>\n",
       "</table>\n",
       "</div>"
      ],
      "text/plain": [
       "  ApplicantIncome CoapplicantIncome LoanAmount Loan_Amount_Term   Loan_ID  \\\n",
       "0            5849                 0    142.512              360  LP001002   \n",
       "1            4583              1508        128              360  LP001003   \n",
       "2            3000                 0         66              360  LP001005   \n",
       "3            2583              2358        120              360  LP001006   \n",
       "4            6000                 0        141              360  LP001008   \n",
       "\n",
       "  Loan_Status Genderc Marriedc Dependentsc Educationc Self_Employedc  \\\n",
       "0           Y       2        1           1          1              1   \n",
       "1           N       2        2           2          1              1   \n",
       "2           Y       2        2           1          1              2   \n",
       "3           Y       2        2           1          2              1   \n",
       "4           Y       2        1           1          1              1   \n",
       "\n",
       "  Property_Areac Credit_Historyc       EMI sum_Income Poly_feature    ratio  \n",
       "0              3             1.0  0.395865       5849  6.76809e-05  41.0423  \n",
       "1              1             1.0  0.355556       6091  5.83739e-05  47.5859  \n",
       "2              3             1.0  0.183333       3000  6.11111e-05  45.4545  \n",
       "3              3             1.0  0.333333       4941  6.74627e-05   41.175  \n",
       "4              3             1.0  0.391667       6000  6.52778e-05  42.5532  "
      ]
     },
     "execution_count": 17,
     "metadata": {},
     "output_type": "execute_result"
    }
   ],
   "source": [
    "df.head()"
   ]
  },
  {
   "cell_type": "code",
   "execution_count": 18,
   "metadata": {
    "collapsed": true
   },
   "outputs": [],
   "source": [
    "df_train=df[df.Loan_Status.notnull()]\n",
    "df_test=df[df.Loan_Status.isnull()]"
   ]
  },
  {
   "cell_type": "code",
   "execution_count": 19,
   "metadata": {
    "collapsed": true
   },
   "outputs": [],
   "source": [
    "df_test=df_test.drop(\"Loan_Status\", axis=1)\n",
    "key=df_test[\"Loan_ID\"]\n",
    "df_test=df_test.drop(\"Loan_ID\", axis=1)\n",
    "df_train=df_train.drop(\"Loan_ID\", axis=1)"
   ]
  },
  {
   "cell_type": "code",
   "execution_count": 20,
   "metadata": {
    "collapsed": false
   },
   "outputs": [
    {
     "name": "stdout",
     "output_type": "stream",
     "text": [
      "(614, 19)\n"
     ]
    }
   ],
   "source": [
    "from sklearn.preprocessing import OneHotEncoder\n",
    "enc=OneHotEncoder()\n",
    "Xtrsp=pd.DataFrame(enc.fit_transform(df_train[[\"Genderc\",\"Marriedc\",\"Dependentsc\",\"Educationc\",\"Self_Employedc\",\"Property_Areac\", \"Credit_Historyc\"]]).toarray())\n",
    "Xtstsp=pd.DataFrame(enc.transform(df_test[[\"Genderc\",\"Marriedc\",\"Dependentsc\",\"Educationc\",\"Self_Employedc\",\"Property_Areac\", \"Credit_Historyc\"]]).toarray())\n",
    "print(Xtrsp.shape)"
   ]
  },
  {
   "cell_type": "code",
   "execution_count": 21,
   "metadata": {
    "collapsed": true
   },
   "outputs": [],
   "source": [
    "df_train[\"Loan_Statusc\"]=df_train[\"Loan_Status\"].astype(\"category\")\n",
    "df_train[\"Loan_Statusc\"]=df_train[\"Loan_Statusc\"].cat.rename_categories([1,0])"
   ]
  },
  {
   "cell_type": "code",
   "execution_count": 22,
   "metadata": {
    "collapsed": true
   },
   "outputs": [],
   "source": [
    "y_train=df_train[\"Loan_Statusc\"]\n",
    "df_train=df_train.drop(\"Loan_Status\", axis=1)\n",
    "df_train=df_train.drop(\"Loan_Statusc\", axis=1)"
   ]
  },
  {
   "cell_type": "code",
   "execution_count": 23,
   "metadata": {
    "collapsed": true
   },
   "outputs": [],
   "source": [
    "from sklearn.feature_selection import SelectKBest\n",
    "from sklearn.feature_selection import chi2\n",
    "sel = SelectKBest(chi2, k=10)\n",
    "Xtrsp=pd.DataFrame(sel.fit_transform(Xtrsp,y_train))\n",
    "Xtstsp=pd.DataFrame(sel.transform(Xtstsp))"
   ]
  },
  {
   "cell_type": "code",
   "execution_count": 24,
   "metadata": {
    "collapsed": true
   },
   "outputs": [],
   "source": [
    "Xtrf=df_train[[\"Poly_feature\",\"sum_Income\",\"LoanAmount\",\"Loan_Amount_Term\",\"ratio\"]]\n",
    "Xtstf=df_test[[\"Poly_feature\",\"sum_Income\",\"LoanAmount\",\"Loan_Amount_Term\",\"ratio\"]]"
   ]
  },
  {
   "cell_type": "code",
   "execution_count": 25,
   "metadata": {
    "collapsed": true
   },
   "outputs": [],
   "source": [
    "Xtrf.index=Xtrsp.index\n",
    "X_train=pd.concat([Xtrsp,Xtrf], axis=1)\n",
    "Xtstf.index=Xtstsp.index\n",
    "X_test=pd.concat([Xtstsp,Xtstf], axis=1)"
   ]
  },
  {
   "cell_type": "code",
   "execution_count": 27,
   "metadata": {
    "collapsed": false
   },
   "outputs": [
    {
     "name": "stdout",
     "output_type": "stream",
     "text": [
      "[0 0 0 0 0 0 0 1 0 0 0 0 0 0 0 0 0 0 0 0 0 0 0 0 0 0 0 0 0 0 0 0 0 0 0 0 0\n",
      " 0 0 0 0 0 0 0 0 0 0 0 0 0 0 0 0 0 0 1 0 0 0 0 0 0 0 1 0 0 0 0 0 0 0 0 0 0\n",
      " 0 0 0 0 0 0 0 1 0 0 0 0 0 0 0 0 0 0 0 0 0 0 0 0 0 0 0 0 0 0 0 0 1 0 0 0 0\n",
      " 0 0 0 0 0 0 0 1 0 0 0 0 1 1 0 0 0 0 0 0 0 0 0 0 0 0 0 0 0 1 0 0 0 0 0 0 1\n",
      " 0 0 0 0 0 0 0 0 0 0 0 0 0 0 0 0 0 1 1 0 0 0 0 0 0 1 1 0 0 0 0 0 0 0 0 0 0\n",
      " 0 0 0 0 0 0 0 1 1 0 0 0 0 0 0 0 0 0 0 0 0 0 0 0 0 0 1 0 0 0 0 0 0 0 0 0 0\n",
      " 0 0 0 0 0 0 0 0 0 0 0 0 0 1 0 0 0 0 0 0 0 0 0 0 0 0 0 0 0 0 0 0 0 1 0 0 0\n",
      " 0 0 0 0 0 0 0 0 0 0 0 0 0 0 0 0 0 0 0 0 0 0 0 0 0 0 0 0 0 0 0 0 0 0 0 0 0\n",
      " 0 0 0 0 0 0 0 0 0 0 0 0 0 0 0 1 0 0 0 0 0 0 0 0 0 0 0 0 0 1 0 0 0 0 0 0 0\n",
      " 0 0 0 0 0 0 1 0 0 0 0 0 0 0 0 0 0 0 0 0 0 0 0 0 0 0 0 0 0 0 0 0 0 0]\n"
     ]
    }
   ],
   "source": [
    "from sklearn.linear_model import LogisticRegression \n",
    "#from sklearn.neighbors import KNeighborsClassifier\n",
    "#from sklearn.ensemble import RandomForestClassifier \n",
    "#from sklearn.naive_bayes import GaussianNB\n",
    "#from sklearn.neural_network import MLPClassifier\n",
    "#from sklearn.svm import LinearSVC\n",
    "\n",
    "#model=RandomForestClassifier(n_estimators=128, verbose=1)\n",
    "model=LogisticRegression(C=0.01, tol=0.00001)\n",
    "#model=KNeighborsClassifier(n_neighbors=40)\n",
    "#model=LinearSVC(C=0.01, tol=0.0000001)\n",
    "#model=GaussianNB()\n",
    "model.fit(X_train,y_train)\n",
    "y_pred=model.predict(X_test)\n",
    "print(y_pred)\n",
    "\n",
    "out=pd.DataFrame()\n",
    "out[\"Loan_ID\"]=key\n",
    "out[\"Loan_Status\"]=y_pred\n",
    "out[\"Loan_Status\"]=out[\"Loan_Status\"].astype(\"category\")\n",
    "out[\"Loan_Status\"]=out[\"Loan_Status\"].cat.rename_categories([\"Y\",\"N\"])\n",
    "out.to_csv('outcredit.csv', index=False)"
   ]
  },
  {
   "cell_type": "code",
   "execution_count": null,
   "metadata": {
    "collapsed": true
   },
   "outputs": [],
   "source": []
  }
 ],
 "metadata": {
  "kernelspec": {
   "display_name": "Python 3",
   "language": "python",
   "name": "python3"
  },
  "language_info": {
   "codemirror_mode": {
    "name": "ipython",
    "version": 3
   },
   "file_extension": ".py",
   "mimetype": "text/x-python",
   "name": "python",
   "nbconvert_exporter": "python",
   "pygments_lexer": "ipython3",
   "version": "3.5.2"
  }
 },
 "nbformat": 4,
 "nbformat_minor": 0
}
