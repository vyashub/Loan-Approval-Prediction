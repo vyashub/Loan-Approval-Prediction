{
 "cells": [
  {
   "cell_type": "code",
   "execution_count": 1,
   "metadata": {
    "collapsed": false
   },
   "outputs": [],
   "source": [
    "import pandas as pd\n",
    "import numpy as np\n",
    "import matplotlib.pyplot as plt\n",
    "%matplotlib inline\n",
    "#from matplotlib import style\n",
    "#style.use('fivethirtyeight')\n",
    "import seaborn as sns\n",
    "#sns.set(style = 'white', color_code=True)\n",
    "# import warnings\n",
    "# warnings.filterwarnings('ignore')\n",
    "# sns.set_style('whitegrid')\n",
    "\n",
    "from sklearn.ensemble import GradientBoostingClassifier  #GBM algorithm\n",
    "from sklearn import cross_validation, metrics   #Additional scklearn functions\n",
    "from sklearn.grid_search import GridSearchCV   #Performing grid search\n",
    "# from sklearn.model_selection import GridSearchCV\n",
    "import matplotlib.pylab as plt\n",
    "from matplotlib.pylab import rcParams\n",
    "rcParams['figure.figsize'] = 12, 4"
   ]
  },
  {
   "cell_type": "code",
   "execution_count": 75,
   "metadata": {
    "collapsed": false
   },
   "outputs": [],
   "source": [
    "df = pd.read_csv('train.csv')"
   ]
  },
  {
   "cell_type": "code",
   "execution_count": 76,
   "metadata": {
    "collapsed": false
   },
   "outputs": [],
   "source": [
    "df['Gender'] = df['Gender'].fillna( df['Gender'].dropna().mode().values[0] )\n",
    "df['Married'] = df['Married'].fillna( df['Married'].dropna().mode().values[0] )\n",
    "df['Dependents'] = df['Dependents'].fillna( df['Dependents'].dropna().mode().values[0] )\n",
    "df['Self_Employed'] = df['Self_Employed'].fillna( df['Self_Employed'].dropna().mode().values[0] )\n",
    "df['LoanAmount'] = df['LoanAmount'].fillna( df['LoanAmount'].dropna().mean() )\n",
    "df['Loan_Amount_Term'] = df['Loan_Amount_Term'].fillna( df['Loan_Amount_Term'].dropna().mode().values[0] )\n",
    "df['Credit_History'] = df['Credit_History'].fillna( df['Credit_History'].dropna().mode().values[0] )\n",
    "df['Dependents'] = df['Dependents'].str.rstrip('+')\n",
    "df['Gender'] = df['Gender'].map({'Female':0,'Male':1}).astype(np.int)\n",
    "df['Married'] = df['Married'].map({'No':0, 'Yes':1}).astype(np.int)\n",
    "df['Education'] = df['Education'].map({'Not Graduate':0, 'Graduate':1}).astype(np.int)\n",
    "df['Self_Employed'] = df['Self_Employed'].map({'No':0, 'Yes':1}).astype(np.int)\n",
    "# df['Loan_Status'] = df['Loan_Status'].map({'N':0, 'Y':1}).astype(np.int)\n",
    "df['Dependents'] = df['Dependents'].astype(np.int)\n",
    "#Property Map\n",
    "property_map = {'Semiurban':77,'Urban':66,'Rural':62}\n",
    "df['Property_Area'] = df['Property_Area'].map(property_map)\n",
    "# test_loan_df['Property_Area']  = test_loan_df['Property_Area'].map(property_map)"
   ]
  },
  {
   "cell_type": "code",
   "execution_count": 4,
   "metadata": {
    "collapsed": false
   },
   "outputs": [],
   "source": [
    "# df.isnull().sum()"
   ]
  },
  {
   "cell_type": "code",
   "execution_count": 5,
   "metadata": {
    "collapsed": false
   },
   "outputs": [],
   "source": [
    "# dtrain= pd.get_dummies(df)\n",
    "# df.head()"
   ]
  },
  {
   "cell_type": "code",
   "execution_count": 77,
   "metadata": {
    "collapsed": false
   },
   "outputs": [],
   "source": [
    "# df.head()\n",
    "df['Loan_ID'] = [x[2:] for x in df['Loan_ID']]\n",
    "# df.head()\n",
    "# df.info()"
   ]
  },
  {
   "cell_type": "code",
   "execution_count": 78,
   "metadata": {
    "collapsed": false
   },
   "outputs": [],
   "source": [
    "#train = dtrain\n",
    "target = 'Loan_Status'\n",
    "IDcol = 'Loan_ID'"
   ]
  },
  {
   "cell_type": "code",
   "execution_count": 79,
   "metadata": {
    "collapsed": false
   },
   "outputs": [],
   "source": [
    "def modelfit(alg, dtrain, predictors, performCV=True, printFeatureImportance=True, cv_folds=5):\n",
    "    #Fit the algorithm on the data\n",
    "    alg.fit(dtrain[predictors], dtrain['Loan_Status'])\n",
    "        \n",
    "    #Predict training set:\n",
    "    dtrain_predictions = alg.predict(dtrain[predictors])\n",
    "    dtrain_predprob = alg.predict_proba(dtrain[predictors])[:,1]\n",
    "    #Perform cross-validation:\n",
    "    if performCV:\n",
    "        cv_score = cross_validation.cross_val_score(alg, dtrain[predictors], dtrain['Loan_Status'], cv=cv_folds, scoring='roc_auc')\n",
    "        \n",
    "        \n",
    "    #Print model report:\n",
    "    print (\"\\nModel Report\")\n",
    "    print (\"Accuracy : %.4g\" % metrics.accuracy_score(dtrain['Loan_Status'].values, dtrain_predictions))\n",
    "    print (\"AUC Score (Train): %f\" % metrics.roc_auc_score(dtrain['Loan_Status'], dtrain_predprob))\n",
    "    \n",
    "    if performCV:\n",
    "        print(\"CV Score : Mean - %.7g | Std - %.7g | Min - %.7g | Max - %.7g\" % (np.mean(cv_score),np.std(cv_score),np.min(cv_score),np.max(cv_score)))\n",
    "        \n",
    "    #Print Feature Importance:\n",
    "    if printFeatureImportance:\n",
    "        feat_imp = pd.Series(alg.feature_importances_, predictors).sort_values(ascending=False)\n",
    "        feat_imp.plot(kind='bar', title='Feature Importances')\n",
    "        plt.ylabel('Feature Importance Score')"
   ]
  },
  {
   "cell_type": "code",
   "execution_count": 80,
   "metadata": {
    "collapsed": false
   },
   "outputs": [],
   "source": [
    "dtest = pd.read_csv('test.csv')"
   ]
  },
  {
   "cell_type": "code",
   "execution_count": 81,
   "metadata": {
    "collapsed": true
   },
   "outputs": [],
   "source": [
    "dtest['Gender'] = dtest['Gender'].map({'Female':0,'Male':1})\n",
    "dtest['Married'] = dtest['Married'].map({'No':0, 'Yes':1}).astype(np.int)\n",
    "dtest['Education'] = dtest['Education'].map({'Not Graduate':0, 'Graduate':1}).astype(np.int)\n",
    "dtest['Self_Employed'] = dtest['Self_Employed'].map({'No':0, 'Yes':1})\n",
    "dtest['Dependents'] = dtest['Dependents'].str.rstrip('+')\n",
    "dtest['Gender'] = dtest['Gender'].fillna( dtest['Gender'].dropna().mode().values[0]).astype(np.int)\n",
    "dtest['Dependents'] = dtest['Dependents'].fillna( dtest['Dependents'].dropna().mode().values[0]).astype(np.int)\n",
    "dtest['Self_Employed'] = dtest['Self_Employed'].fillna( dtest['Self_Employed'].dropna().mode().values[0])\n",
    "dtest['LoanAmount'] = dtest['LoanAmount'].fillna( dtest['LoanAmount'].dropna().mode().values[0])\n",
    "dtest['Loan_Amount_Term'] = dtest['Loan_Amount_Term'].fillna( dtest['Loan_Amount_Term'].dropna().mode().values[0])\n",
    "dtest['Credit_History'] = dtest['Credit_History'].fillna( dtest['Credit_History'].dropna().mode().values[0] )\n",
    "#Property Map\n",
    "property_map = {'Semiurban':77,'Urban':66,'Rural':62}\n",
    "dtest['Property_Area']  = dtest['Property_Area'].map(property_map)"
   ]
  },
  {
   "cell_type": "code",
   "execution_count": 82,
   "metadata": {
    "collapsed": false
   },
   "outputs": [
    {
     "data": {
      "text/html": [
       "<div>\n",
       "<table border=\"1\" class=\"dataframe\">\n",
       "  <thead>\n",
       "    <tr style=\"text-align: right;\">\n",
       "      <th></th>\n",
       "      <th>Gender</th>\n",
       "      <th>Married</th>\n",
       "      <th>Dependents</th>\n",
       "      <th>Education</th>\n",
       "      <th>Self_Employed</th>\n",
       "      <th>ApplicantIncome</th>\n",
       "      <th>CoapplicantIncome</th>\n",
       "      <th>LoanAmount</th>\n",
       "      <th>Loan_Amount_Term</th>\n",
       "      <th>Credit_History</th>\n",
       "      <th>Property_Area</th>\n",
       "    </tr>\n",
       "  </thead>\n",
       "  <tbody>\n",
       "    <tr>\n",
       "      <th>0</th>\n",
       "      <td>1</td>\n",
       "      <td>1</td>\n",
       "      <td>0</td>\n",
       "      <td>1</td>\n",
       "      <td>0.0</td>\n",
       "      <td>5720</td>\n",
       "      <td>0</td>\n",
       "      <td>110.0</td>\n",
       "      <td>360.0</td>\n",
       "      <td>1.0</td>\n",
       "      <td>66</td>\n",
       "    </tr>\n",
       "    <tr>\n",
       "      <th>1</th>\n",
       "      <td>1</td>\n",
       "      <td>1</td>\n",
       "      <td>1</td>\n",
       "      <td>1</td>\n",
       "      <td>0.0</td>\n",
       "      <td>3076</td>\n",
       "      <td>1500</td>\n",
       "      <td>126.0</td>\n",
       "      <td>360.0</td>\n",
       "      <td>1.0</td>\n",
       "      <td>66</td>\n",
       "    </tr>\n",
       "    <tr>\n",
       "      <th>2</th>\n",
       "      <td>1</td>\n",
       "      <td>1</td>\n",
       "      <td>2</td>\n",
       "      <td>1</td>\n",
       "      <td>0.0</td>\n",
       "      <td>5000</td>\n",
       "      <td>1800</td>\n",
       "      <td>208.0</td>\n",
       "      <td>360.0</td>\n",
       "      <td>1.0</td>\n",
       "      <td>66</td>\n",
       "    </tr>\n",
       "    <tr>\n",
       "      <th>3</th>\n",
       "      <td>1</td>\n",
       "      <td>1</td>\n",
       "      <td>2</td>\n",
       "      <td>1</td>\n",
       "      <td>0.0</td>\n",
       "      <td>2340</td>\n",
       "      <td>2546</td>\n",
       "      <td>100.0</td>\n",
       "      <td>360.0</td>\n",
       "      <td>1.0</td>\n",
       "      <td>66</td>\n",
       "    </tr>\n",
       "    <tr>\n",
       "      <th>4</th>\n",
       "      <td>1</td>\n",
       "      <td>0</td>\n",
       "      <td>0</td>\n",
       "      <td>0</td>\n",
       "      <td>0.0</td>\n",
       "      <td>3276</td>\n",
       "      <td>0</td>\n",
       "      <td>78.0</td>\n",
       "      <td>360.0</td>\n",
       "      <td>1.0</td>\n",
       "      <td>66</td>\n",
       "    </tr>\n",
       "  </tbody>\n",
       "</table>\n",
       "</div>"
      ],
      "text/plain": [
       "   Gender  Married  Dependents  Education  Self_Employed  ApplicantIncome  \\\n",
       "0       1        1           0          1            0.0             5720   \n",
       "1       1        1           1          1            0.0             3076   \n",
       "2       1        1           2          1            0.0             5000   \n",
       "3       1        1           2          1            0.0             2340   \n",
       "4       1        0           0          0            0.0             3276   \n",
       "\n",
       "   CoapplicantIncome  LoanAmount  Loan_Amount_Term  Credit_History  \\\n",
       "0                  0       110.0             360.0             1.0   \n",
       "1               1500       126.0             360.0             1.0   \n",
       "2               1800       208.0             360.0             1.0   \n",
       "3               2546       100.0             360.0             1.0   \n",
       "4                  0        78.0             360.0             1.0   \n",
       "\n",
       "   Property_Area  \n",
       "0             66  \n",
       "1             66  \n",
       "2             66  \n",
       "3             66  \n",
       "4             66  "
      ]
     },
     "execution_count": 82,
     "metadata": {},
     "output_type": "execute_result"
    }
   ],
   "source": [
    "X_test = dtest.iloc[:,1:]\n",
    "X_test.head()"
   ]
  },
  {
   "cell_type": "code",
   "execution_count": 12,
   "metadata": {
    "collapsed": false
   },
   "outputs": [
    {
     "name": "stdout",
     "output_type": "stream",
     "text": [
      "\n",
      "Model Report\n",
      "Accuracy : 0.8811\n",
      "AUC Score (Train): 0.963357\n",
      "CV Score : Mean - 0.7247603 | Std - 0.06652789 | Min - 0.6180995 | Max - 0.8195489\n"
     ]
    },
    {
     "data": {
      "image/png": "[encoded data removed]",
      "text/plain": [
       "<matplotlib.figure.Figure at 0x153a0782710>"
      ]
     },
     "metadata": {},
     "output_type": "display_data"
    }
   ],
   "source": [
    "#Choose all predictors except target & IDcols\n",
    "predictors = [x for x in df.columns if x not in [target, IDcol]]\n",
    "gbm0 = GradientBoostingClassifier(random_state=10)\n",
    "modelfit(gbm0,df,predictors)\n",
    "# gbm0.fit(df[predictors], df['Loan_Status'])\n",
    "# dtrain_predictions = gbm0.predict(X_test)"
   ]
  },
  {
   "cell_type": "code",
   "execution_count": 31,
   "metadata": {
    "collapsed": false
   },
   "outputs": [
    {
     "data": {
      "text/plain": [
       "([mean: 0.78176, std: 0.01816, params: {'n_estimators': 10, 'max_features': 'sqrt'},\n",
       "  mean: 0.80293, std: 0.01800, params: {'n_estimators': 20, 'max_features': 'sqrt'},\n",
       "  mean: 0.79642, std: 0.01568, params: {'n_estimators': 30, 'max_features': 'sqrt'},\n",
       "  mean: 0.79967, std: 0.01787, params: {'n_estimators': 40, 'max_features': 'sqrt'},\n",
       "  mean: 0.79642, std: 0.00962, params: {'n_estimators': 50, 'max_features': 'sqrt'},\n",
       "  mean: 0.79479, std: 0.00359, params: {'n_estimators': 60, 'max_features': 'sqrt'},\n",
       "  mean: 0.79642, std: 0.00184, params: {'n_estimators': 70, 'max_features': 'sqrt'},\n",
       "  mean: 0.79153, std: 0.00798, params: {'n_estimators': 80, 'max_features': 'sqrt'}],\n",
       " {'max_features': 'sqrt', 'n_estimators': 20},\n",
       " 0.80293159609120524)"
      ]
     },
     "execution_count": 31,
     "metadata": {},
     "output_type": "execute_result"
    }
   ],
   "source": [
    "clf = GradientBoostingClassifier(learning_rate =0.1,random_state=10,subsample=0.8,n_estimators=60)\n",
    "param_grid1 = {#'max_depth' : [None, 7,8,9],\n",
    "              'max_features' : ['sqrt'],\n",
    "              'n_estimators' : list(range(10,90,10))}\n",
    "#               'min_samples_split':[50],\n",
    "#               'min_samples_leaf':[6]}\n",
    "\n",
    "gsearch1 = GridSearchCV(clf, param_grid= param_grid1) \n",
    "predictors = [x for x in df.columns if x not in [target, IDcol]]\n",
    "gsearch1.fit(df[predictors],df[target])\n",
    "gsearch1.grid_scores_, gsearch1.best_params_, gsearch1.best_score_"
   ]
  },
  {
   "cell_type": "code",
   "execution_count": 52,
   "metadata": {
    "collapsed": false
   },
   "outputs": [
    {
     "name": "stdout",
     "output_type": "stream",
     "text": [
      "\n",
      "Model Report\n",
      "Accuracy : 0.8176\n",
      "AUC Score (Train): 0.847829\n",
      "CV Score : Mean - 0.7360223 | Std - 0.03900299 | Min - 0.6782805 | Max - 0.785822\n"
     ]
    },
    {
     "data": {
      "image/png": "[encoded data removed]",
      "text/plain": [
       "<matplotlib.figure.Figure at 0x153a59e4320>"
      ]
     },
     "metadata": {},
     "output_type": "display_data"
    }
   ],
   "source": [
    "modelfit(gsearch1.best_estimator_, df, predictors)"
   ]
  },
  {
   "cell_type": "code",
   "execution_count": 50,
   "metadata": {
    "collapsed": false
   },
   "outputs": [
    {
     "data": {
      "text/plain": [
       "([mean: 0.76710, std: 0.04326, params: {'min_samples_split': 10, 'min_samples_leaf': 5, 'max_depth': 1},\n",
       "  mean: 0.76710, std: 0.04326, params: {'min_samples_split': 20, 'min_samples_leaf': 5, 'max_depth': 1},\n",
       "  mean: 0.76710, std: 0.04326, params: {'min_samples_split': 30, 'min_samples_leaf': 5, 'max_depth': 1},\n",
       "  mean: 0.76710, std: 0.04326, params: {'min_samples_split': 40, 'min_samples_leaf': 5, 'max_depth': 1},\n",
       "  mean: 0.76710, std: 0.04326, params: {'min_samples_split': 50, 'min_samples_leaf': 5, 'max_depth': 1},\n",
       "  mean: 0.76710, std: 0.04326, params: {'min_samples_split': 60, 'min_samples_leaf': 5, 'max_depth': 1},\n",
       "  mean: 0.76710, std: 0.04326, params: {'min_samples_split': 70, 'min_samples_leaf': 5, 'max_depth': 1},\n",
       "  mean: 0.76710, std: 0.04326, params: {'min_samples_split': 80, 'min_samples_leaf': 5, 'max_depth': 1},\n",
       "  mean: 0.76710, std: 0.04326, params: {'min_samples_split': 90, 'min_samples_leaf': 5, 'max_depth': 1},\n",
       "  mean: 0.76710, std: 0.04326, params: {'min_samples_split': 10, 'min_samples_leaf': 7, 'max_depth': 1},\n",
       "  mean: 0.76710, std: 0.04326, params: {'min_samples_split': 20, 'min_samples_leaf': 7, 'max_depth': 1},\n",
       "  mean: 0.76710, std: 0.04326, params: {'min_samples_split': 30, 'min_samples_leaf': 7, 'max_depth': 1},\n",
       "  mean: 0.76710, std: 0.04326, params: {'min_samples_split': 40, 'min_samples_leaf': 7, 'max_depth': 1},\n",
       "  mean: 0.76710, std: 0.04326, params: {'min_samples_split': 50, 'min_samples_leaf': 7, 'max_depth': 1},\n",
       "  mean: 0.76710, std: 0.04326, params: {'min_samples_split': 60, 'min_samples_leaf': 7, 'max_depth': 1},\n",
       "  mean: 0.76710, std: 0.04326, params: {'min_samples_split': 70, 'min_samples_leaf': 7, 'max_depth': 1},\n",
       "  mean: 0.76710, std: 0.04326, params: {'min_samples_split': 80, 'min_samples_leaf': 7, 'max_depth': 1},\n",
       "  mean: 0.76710, std: 0.04326, params: {'min_samples_split': 90, 'min_samples_leaf': 7, 'max_depth': 1},\n",
       "  mean: 0.76710, std: 0.04326, params: {'min_samples_split': 10, 'min_samples_leaf': 9, 'max_depth': 1},\n",
       "  mean: 0.76710, std: 0.04326, params: {'min_samples_split': 20, 'min_samples_leaf': 9, 'max_depth': 1},\n",
       "  mean: 0.76710, std: 0.04326, params: {'min_samples_split': 30, 'min_samples_leaf': 9, 'max_depth': 1},\n",
       "  mean: 0.76710, std: 0.04326, params: {'min_samples_split': 40, 'min_samples_leaf': 9, 'max_depth': 1},\n",
       "  mean: 0.76710, std: 0.04326, params: {'min_samples_split': 50, 'min_samples_leaf': 9, 'max_depth': 1},\n",
       "  mean: 0.76710, std: 0.04326, params: {'min_samples_split': 60, 'min_samples_leaf': 9, 'max_depth': 1},\n",
       "  mean: 0.76710, std: 0.04326, params: {'min_samples_split': 70, 'min_samples_leaf': 9, 'max_depth': 1},\n",
       "  mean: 0.76710, std: 0.04326, params: {'min_samples_split': 80, 'min_samples_leaf': 9, 'max_depth': 1},\n",
       "  mean: 0.76710, std: 0.04326, params: {'min_samples_split': 90, 'min_samples_leaf': 9, 'max_depth': 1},\n",
       "  mean: 0.76873, std: 0.04096, params: {'min_samples_split': 10, 'min_samples_leaf': 11, 'max_depth': 1},\n",
       "  mean: 0.76873, std: 0.04096, params: {'min_samples_split': 20, 'min_samples_leaf': 11, 'max_depth': 1},\n",
       "  mean: 0.76873, std: 0.04096, params: {'min_samples_split': 30, 'min_samples_leaf': 11, 'max_depth': 1},\n",
       "  mean: 0.76873, std: 0.04096, params: {'min_samples_split': 40, 'min_samples_leaf': 11, 'max_depth': 1},\n",
       "  mean: 0.76873, std: 0.04096, params: {'min_samples_split': 50, 'min_samples_leaf': 11, 'max_depth': 1},\n",
       "  mean: 0.76873, std: 0.04096, params: {'min_samples_split': 60, 'min_samples_leaf': 11, 'max_depth': 1},\n",
       "  mean: 0.76873, std: 0.04096, params: {'min_samples_split': 70, 'min_samples_leaf': 11, 'max_depth': 1},\n",
       "  mean: 0.76873, std: 0.04096, params: {'min_samples_split': 80, 'min_samples_leaf': 11, 'max_depth': 1},\n",
       "  mean: 0.76873, std: 0.04096, params: {'min_samples_split': 90, 'min_samples_leaf': 11, 'max_depth': 1},\n",
       "  mean: 0.76873, std: 0.04096, params: {'min_samples_split': 10, 'min_samples_leaf': 13, 'max_depth': 1},\n",
       "  mean: 0.76873, std: 0.04096, params: {'min_samples_split': 20, 'min_samples_leaf': 13, 'max_depth': 1},\n",
       "  mean: 0.76873, std: 0.04096, params: {'min_samples_split': 30, 'min_samples_leaf': 13, 'max_depth': 1},\n",
       "  mean: 0.76873, std: 0.04096, params: {'min_samples_split': 40, 'min_samples_leaf': 13, 'max_depth': 1},\n",
       "  mean: 0.76873, std: 0.04096, params: {'min_samples_split': 50, 'min_samples_leaf': 13, 'max_depth': 1},\n",
       "  mean: 0.76873, std: 0.04096, params: {'min_samples_split': 60, 'min_samples_leaf': 13, 'max_depth': 1},\n",
       "  mean: 0.76873, std: 0.04096, params: {'min_samples_split': 70, 'min_samples_leaf': 13, 'max_depth': 1},\n",
       "  mean: 0.76873, std: 0.04096, params: {'min_samples_split': 80, 'min_samples_leaf': 13, 'max_depth': 1},\n",
       "  mean: 0.76873, std: 0.04096, params: {'min_samples_split': 90, 'min_samples_leaf': 13, 'max_depth': 1},\n",
       "  mean: 0.80456, std: 0.01339, params: {'min_samples_split': 10, 'min_samples_leaf': 5, 'max_depth': 2},\n",
       "  mean: 0.80456, std: 0.01339, params: {'min_samples_split': 20, 'min_samples_leaf': 5, 'max_depth': 2},\n",
       "  mean: 0.80456, std: 0.01339, params: {'min_samples_split': 30, 'min_samples_leaf': 5, 'max_depth': 2},\n",
       "  mean: 0.80456, std: 0.01339, params: {'min_samples_split': 40, 'min_samples_leaf': 5, 'max_depth': 2},\n",
       "  mean: 0.80456, std: 0.01697, params: {'min_samples_split': 50, 'min_samples_leaf': 5, 'max_depth': 2},\n",
       "  mean: 0.80456, std: 0.01697, params: {'min_samples_split': 60, 'min_samples_leaf': 5, 'max_depth': 2},\n",
       "  mean: 0.80456, std: 0.01697, params: {'min_samples_split': 70, 'min_samples_leaf': 5, 'max_depth': 2},\n",
       "  mean: 0.80456, std: 0.01697, params: {'min_samples_split': 80, 'min_samples_leaf': 5, 'max_depth': 2},\n",
       "  mean: 0.80456, std: 0.01697, params: {'min_samples_split': 90, 'min_samples_leaf': 5, 'max_depth': 2},\n",
       "  mean: 0.80619, std: 0.01570, params: {'min_samples_split': 10, 'min_samples_leaf': 7, 'max_depth': 2},\n",
       "  mean: 0.80619, std: 0.01570, params: {'min_samples_split': 20, 'min_samples_leaf': 7, 'max_depth': 2},\n",
       "  mean: 0.80619, std: 0.01570, params: {'min_samples_split': 30, 'min_samples_leaf': 7, 'max_depth': 2},\n",
       "  mean: 0.80619, std: 0.01570, params: {'min_samples_split': 40, 'min_samples_leaf': 7, 'max_depth': 2},\n",
       "  mean: 0.80619, std: 0.01570, params: {'min_samples_split': 50, 'min_samples_leaf': 7, 'max_depth': 2},\n",
       "  mean: 0.80619, std: 0.01570, params: {'min_samples_split': 60, 'min_samples_leaf': 7, 'max_depth': 2},\n",
       "  mean: 0.80619, std: 0.01570, params: {'min_samples_split': 70, 'min_samples_leaf': 7, 'max_depth': 2},\n",
       "  mean: 0.80619, std: 0.01570, params: {'min_samples_split': 80, 'min_samples_leaf': 7, 'max_depth': 2},\n",
       "  mean: 0.80619, std: 0.01570, params: {'min_samples_split': 90, 'min_samples_leaf': 7, 'max_depth': 2},\n",
       "  mean: 0.80456, std: 0.01397, params: {'min_samples_split': 10, 'min_samples_leaf': 9, 'max_depth': 2},\n",
       "  mean: 0.80619, std: 0.01620, params: {'min_samples_split': 20, 'min_samples_leaf': 9, 'max_depth': 2},\n",
       "  mean: 0.80782, std: 0.01469, params: {'min_samples_split': 30, 'min_samples_leaf': 9, 'max_depth': 2},\n",
       "  mean: 0.80782, std: 0.01469, params: {'min_samples_split': 40, 'min_samples_leaf': 9, 'max_depth': 2},\n",
       "  mean: 0.80945, std: 0.01698, params: {'min_samples_split': 50, 'min_samples_leaf': 9, 'max_depth': 2},\n",
       "  mean: 0.80945, std: 0.01698, params: {'min_samples_split': 60, 'min_samples_leaf': 9, 'max_depth': 2},\n",
       "  mean: 0.80945, std: 0.01698, params: {'min_samples_split': 70, 'min_samples_leaf': 9, 'max_depth': 2},\n",
       "  mean: 0.80945, std: 0.01698, params: {'min_samples_split': 80, 'min_samples_leaf': 9, 'max_depth': 2},\n",
       "  mean: 0.80945, std: 0.01698, params: {'min_samples_split': 90, 'min_samples_leaf': 9, 'max_depth': 2},\n",
       "  mean: 0.80782, std: 0.01469, params: {'min_samples_split': 10, 'min_samples_leaf': 11, 'max_depth': 2},\n",
       "  mean: 0.80782, std: 0.01469, params: {'min_samples_split': 20, 'min_samples_leaf': 11, 'max_depth': 2},\n",
       "  mean: 0.80782, std: 0.01469, params: {'min_samples_split': 30, 'min_samples_leaf': 11, 'max_depth': 2},\n",
       "  mean: 0.80782, std: 0.01469, params: {'min_samples_split': 40, 'min_samples_leaf': 11, 'max_depth': 2},\n",
       "  mean: 0.80619, std: 0.01240, params: {'min_samples_split': 50, 'min_samples_leaf': 11, 'max_depth': 2},\n",
       "  mean: 0.80619, std: 0.01240, params: {'min_samples_split': 60, 'min_samples_leaf': 11, 'max_depth': 2},\n",
       "  mean: 0.80945, std: 0.01698, params: {'min_samples_split': 70, 'min_samples_leaf': 11, 'max_depth': 2},\n",
       "  mean: 0.80945, std: 0.01698, params: {'min_samples_split': 80, 'min_samples_leaf': 11, 'max_depth': 2},\n",
       "  mean: 0.80945, std: 0.01698, params: {'min_samples_split': 90, 'min_samples_leaf': 11, 'max_depth': 2},\n",
       "  mean: 0.80619, std: 0.01240, params: {'min_samples_split': 10, 'min_samples_leaf': 13, 'max_depth': 2},\n",
       "  mean: 0.80619, std: 0.01240, params: {'min_samples_split': 20, 'min_samples_leaf': 13, 'max_depth': 2},\n",
       "  mean: 0.80619, std: 0.01240, params: {'min_samples_split': 30, 'min_samples_leaf': 13, 'max_depth': 2},\n",
       "  mean: 0.80619, std: 0.01240, params: {'min_samples_split': 40, 'min_samples_leaf': 13, 'max_depth': 2},\n",
       "  mean: 0.80619, std: 0.01240, params: {'min_samples_split': 50, 'min_samples_leaf': 13, 'max_depth': 2},\n",
       "  mean: 0.80619, std: 0.01240, params: {'min_samples_split': 60, 'min_samples_leaf': 13, 'max_depth': 2},\n",
       "  mean: 0.80945, std: 0.01698, params: {'min_samples_split': 70, 'min_samples_leaf': 13, 'max_depth': 2},\n",
       "  mean: 0.80945, std: 0.01698, params: {'min_samples_split': 80, 'min_samples_leaf': 13, 'max_depth': 2},\n",
       "  mean: 0.80945, std: 0.01698, params: {'min_samples_split': 90, 'min_samples_leaf': 13, 'max_depth': 2},\n",
       "  mean: 0.79967, std: 0.01012, params: {'min_samples_split': 10, 'min_samples_leaf': 5, 'max_depth': 3},\n",
       "  mean: 0.80130, std: 0.01239, params: {'min_samples_split': 20, 'min_samples_leaf': 5, 'max_depth': 3},\n",
       "  mean: 0.79967, std: 0.01012, params: {'min_samples_split': 30, 'min_samples_leaf': 5, 'max_depth': 3},\n",
       "  mean: 0.79805, std: 0.00415, params: {'min_samples_split': 40, 'min_samples_leaf': 5, 'max_depth': 3},\n",
       "  mean: 0.80456, std: 0.01697, params: {'min_samples_split': 50, 'min_samples_leaf': 5, 'max_depth': 3},\n",
       "  mean: 0.80619, std: 0.01927, params: {'min_samples_split': 60, 'min_samples_leaf': 5, 'max_depth': 3},\n",
       "  mean: 0.80619, std: 0.01927, params: {'min_samples_split': 70, 'min_samples_leaf': 5, 'max_depth': 3},\n",
       "  mean: 0.80619, std: 0.01927, params: {'min_samples_split': 80, 'min_samples_leaf': 5, 'max_depth': 3},\n",
       "  mean: 0.80619, std: 0.01927, params: {'min_samples_split': 90, 'min_samples_leaf': 5, 'max_depth': 3},\n",
       "  mean: 0.80782, std: 0.01469, params: {'min_samples_split': 10, 'min_samples_leaf': 7, 'max_depth': 3},\n",
       "  mean: 0.80456, std: 0.01697, params: {'min_samples_split': 20, 'min_samples_leaf': 7, 'max_depth': 3},\n",
       "  mean: 0.80456, std: 0.01697, params: {'min_samples_split': 30, 'min_samples_leaf': 7, 'max_depth': 3},\n",
       "  mean: 0.80456, std: 0.01339, params: {'min_samples_split': 40, 'min_samples_leaf': 7, 'max_depth': 3},\n",
       "  mean: 0.80619, std: 0.01927, params: {'min_samples_split': 50, 'min_samples_leaf': 7, 'max_depth': 3},\n",
       "  mean: 0.80782, std: 0.01801, params: {'min_samples_split': 60, 'min_samples_leaf': 7, 'max_depth': 3},\n",
       "  mean: 0.80782, std: 0.01801, params: {'min_samples_split': 70, 'min_samples_leaf': 7, 'max_depth': 3},\n",
       "  mean: 0.80782, std: 0.01801, params: {'min_samples_split': 80, 'min_samples_leaf': 7, 'max_depth': 3},\n",
       "  mean: 0.80782, std: 0.01801, params: {'min_samples_split': 90, 'min_samples_leaf': 7, 'max_depth': 3},\n",
       "  mean: 0.80782, std: 0.01469, params: {'min_samples_split': 10, 'min_samples_leaf': 9, 'max_depth': 3},\n",
       "  mean: 0.80782, std: 0.01469, params: {'min_samples_split': 20, 'min_samples_leaf': 9, 'max_depth': 3},\n",
       "  mean: 0.80782, std: 0.01469, params: {'min_samples_split': 30, 'min_samples_leaf': 9, 'max_depth': 3},\n",
       "  mean: 0.80456, std: 0.01013, params: {'min_samples_split': 40, 'min_samples_leaf': 9, 'max_depth': 3},\n",
       "  mean: 0.80945, std: 0.01698, params: {'min_samples_split': 50, 'min_samples_leaf': 9, 'max_depth': 3},\n",
       "  mean: 0.80619, std: 0.01240, params: {'min_samples_split': 60, 'min_samples_leaf': 9, 'max_depth': 3},\n",
       "  mean: 0.80782, std: 0.01469, params: {'min_samples_split': 70, 'min_samples_leaf': 9, 'max_depth': 3},\n",
       "  mean: 0.80945, std: 0.01698, params: {'min_samples_split': 80, 'min_samples_leaf': 9, 'max_depth': 3},\n",
       "  mean: 0.80945, std: 0.01698, params: {'min_samples_split': 90, 'min_samples_leaf': 9, 'max_depth': 3},\n",
       "  mean: 0.80945, std: 0.01698, params: {'min_samples_split': 10, 'min_samples_leaf': 11, 'max_depth': 3},\n",
       "  mean: 0.80945, std: 0.01698, params: {'min_samples_split': 20, 'min_samples_leaf': 11, 'max_depth': 3},\n",
       "  mean: 0.80782, std: 0.01469, params: {'min_samples_split': 30, 'min_samples_leaf': 11, 'max_depth': 3},\n",
       "  mean: 0.80619, std: 0.01240, params: {'min_samples_split': 40, 'min_samples_leaf': 11, 'max_depth': 3},\n",
       "  mean: 0.80782, std: 0.01469, params: {'min_samples_split': 50, 'min_samples_leaf': 11, 'max_depth': 3},\n",
       "  mean: 0.80619, std: 0.01240, params: {'min_samples_split': 60, 'min_samples_leaf': 11, 'max_depth': 3},\n",
       "  mean: 0.80945, std: 0.01698, params: {'min_samples_split': 70, 'min_samples_leaf': 11, 'max_depth': 3},\n",
       "  mean: 0.80945, std: 0.01698, params: {'min_samples_split': 80, 'min_samples_leaf': 11, 'max_depth': 3},\n",
       "  mean: 0.80945, std: 0.01698, params: {'min_samples_split': 90, 'min_samples_leaf': 11, 'max_depth': 3},\n",
       "  mean: 0.80945, std: 0.01698, params: {'min_samples_split': 10, 'min_samples_leaf': 13, 'max_depth': 3},\n",
       "  mean: 0.80945, std: 0.01698, params: {'min_samples_split': 20, 'min_samples_leaf': 13, 'max_depth': 3},\n",
       "  mean: 0.80945, std: 0.01698, params: {'min_samples_split': 30, 'min_samples_leaf': 13, 'max_depth': 3},\n",
       "  mean: 0.80945, std: 0.01698, params: {'min_samples_split': 40, 'min_samples_leaf': 13, 'max_depth': 3},\n",
       "  mean: 0.80782, std: 0.01469, params: {'min_samples_split': 50, 'min_samples_leaf': 13, 'max_depth': 3},\n",
       "  mean: 0.80619, std: 0.01240, params: {'min_samples_split': 60, 'min_samples_leaf': 13, 'max_depth': 3},\n",
       "  mean: 0.80945, std: 0.01698, params: {'min_samples_split': 70, 'min_samples_leaf': 13, 'max_depth': 3},\n",
       "  mean: 0.80782, std: 0.01469, params: {'min_samples_split': 80, 'min_samples_leaf': 13, 'max_depth': 3},\n",
       "  mean: 0.80945, std: 0.01698, params: {'min_samples_split': 90, 'min_samples_leaf': 13, 'max_depth': 3},\n",
       "  mean: 0.79642, std: 0.00962, params: {'min_samples_split': 10, 'min_samples_leaf': 5, 'max_depth': 4},\n",
       "  mean: 0.79805, std: 0.01107, params: {'min_samples_split': 20, 'min_samples_leaf': 5, 'max_depth': 4},\n",
       "  mean: 0.79805, std: 0.01176, params: {'min_samples_split': 30, 'min_samples_leaf': 5, 'max_depth': 4},\n",
       "  mean: 0.80293, std: 0.01468, params: {'min_samples_split': 40, 'min_samples_leaf': 5, 'max_depth': 4},\n",
       "  mean: 0.79805, std: 0.00787, params: {'min_samples_split': 50, 'min_samples_leaf': 5, 'max_depth': 4},\n",
       "  mean: 0.80293, std: 0.01468, params: {'min_samples_split': 60, 'min_samples_leaf': 5, 'max_depth': 4},\n",
       "  mean: 0.80456, std: 0.01697, params: {'min_samples_split': 70, 'min_samples_leaf': 5, 'max_depth': 4},\n",
       "  mean: 0.80456, std: 0.01697, params: {'min_samples_split': 80, 'min_samples_leaf': 5, 'max_depth': 4},\n",
       "  mean: 0.80456, std: 0.01697, params: {'min_samples_split': 90, 'min_samples_leaf': 5, 'max_depth': 4},\n",
       "  mean: 0.79642, std: 0.00962, params: {'min_samples_split': 10, 'min_samples_leaf': 7, 'max_depth': 4},\n",
       "  mean: 0.79805, std: 0.00787, params: {'min_samples_split': 20, 'min_samples_leaf': 7, 'max_depth': 4},\n",
       "  mean: 0.79805, std: 0.01467, params: {'min_samples_split': 30, 'min_samples_leaf': 7, 'max_depth': 4},\n",
       "  mean: 0.80456, std: 0.01697, params: {'min_samples_split': 40, 'min_samples_leaf': 7, 'max_depth': 4},\n",
       "  mean: 0.80293, std: 0.01108, params: {'min_samples_split': 50, 'min_samples_leaf': 7, 'max_depth': 4},\n",
       "  mean: 0.80456, std: 0.01339, params: {'min_samples_split': 60, 'min_samples_leaf': 7, 'max_depth': 4},\n",
       "  mean: 0.80456, std: 0.01339, params: {'min_samples_split': 70, 'min_samples_leaf': 7, 'max_depth': 4},\n",
       "  mean: 0.80619, std: 0.01570, params: {'min_samples_split': 80, 'min_samples_leaf': 7, 'max_depth': 4},\n",
       "  mean: 0.80619, std: 0.01570, params: {'min_samples_split': 90, 'min_samples_leaf': 7, 'max_depth': 4},\n",
       "  mean: 0.79967, std: 0.00759, params: {'min_samples_split': 10, 'min_samples_leaf': 9, 'max_depth': 4},\n",
       "  mean: 0.80456, std: 0.01013, params: {'min_samples_split': 20, 'min_samples_leaf': 9, 'max_depth': 4},\n",
       "  mean: 0.80456, std: 0.01397, params: {'min_samples_split': 30, 'min_samples_leaf': 9, 'max_depth': 4},\n",
       "  mean: 0.80945, std: 0.01698, params: {'min_samples_split': 40, 'min_samples_leaf': 9, 'max_depth': 4},\n",
       "  mean: 0.80293, std: 0.00788, params: {'min_samples_split': 50, 'min_samples_leaf': 9, 'max_depth': 4},\n",
       "  mean: 0.80619, std: 0.01240, params: {'min_samples_split': 60, 'min_samples_leaf': 9, 'max_depth': 4},\n",
       "  mean: 0.80782, std: 0.01469, params: {'min_samples_split': 70, 'min_samples_leaf': 9, 'max_depth': 4},\n",
       "  mean: 0.80782, std: 0.01469, params: {'min_samples_split': 80, 'min_samples_leaf': 9, 'max_depth': 4},\n",
       "  mean: 0.80782, std: 0.01469, params: {'min_samples_split': 90, 'min_samples_leaf': 9, 'max_depth': 4},\n",
       "  mean: 0.80619, std: 0.01240, params: {'min_samples_split': 10, 'min_samples_leaf': 11, 'max_depth': 4},\n",
       "  mean: 0.80619, std: 0.01240, params: {'min_samples_split': 20, 'min_samples_leaf': 11, 'max_depth': 4},\n",
       "  mean: 0.80782, std: 0.01469, params: {'min_samples_split': 30, 'min_samples_leaf': 11, 'max_depth': 4},\n",
       "  mean: 0.80456, std: 0.01013, params: {'min_samples_split': 40, 'min_samples_leaf': 11, 'max_depth': 4},\n",
       "  mean: 0.80945, std: 0.01698, params: {'min_samples_split': 50, 'min_samples_leaf': 11, 'max_depth': 4},\n",
       "  mean: 0.80782, std: 0.01469, params: {'min_samples_split': 60, 'min_samples_leaf': 11, 'max_depth': 4},\n",
       "  mean: 0.80945, std: 0.01698, params: {'min_samples_split': 70, 'min_samples_leaf': 11, 'max_depth': 4},\n",
       "  mean: 0.80945, std: 0.01698, params: {'min_samples_split': 80, 'min_samples_leaf': 11, 'max_depth': 4},\n",
       "  mean: 0.80945, std: 0.01698, params: {'min_samples_split': 90, 'min_samples_leaf': 11, 'max_depth': 4},\n",
       "  mean: 0.80619, std: 0.01240, params: {'min_samples_split': 10, 'min_samples_leaf': 13, 'max_depth': 4},\n",
       "  mean: 0.80619, std: 0.01240, params: {'min_samples_split': 20, 'min_samples_leaf': 13, 'max_depth': 4},\n",
       "  mean: 0.80456, std: 0.01013, params: {'min_samples_split': 30, 'min_samples_leaf': 13, 'max_depth': 4},\n",
       "  mean: 0.80619, std: 0.01240, params: {'min_samples_split': 40, 'min_samples_leaf': 13, 'max_depth': 4},\n",
       "  mean: 0.80945, std: 0.01698, params: {'min_samples_split': 50, 'min_samples_leaf': 13, 'max_depth': 4},\n",
       "  mean: 0.80945, std: 0.01698, params: {'min_samples_split': 60, 'min_samples_leaf': 13, 'max_depth': 4},\n",
       "  mean: 0.80945, std: 0.01698, params: {'min_samples_split': 70, 'min_samples_leaf': 13, 'max_depth': 4},\n",
       "  mean: 0.80945, std: 0.01698, params: {'min_samples_split': 80, 'min_samples_leaf': 13, 'max_depth': 4},\n",
       "  mean: 0.80945, std: 0.01698, params: {'min_samples_split': 90, 'min_samples_leaf': 13, 'max_depth': 4},\n",
       "  mean: 0.80619, std: 0.00800, params: {'min_samples_split': 10, 'min_samples_leaf': 5, 'max_depth': 5},\n",
       "  mean: 0.79967, std: 0.00401, params: {'min_samples_split': 20, 'min_samples_leaf': 5, 'max_depth': 5},\n",
       "  mean: 0.79479, std: 0.01011, params: {'min_samples_split': 30, 'min_samples_leaf': 5, 'max_depth': 5},\n",
       "  mean: 0.79967, std: 0.01012, params: {'min_samples_split': 40, 'min_samples_leaf': 5, 'max_depth': 5},\n",
       "  mean: 0.79805, std: 0.01107, params: {'min_samples_split': 50, 'min_samples_leaf': 5, 'max_depth': 5},\n",
       "  mean: 0.80130, std: 0.01239, params: {'min_samples_split': 60, 'min_samples_leaf': 5, 'max_depth': 5},\n",
       "  mean: 0.80456, std: 0.01397, params: {'min_samples_split': 70, 'min_samples_leaf': 5, 'max_depth': 5},\n",
       "  mean: 0.79967, std: 0.00759, params: {'min_samples_split': 80, 'min_samples_leaf': 5, 'max_depth': 5},\n",
       "  mean: 0.79967, std: 0.01012, params: {'min_samples_split': 90, 'min_samples_leaf': 5, 'max_depth': 5},\n",
       "  mean: 0.79967, std: 0.01012, params: {'min_samples_split': 10, 'min_samples_leaf': 7, 'max_depth': 5},\n",
       "  mean: 0.80130, std: 0.00877, params: {'min_samples_split': 20, 'min_samples_leaf': 7, 'max_depth': 5},\n",
       "  mean: 0.79805, std: 0.00787, params: {'min_samples_split': 30, 'min_samples_leaf': 7, 'max_depth': 5},\n",
       "  mean: 0.79805, std: 0.01176, params: {'min_samples_split': 40, 'min_samples_leaf': 7, 'max_depth': 5},\n",
       "  mean: 0.80456, std: 0.01697, params: {'min_samples_split': 50, 'min_samples_leaf': 7, 'max_depth': 5},\n",
       "  mean: 0.80293, std: 0.01108, params: {'min_samples_split': 60, 'min_samples_leaf': 7, 'max_depth': 5},\n",
       "  mean: 0.80293, std: 0.01108, params: {'min_samples_split': 70, 'min_samples_leaf': 7, 'max_depth': 5},\n",
       "  mean: 0.80456, std: 0.01339, params: {'min_samples_split': 80, 'min_samples_leaf': 7, 'max_depth': 5},\n",
       "  mean: 0.80456, std: 0.01339, params: {'min_samples_split': 90, 'min_samples_leaf': 7, 'max_depth': 5},\n",
       "  mean: 0.79967, std: 0.00646, params: {'min_samples_split': 10, 'min_samples_leaf': 9, 'max_depth': 5},\n",
       "  mean: 0.79479, std: 0.00401, params: {'min_samples_split': 20, 'min_samples_leaf': 9, 'max_depth': 5},\n",
       "  mean: 0.80619, std: 0.00964, params: {'min_samples_split': 30, 'min_samples_leaf': 9, 'max_depth': 5},\n",
       "  mean: 0.80456, std: 0.01013, params: {'min_samples_split': 40, 'min_samples_leaf': 9, 'max_depth': 5},\n",
       "  mean: 0.80456, std: 0.01013, params: {'min_samples_split': 50, 'min_samples_leaf': 9, 'max_depth': 5},\n",
       "  mean: 0.80619, std: 0.01620, params: {'min_samples_split': 60, 'min_samples_leaf': 9, 'max_depth': 5},\n",
       "  mean: 0.80782, std: 0.01469, params: {'min_samples_split': 70, 'min_samples_leaf': 9, 'max_depth': 5},\n",
       "  mean: 0.80782, std: 0.01469, params: {'min_samples_split': 80, 'min_samples_leaf': 9, 'max_depth': 5},\n",
       "  mean: 0.80782, std: 0.01469, params: {'min_samples_split': 90, 'min_samples_leaf': 9, 'max_depth': 5},\n",
       "  mean: 0.79479, std: 0.00441, params: {'min_samples_split': 10, 'min_samples_leaf': 11, 'max_depth': 5},\n",
       "  mean: 0.79479, std: 0.00441, params: {'min_samples_split': 20, 'min_samples_leaf': 11, 'max_depth': 5},\n",
       "  mean: 0.80619, std: 0.01570, params: {'min_samples_split': 30, 'min_samples_leaf': 11, 'max_depth': 5},\n",
       "  mean: 0.80456, std: 0.01013, params: {'min_samples_split': 40, 'min_samples_leaf': 11, 'max_depth': 5},\n",
       "  mean: 0.80130, std: 0.00567, params: {'min_samples_split': 50, 'min_samples_leaf': 11, 'max_depth': 5},\n",
       "  mean: 0.80945, std: 0.01698, params: {'min_samples_split': 60, 'min_samples_leaf': 11, 'max_depth': 5},\n",
       "  mean: 0.80945, std: 0.01698, params: {'min_samples_split': 70, 'min_samples_leaf': 11, 'max_depth': 5},\n",
       "  mean: 0.80945, std: 0.01698, params: {'min_samples_split': 80, 'min_samples_leaf': 11, 'max_depth': 5},\n",
       "  mean: 0.80945, std: 0.01698, params: {'min_samples_split': 90, 'min_samples_leaf': 11, 'max_depth': 5},\n",
       "  mean: 0.80456, std: 0.01013, params: {'min_samples_split': 10, 'min_samples_leaf': 13, 'max_depth': 5},\n",
       "  mean: 0.80456, std: 0.01013, params: {'min_samples_split': 20, 'min_samples_leaf': 13, 'max_depth': 5},\n",
       "  mean: 0.80293, std: 0.01177, params: {'min_samples_split': 30, 'min_samples_leaf': 13, 'max_depth': 5},\n",
       "  mean: 0.80619, std: 0.01570, params: {'min_samples_split': 40, 'min_samples_leaf': 13, 'max_depth': 5},\n",
       "  mean: 0.81270, std: 0.02158, params: {'min_samples_split': 50, 'min_samples_leaf': 13, 'max_depth': 5},\n",
       "  mean: 0.80945, std: 0.01698, params: {'min_samples_split': 60, 'min_samples_leaf': 13, 'max_depth': 5},\n",
       "  mean: 0.81107, std: 0.01928, params: {'min_samples_split': 70, 'min_samples_leaf': 13, 'max_depth': 5},\n",
       "  mean: 0.80782, std: 0.01469, params: {'min_samples_split': 80, 'min_samples_leaf': 13, 'max_depth': 5},\n",
       "  mean: 0.80945, std: 0.01698, params: {'min_samples_split': 90, 'min_samples_leaf': 13, 'max_depth': 5},\n",
       "  mean: 0.78827, std: 0.00601, params: {'min_samples_split': 10, 'min_samples_leaf': 5, 'max_depth': 6},\n",
       "  mean: 0.79805, std: 0.00415, params: {'min_samples_split': 20, 'min_samples_leaf': 5, 'max_depth': 6},\n",
       "  mean: 0.79316, std: 0.00210, params: {'min_samples_split': 30, 'min_samples_leaf': 5, 'max_depth': 6},\n",
       "  mean: 0.79642, std: 0.00962, params: {'min_samples_split': 40, 'min_samples_leaf': 5, 'max_depth': 6},\n",
       "  mean: 0.80130, std: 0.00877, params: {'min_samples_split': 50, 'min_samples_leaf': 5, 'max_depth': 6},\n",
       "  mean: 0.80130, std: 0.00963, params: {'min_samples_split': 60, 'min_samples_leaf': 5, 'max_depth': 6},\n",
       "  mean: 0.80293, std: 0.01177, params: {'min_samples_split': 70, 'min_samples_leaf': 5, 'max_depth': 6},\n",
       "  mean: 0.79967, std: 0.01012, params: {'min_samples_split': 80, 'min_samples_leaf': 5, 'max_depth': 6},\n",
       "  mean: 0.80456, std: 0.01397, params: {'min_samples_split': 90, 'min_samples_leaf': 5, 'max_depth': 6},\n",
       "  mean: 0.79642, std: 0.00566, params: {'min_samples_split': 10, 'min_samples_leaf': 7, 'max_depth': 6},\n",
       "  mean: 0.80130, std: 0.01239, params: {'min_samples_split': 20, 'min_samples_leaf': 7, 'max_depth': 6},\n",
       "  mean: 0.79153, std: 0.00565, params: {'min_samples_split': 30, 'min_samples_leaf': 7, 'max_depth': 6},\n",
       "  mean: 0.79316, std: 0.00414, params: {'min_samples_split': 40, 'min_samples_leaf': 7, 'max_depth': 6},\n",
       "  mean: 0.79967, std: 0.01012, params: {'min_samples_split': 50, 'min_samples_leaf': 7, 'max_depth': 6},\n",
       "  mean: 0.80456, std: 0.01339, params: {'min_samples_split': 60, 'min_samples_leaf': 7, 'max_depth': 6},\n",
       "  mean: 0.80293, std: 0.01108, params: {'min_samples_split': 70, 'min_samples_leaf': 7, 'max_depth': 6},\n",
       "  mean: 0.80293, std: 0.01108, params: {'min_samples_split': 80, 'min_samples_leaf': 7, 'max_depth': 6},\n",
       "  mean: 0.80456, std: 0.01339, params: {'min_samples_split': 90, 'min_samples_leaf': 7, 'max_depth': 6},\n",
       "  mean: 0.80456, std: 0.01159, params: {'min_samples_split': 10, 'min_samples_leaf': 9, 'max_depth': 6},\n",
       "  mean: 0.80130, std: 0.00963, params: {'min_samples_split': 20, 'min_samples_leaf': 9, 'max_depth': 6},\n",
       "  mean: 0.80619, std: 0.00964, params: {'min_samples_split': 30, 'min_samples_leaf': 9, 'max_depth': 6},\n",
       "  mean: 0.79967, std: 0.00646, params: {'min_samples_split': 40, 'min_samples_leaf': 9, 'max_depth': 6},\n",
       "  mean: 0.80782, std: 0.01469, params: {'min_samples_split': 50, 'min_samples_leaf': 9, 'max_depth': 6},\n",
       "  mean: 0.80619, std: 0.01240, params: {'min_samples_split': 60, 'min_samples_leaf': 9, 'max_depth': 6},\n",
       "  mean: 0.80945, std: 0.01398, params: {'min_samples_split': 70, 'min_samples_leaf': 9, 'max_depth': 6},\n",
       "  mean: 0.80782, std: 0.01469, params: {'min_samples_split': 80, 'min_samples_leaf': 9, 'max_depth': 6},\n",
       "  mean: 0.80782, std: 0.01469, params: {'min_samples_split': 90, 'min_samples_leaf': 9, 'max_depth': 6},\n",
       "  mean: 0.80456, std: 0.00760, params: {'min_samples_split': 10, 'min_samples_leaf': 11, 'max_depth': 6},\n",
       "  mean: 0.80456, std: 0.00760, params: {'min_samples_split': 20, 'min_samples_leaf': 11, 'max_depth': 6},\n",
       "  mean: 0.81107, std: 0.00965, params: {'min_samples_split': 30, 'min_samples_leaf': 11, 'max_depth': 6},\n",
       "  mean: 0.80293, std: 0.00788, params: {'min_samples_split': 40, 'min_samples_leaf': 11, 'max_depth': 6},\n",
       "  mean: 0.80293, std: 0.00788, params: {'min_samples_split': 50, 'min_samples_leaf': 11, 'max_depth': 6},\n",
       "  mean: 0.80945, std: 0.01698, params: {'min_samples_split': 60, 'min_samples_leaf': 11, 'max_depth': 6},\n",
       "  mean: 0.80619, std: 0.01240, params: {'min_samples_split': 70, 'min_samples_leaf': 11, 'max_depth': 6},\n",
       "  mean: 0.80945, std: 0.01698, params: {'min_samples_split': 80, 'min_samples_leaf': 11, 'max_depth': 6},\n",
       "  mean: 0.81107, std: 0.01928, params: {'min_samples_split': 90, 'min_samples_leaf': 11, 'max_depth': 6},\n",
       "  mean: 0.79967, std: 0.01012, params: {'min_samples_split': 10, 'min_samples_leaf': 13, 'max_depth': 6},\n",
       "  mean: 0.79967, std: 0.01012, params: {'min_samples_split': 20, 'min_samples_leaf': 13, 'max_depth': 6},\n",
       "  mean: 0.80456, std: 0.00361, params: {'min_samples_split': 30, 'min_samples_leaf': 13, 'max_depth': 6},\n",
       "  mean: 0.80293, std: 0.00788, params: {'min_samples_split': 40, 'min_samples_leaf': 13, 'max_depth': 6},\n",
       "  mean: 0.80782, std: 0.01469, params: {'min_samples_split': 50, 'min_samples_leaf': 13, 'max_depth': 6},\n",
       "  mean: 0.80945, std: 0.01698, params: {'min_samples_split': 60, 'min_samples_leaf': 13, 'max_depth': 6},\n",
       "  mean: 0.80945, std: 0.01698, params: {'min_samples_split': 70, 'min_samples_leaf': 13, 'max_depth': 6},\n",
       "  mean: 0.80945, std: 0.01698, params: {'min_samples_split': 80, 'min_samples_leaf': 13, 'max_depth': 6},\n",
       "  mean: 0.80945, std: 0.01698, params: {'min_samples_split': 90, 'min_samples_leaf': 13, 'max_depth': 6},\n",
       "  mean: 0.79642, std: 0.00439, params: {'min_samples_split': 10, 'min_samples_leaf': 5, 'max_depth': 7},\n",
       "  mean: 0.79967, std: 0.00360, params: {'min_samples_split': 20, 'min_samples_leaf': 5, 'max_depth': 7},\n",
       "  mean: 0.79642, std: 0.01238, params: {'min_samples_split': 30, 'min_samples_leaf': 5, 'max_depth': 7},\n",
       "  mean: 0.80130, std: 0.00963, params: {'min_samples_split': 40, 'min_samples_leaf': 5, 'max_depth': 7},\n",
       "  mean: 0.79642, std: 0.00566, params: {'min_samples_split': 50, 'min_samples_leaf': 5, 'max_depth': 7},\n",
       "  mean: 0.80456, std: 0.01397, params: {'min_samples_split': 60, 'min_samples_leaf': 5, 'max_depth': 7},\n",
       "  mean: 0.80456, std: 0.01013, params: {'min_samples_split': 70, 'min_samples_leaf': 5, 'max_depth': 7},\n",
       "  mean: 0.80130, std: 0.00963, params: {'min_samples_split': 80, 'min_samples_leaf': 5, 'max_depth': 7},\n",
       "  mean: 0.80293, std: 0.01177, params: {'min_samples_split': 90, 'min_samples_leaf': 5, 'max_depth': 7},\n",
       "  mean: 0.79967, std: 0.01026, params: {'min_samples_split': 10, 'min_samples_leaf': 7, 'max_depth': 7},\n",
       "  mean: 0.80130, std: 0.00877, params: {'min_samples_split': 20, 'min_samples_leaf': 7, 'max_depth': 7},\n",
       "  mean: 0.79316, std: 0.00574, params: {'min_samples_split': 30, 'min_samples_leaf': 7, 'max_depth': 7},\n",
       "  mean: 0.80293, std: 0.01177, params: {'min_samples_split': 40, 'min_samples_leaf': 7, 'max_depth': 7},\n",
       "  mean: 0.79805, std: 0.01107, params: {'min_samples_split': 50, 'min_samples_leaf': 7, 'max_depth': 7},\n",
       "  mean: 0.80456, std: 0.01697, params: {'min_samples_split': 60, 'min_samples_leaf': 7, 'max_depth': 7},\n",
       "  mean: 0.80456, std: 0.01339, params: {'min_samples_split': 70, 'min_samples_leaf': 7, 'max_depth': 7},\n",
       "  mean: 0.80456, std: 0.01339, params: {'min_samples_split': 80, 'min_samples_leaf': 7, 'max_depth': 7},\n",
       "  mean: 0.80456, std: 0.01339, params: {'min_samples_split': 90, 'min_samples_leaf': 7, 'max_depth': 7},\n",
       "  mean: 0.80130, std: 0.00799, params: {'min_samples_split': 10, 'min_samples_leaf': 9, 'max_depth': 7},\n",
       "  mean: 0.79967, std: 0.01012, params: {'min_samples_split': 20, 'min_samples_leaf': 9, 'max_depth': 7},\n",
       "  mean: 0.80293, std: 0.00788, params: {'min_samples_split': 30, 'min_samples_leaf': 9, 'max_depth': 7},\n",
       "  mean: 0.80619, std: 0.01240, params: {'min_samples_split': 40, 'min_samples_leaf': 9, 'max_depth': 7},\n",
       "  mean: 0.80130, std: 0.00567, params: {'min_samples_split': 50, 'min_samples_leaf': 9, 'max_depth': 7},\n",
       "  mean: 0.80456, std: 0.01397, params: {'min_samples_split': 60, 'min_samples_leaf': 9, 'max_depth': 7},\n",
       "  mean: 0.80782, std: 0.01469, params: {'min_samples_split': 70, 'min_samples_leaf': 9, 'max_depth': 7},\n",
       "  mean: 0.80782, std: 0.01469, params: {'min_samples_split': 80, 'min_samples_leaf': 9, 'max_depth': 7},\n",
       "  mean: 0.80782, std: 0.01469, params: {'min_samples_split': 90, 'min_samples_leaf': 9, 'max_depth': 7},\n",
       "  mean: 0.80293, std: 0.00788, params: {'min_samples_split': 10, 'min_samples_leaf': 11, 'max_depth': 7},\n",
       "  mean: 0.80293, std: 0.00788, params: {'min_samples_split': 20, 'min_samples_leaf': 11, 'max_depth': 7},\n",
       "  mean: 0.80293, std: 0.00899, params: {'min_samples_split': 30, 'min_samples_leaf': 11, 'max_depth': 7},\n",
       "  mean: 0.80619, std: 0.00964, params: {'min_samples_split': 40, 'min_samples_leaf': 11, 'max_depth': 7},\n",
       "  mean: 0.80130, std: 0.00963, params: {'min_samples_split': 50, 'min_samples_leaf': 11, 'max_depth': 7},\n",
       "  mean: 0.80945, std: 0.01698, params: {'min_samples_split': 60, 'min_samples_leaf': 11, 'max_depth': 7},\n",
       "  mean: 0.81107, std: 0.01928, params: {'min_samples_split': 70, 'min_samples_leaf': 11, 'max_depth': 7},\n",
       "  mean: 0.80945, std: 0.01698, params: {'min_samples_split': 80, 'min_samples_leaf': 11, 'max_depth': 7},\n",
       "  mean: 0.80945, std: 0.01698, params: {'min_samples_split': 90, 'min_samples_leaf': 11, 'max_depth': 7},\n",
       "  mean: 0.79967, std: 0.01026, params: {'min_samples_split': 10, 'min_samples_leaf': 13, 'max_depth': 7},\n",
       "  mean: 0.79967, std: 0.01026, params: {'min_samples_split': 20, 'min_samples_leaf': 13, 'max_depth': 7},\n",
       "  mean: 0.80456, std: 0.00760, params: {'min_samples_split': 30, 'min_samples_leaf': 13, 'max_depth': 7},\n",
       "  mean: 0.80456, std: 0.01339, params: {'min_samples_split': 40, 'min_samples_leaf': 13, 'max_depth': 7},\n",
       "  mean: 0.80293, std: 0.00788, params: {'min_samples_split': 50, 'min_samples_leaf': 13, 'max_depth': 7},\n",
       "  mean: 0.80945, std: 0.01698, params: {'min_samples_split': 60, 'min_samples_leaf': 13, 'max_depth': 7},\n",
       "  mean: 0.80945, std: 0.01698, params: {'min_samples_split': 70, 'min_samples_leaf': 13, 'max_depth': 7},\n",
       "  mean: 0.80945, std: 0.01698, params: {'min_samples_split': 80, 'min_samples_leaf': 13, 'max_depth': 7},\n",
       "  mean: 0.80945, std: 0.01698, params: {'min_samples_split': 90, 'min_samples_leaf': 13, 'max_depth': 7},\n",
       "  mean: 0.79153, std: 0.00565, params: {'min_samples_split': 10, 'min_samples_leaf': 5, 'max_depth': 8},\n",
       "  mean: 0.79805, std: 0.00787, params: {'min_samples_split': 20, 'min_samples_leaf': 5, 'max_depth': 8},\n",
       "  mean: 0.79479, std: 0.01011, params: {'min_samples_split': 30, 'min_samples_leaf': 5, 'max_depth': 8},\n",
       "  mean: 0.80293, std: 0.01108, params: {'min_samples_split': 40, 'min_samples_leaf': 5, 'max_depth': 8},\n",
       "  mean: 0.80293, std: 0.01108, params: {'min_samples_split': 50, 'min_samples_leaf': 5, 'max_depth': 8},\n",
       "  mean: 0.80619, std: 0.01620, params: {'min_samples_split': 60, 'min_samples_leaf': 5, 'max_depth': 8},\n",
       "  mean: 0.80130, std: 0.01239, params: {'min_samples_split': 70, 'min_samples_leaf': 5, 'max_depth': 8},\n",
       "  mean: 0.80130, std: 0.01239, params: {'min_samples_split': 80, 'min_samples_leaf': 5, 'max_depth': 8},\n",
       "  mean: 0.80130, std: 0.01239, params: {'min_samples_split': 90, 'min_samples_leaf': 5, 'max_depth': 8},\n",
       "  mean: 0.79805, std: 0.00843, params: {'min_samples_split': 10, 'min_samples_leaf': 7, 'max_depth': 8},\n",
       "  mean: 0.79805, std: 0.00787, params: {'min_samples_split': 20, 'min_samples_leaf': 7, 'max_depth': 8},\n",
       "  mean: 0.79479, std: 0.01157, params: {'min_samples_split': 30, 'min_samples_leaf': 7, 'max_depth': 8},\n",
       "  mean: 0.80130, std: 0.00877, params: {'min_samples_split': 40, 'min_samples_leaf': 7, 'max_depth': 8},\n",
       "  mean: 0.79805, std: 0.00787, params: {'min_samples_split': 50, 'min_samples_leaf': 7, 'max_depth': 8},\n",
       "  mean: 0.79967, std: 0.01012, params: {'min_samples_split': 60, 'min_samples_leaf': 7, 'max_depth': 8},\n",
       "  mean: 0.80456, std: 0.01339, params: {'min_samples_split': 70, 'min_samples_leaf': 7, 'max_depth': 8},\n",
       "  mean: 0.80293, std: 0.01108, params: {'min_samples_split': 80, 'min_samples_leaf': 7, 'max_depth': 8},\n",
       "  mean: 0.80456, std: 0.01339, params: {'min_samples_split': 90, 'min_samples_leaf': 7, 'max_depth': 8},\n",
       "  mean: 0.79967, std: 0.00759, params: {'min_samples_split': 10, 'min_samples_leaf': 9, 'max_depth': 8},\n",
       "  mean: 0.81107, std: 0.01241, params: {'min_samples_split': 20, 'min_samples_leaf': 9, 'max_depth': 8},\n",
       "  mean: 0.80293, std: 0.01108, params: {'min_samples_split': 30, 'min_samples_leaf': 9, 'max_depth': 8},\n",
       "  mean: 0.80130, std: 0.00567, params: {'min_samples_split': 40, 'min_samples_leaf': 9, 'max_depth': 8},\n",
       "  mean: 0.79967, std: 0.00360, params: {'min_samples_split': 50, 'min_samples_leaf': 9, 'max_depth': 8},\n",
       "  mean: 0.80619, std: 0.01240, params: {'min_samples_split': 60, 'min_samples_leaf': 9, 'max_depth': 8},\n",
       "  mean: 0.80782, std: 0.01469, params: {'min_samples_split': 70, 'min_samples_leaf': 9, 'max_depth': 8},\n",
       "  mean: 0.80782, std: 0.01469, params: {'min_samples_split': 80, 'min_samples_leaf': 9, 'max_depth': 8},\n",
       "  mean: 0.80782, std: 0.01469, params: {'min_samples_split': 90, 'min_samples_leaf': 9, 'max_depth': 8},\n",
       "  mean: 0.80456, std: 0.00647, params: {'min_samples_split': 10, 'min_samples_leaf': 11, 'max_depth': 8},\n",
       "  mean: 0.80456, std: 0.00647, params: {'min_samples_split': 20, 'min_samples_leaf': 11, 'max_depth': 8},\n",
       "  mean: 0.80456, std: 0.01026, params: {'min_samples_split': 30, 'min_samples_leaf': 11, 'max_depth': 8},\n",
       "  mean: 0.80456, std: 0.00760, params: {'min_samples_split': 40, 'min_samples_leaf': 11, 'max_depth': 8},\n",
       "  mean: 0.80130, std: 0.00963, params: {'min_samples_split': 50, 'min_samples_leaf': 11, 'max_depth': 8},\n",
       "  mean: 0.81107, std: 0.01621, params: {'min_samples_split': 60, 'min_samples_leaf': 11, 'max_depth': 8},\n",
       "  mean: 0.80945, std: 0.01698, params: {'min_samples_split': 70, 'min_samples_leaf': 11, 'max_depth': 8},\n",
       "  mean: 0.80945, std: 0.01698, params: {'min_samples_split': 80, 'min_samples_leaf': 11, 'max_depth': 8},\n",
       "  mean: 0.80945, std: 0.01698, params: {'min_samples_split': 90, 'min_samples_leaf': 11, 'max_depth': 8},\n",
       "  mean: 0.80130, std: 0.00963, params: {'min_samples_split': 10, 'min_samples_leaf': 13, 'max_depth': 8},\n",
       "  mean: 0.80130, std: 0.00963, params: {'min_samples_split': 20, 'min_samples_leaf': 13, 'max_depth': 8},\n",
       "  mean: 0.80130, std: 0.01569, params: {'min_samples_split': 30, 'min_samples_leaf': 13, 'max_depth': 8},\n",
       "  mean: 0.80782, std: 0.01801, params: {'min_samples_split': 40, 'min_samples_leaf': 13, 'max_depth': 8},\n",
       "  mean: 0.80619, std: 0.01620, params: {'min_samples_split': 50, 'min_samples_leaf': 13, 'max_depth': 8},\n",
       "  mean: 0.80945, std: 0.01698, params: {'min_samples_split': 60, 'min_samples_leaf': 13, 'max_depth': 8},\n",
       "  mean: 0.80945, std: 0.01698, params: {'min_samples_split': 70, 'min_samples_leaf': 13, 'max_depth': 8},\n",
       "  mean: 0.80945, std: 0.01698, params: {'min_samples_split': 80, 'min_samples_leaf': 13, 'max_depth': 8},\n",
       "  mean: 0.80945, std: 0.01698, params: {'min_samples_split': 90, 'min_samples_leaf': 13, 'max_depth': 8},\n",
       "  mean: 0.78664, std: 0.00258, params: {'min_samples_split': 10, 'min_samples_leaf': 5, 'max_depth': 9},\n",
       "  mean: 0.79805, std: 0.01176, params: {'min_samples_split': 20, 'min_samples_leaf': 5, 'max_depth': 9},\n",
       "  mean: 0.79642, std: 0.00962, params: {'min_samples_split': 30, 'min_samples_leaf': 5, 'max_depth': 9},\n",
       "  mean: 0.79967, std: 0.01396, params: {'min_samples_split': 40, 'min_samples_leaf': 5, 'max_depth': 9},\n",
       "  mean: 0.79805, std: 0.01176, params: {'min_samples_split': 50, 'min_samples_leaf': 5, 'max_depth': 9},\n",
       "  mean: 0.80293, std: 0.01177, params: {'min_samples_split': 60, 'min_samples_leaf': 5, 'max_depth': 9},\n",
       "  mean: 0.79805, std: 0.00787, params: {'min_samples_split': 70, 'min_samples_leaf': 5, 'max_depth': 9},\n",
       "  mean: 0.80456, std: 0.01697, params: {'min_samples_split': 80, 'min_samples_leaf': 5, 'max_depth': 9},\n",
       "  mean: 0.80293, std: 0.01468, params: {'min_samples_split': 90, 'min_samples_leaf': 5, 'max_depth': 9},\n",
       "  mean: 0.79805, std: 0.00787, params: {'min_samples_split': 10, 'min_samples_leaf': 7, 'max_depth': 9},\n",
       "  mean: 0.80456, std: 0.01013, params: {'min_samples_split': 20, 'min_samples_leaf': 7, 'max_depth': 9},\n",
       "  mean: 0.79642, std: 0.00566, params: {'min_samples_split': 30, 'min_samples_leaf': 7, 'max_depth': 9},\n",
       "  mean: 0.80619, std: 0.00964, params: {'min_samples_split': 40, 'min_samples_leaf': 7, 'max_depth': 9},\n",
       "  mean: 0.79805, std: 0.01107, params: {'min_samples_split': 50, 'min_samples_leaf': 7, 'max_depth': 9},\n",
       "  mean: 0.80456, std: 0.01339, params: {'min_samples_split': 60, 'min_samples_leaf': 7, 'max_depth': 9},\n",
       "  mean: 0.80456, std: 0.01339, params: {'min_samples_split': 70, 'min_samples_leaf': 7, 'max_depth': 9},\n",
       "  mean: 0.80293, std: 0.01108, params: {'min_samples_split': 80, 'min_samples_leaf': 7, 'max_depth': 9},\n",
       "  mean: 0.80456, std: 0.01339, params: {'min_samples_split': 90, 'min_samples_leaf': 7, 'max_depth': 9},\n",
       "  mean: 0.79479, std: 0.01011, params: {'min_samples_split': 10, 'min_samples_leaf': 9, 'max_depth': 9},\n",
       "  mean: 0.79805, std: 0.00787, params: {'min_samples_split': 20, 'min_samples_leaf': 9, 'max_depth': 9},\n",
       "  mean: 0.80130, std: 0.00567, params: {'min_samples_split': 30, 'min_samples_leaf': 9, 'max_depth': 9},\n",
       "  mean: 0.80456, std: 0.01013, params: {'min_samples_split': 40, 'min_samples_leaf': 9, 'max_depth': 9},\n",
       "  mean: 0.80293, std: 0.00788, params: {'min_samples_split': 50, 'min_samples_leaf': 9, 'max_depth': 9},\n",
       "  mean: 0.80456, std: 0.01013, params: {'min_samples_split': 60, 'min_samples_leaf': 9, 'max_depth': 9},\n",
       "  mean: 0.80945, std: 0.01698, params: {'min_samples_split': 70, 'min_samples_leaf': 9, 'max_depth': 9},\n",
       "  mean: 0.80782, std: 0.01469, params: {'min_samples_split': 80, 'min_samples_leaf': 9, 'max_depth': 9},\n",
       "  mean: 0.80782, std: 0.01469, params: {'min_samples_split': 90, 'min_samples_leaf': 9, 'max_depth': 9},\n",
       "  mean: 0.79805, std: 0.00485, params: {'min_samples_split': 10, 'min_samples_leaf': 11, 'max_depth': 9},\n",
       "  mean: 0.79805, std: 0.00485, params: {'min_samples_split': 20, 'min_samples_leaf': 11, 'max_depth': 9},\n",
       "  mean: 0.80130, std: 0.00818, params: {'min_samples_split': 30, 'min_samples_leaf': 11, 'max_depth': 9},\n",
       "  mean: 0.79967, std: 0.00401, params: {'min_samples_split': 40, 'min_samples_leaf': 11, 'max_depth': 9},\n",
       "  mean: 0.79967, std: 0.00759, params: {'min_samples_split': 50, 'min_samples_leaf': 11, 'max_depth': 9},\n",
       "  mean: 0.80945, std: 0.01398, params: {'min_samples_split': 60, 'min_samples_leaf': 11, 'max_depth': 9},\n",
       "  mean: 0.80945, std: 0.01698, params: {'min_samples_split': 70, 'min_samples_leaf': 11, 'max_depth': 9},\n",
       "  mean: 0.80945, std: 0.01698, params: {'min_samples_split': 80, 'min_samples_leaf': 11, 'max_depth': 9},\n",
       "  mean: 0.80945, std: 0.01698, params: {'min_samples_split': 90, 'min_samples_leaf': 11, 'max_depth': 9},\n",
       "  mean: 0.79967, std: 0.00401, params: {'min_samples_split': 10, 'min_samples_leaf': 13, 'max_depth': 9},\n",
       "  mean: 0.79967, std: 0.00401, params: {'min_samples_split': 20, 'min_samples_leaf': 13, 'max_depth': 9},\n",
       "  mean: 0.80456, std: 0.01397, params: {'min_samples_split': 30, 'min_samples_leaf': 13, 'max_depth': 9},\n",
       "  mean: 0.80456, std: 0.01339, params: {'min_samples_split': 40, 'min_samples_leaf': 13, 'max_depth': 9},\n",
       "  mean: 0.80619, std: 0.01240, params: {'min_samples_split': 50, 'min_samples_leaf': 13, 'max_depth': 9},\n",
       "  mean: 0.80945, std: 0.01698, params: {'min_samples_split': 60, 'min_samples_leaf': 13, 'max_depth': 9},\n",
       "  mean: 0.80945, std: 0.01698, params: {'min_samples_split': 70, 'min_samples_leaf': 13, 'max_depth': 9},\n",
       "  mean: 0.80945, std: 0.01698, params: {'min_samples_split': 80, 'min_samples_leaf': 13, 'max_depth': 9},\n",
       "  mean: 0.80945, std: 0.01698, params: {'min_samples_split': 90, 'min_samples_leaf': 13, 'max_depth': 9}],\n",
       " {'max_depth': 5, 'min_samples_leaf': 13, 'min_samples_split': 50},\n",
       " 0.81270358306188928)"
      ]
     },
     "execution_count": 50,
     "metadata": {},
     "output_type": "execute_result"
    }
   ],
   "source": [
    "#On basis of above observation we can set\n",
    "#n_estimators=20\n",
    "#max_features=sqrt\n",
    "clf = GradientBoostingClassifier(learning_rate =0.1,random_state=10,subsample=0.8,n_estimators=20,max_features='sqrt')\n",
    "param_grid2 = {'max_depth':list(range(1,10,1)), \n",
    "               'min_samples_split':list(range(10,100,10)),\n",
    "               'min_samples_leaf':list(range(5,15,2))\n",
    "               }\n",
    "\n",
    "gsearch2 = GridSearchCV(clf, param_grid= param_grid2) \n",
    "predictors = [x for x in df.columns if x not in [target, IDcol]]\n",
    "gsearch2.fit(df[predictors],df[target])\n",
    "gsearch2.grid_scores_, gsearch2.best_params_, gsearch2.best_score_"
   ]
  },
  {
   "cell_type": "code",
   "execution_count": 51,
   "metadata": {
    "collapsed": false
   },
   "outputs": [
    {
     "name": "stdout",
     "output_type": "stream",
     "text": [
      "\n",
      "Model Report\n",
      "Accuracy : 0.8127\n",
      "AUC Score (Train): 0.893254\n",
      "CV Score : Mean - 0.7407559 | Std - 0.04437099 | Min - 0.7020677 | Max - 0.8007519\n"
     ]
    },
    {
     "data": {
      "image/png": "[encoded data removed]",
      "text/plain": [
       "<matplotlib.figure.Figure at 0x153a594fdd8>"
      ]
     },
     "metadata": {},
     "output_type": "display_data"
    }
   ],
   "source": [
    "modelfit(gsearch2.best_estimator_, df, predictors)\n",
    "# modelfit(gbm0,df,predictors)"
   ]
  },
  {
   "cell_type": "code",
   "execution_count": 60,
   "metadata": {
    "collapsed": false
   },
   "outputs": [
    {
     "data": {
      "text/plain": [
       "([mean: 0.78827, std: 0.02158, params: {'max_features': 1},\n",
       "  mean: 0.80782, std: 0.01179, params: {'max_features': 2},\n",
       "  mean: 0.80456, std: 0.01013, params: {'max_features': 3},\n",
       "  mean: 0.80293, std: 0.00788, params: {'max_features': 4},\n",
       "  mean: 0.80782, std: 0.01179, params: {'max_features': 5},\n",
       "  mean: 0.80945, std: 0.01398, params: {'max_features': 6},\n",
       "  mean: 0.80619, std: 0.01240, params: {'max_features': 7},\n",
       "  mean: 0.80293, std: 0.01468, params: {'max_features': 8},\n",
       "  mean: 0.80293, std: 0.01177, params: {'max_features': 9}],\n",
       " {'max_features': 6},\n",
       " 0.80944625407166126)"
      ]
     },
     "execution_count": 60,
     "metadata": {},
     "output_type": "execute_result"
    }
   ],
   "source": [
    "#On basis of above observation we can set\n",
    "#max_depth=3\n",
    "#min_samples_split=50\n",
    "clf = GradientBoostingClassifier(learning_rate =0.1,random_state=10,subsample=0.8,n_estimators=20,max_features='sqrt',\n",
    "                                 max_depth=5,min_samples_leaf=13,min_samples_split=50)\n",
    "param_grid3 = {'max_features':list(range(1,10,1))\n",
    "               }\n",
    "\n",
    "gsearch3 = GridSearchCV(clf, param_grid= param_grid3) \n",
    "predictors = [x for x in df.columns if x not in [target, IDcol]]\n",
    "gsearch3.fit(df[predictors],df[target])\n",
    "gsearch3.grid_scores_, gsearch3.best_params_, gsearch3.best_score_"
   ]
  },
  {
   "cell_type": "code",
   "execution_count": 63,
   "metadata": {
    "collapsed": false
   },
   "outputs": [
    {
     "name": "stdout",
     "output_type": "stream",
     "text": [
      "\n",
      "Model Report\n",
      "Accuracy : 0.816\n",
      "AUC Score (Train): 0.921591\n",
      "CV Score : Mean - 0.7443064 | Std - 0.03779736 | Min - 0.7075415 | Max - 0.7914027\n"
     ]
    },
    {
     "data": {
      "image/png": "[encoded data removed]",
      "text/plain": [
       "<matplotlib.figure.Figure at 0x153a5a577b8>"
      ]
     },
     "metadata": {},
     "output_type": "display_data"
    }
   ],
   "source": [
    "modelfit(gsearch3.best_estimator_, df, predictors)"
   ]
  },
  {
   "cell_type": "code",
   "execution_count": 83,
   "metadata": {
    "collapsed": false
   },
   "outputs": [],
   "source": [
    "clf = GradientBoostingClassifier(learning_rate =0.05,random_state=10,subsample=0.8,n_estimators=40,max_features='sqrt',\n",
    "                                 max_depth=5,min_samples_leaf=13,min_samples_split=50)\n",
    "predictors = [x for x in df.columns if x not in [target, IDcol]]\n",
    "\n",
    "# modelfit(clf, df, predictors)\n",
    "clf.fit(df[predictors], df['Loan_Status'])\n",
    "dtrain_predictions = gbm0.predict(X_test)"
   ]
  },
  {
   "cell_type": "code",
   "execution_count": 61,
   "metadata": {
    "collapsed": false
   },
   "outputs": [
    {
     "data": {
      "text/plain": [
       "([mean: 0.81107, std: 0.01928, params: {'subsample': 0.6},\n",
       "  mean: 0.81270, std: 0.01470, params: {'subsample': 0.7},\n",
       "  mean: 0.80945, std: 0.01698, params: {'subsample': 0.75},\n",
       "  mean: 0.81270, std: 0.02158, params: {'subsample': 0.8},\n",
       "  mean: 0.80945, std: 0.01698, params: {'subsample': 0.85},\n",
       "  mean: 0.80945, std: 0.01698, params: {'subsample': 0.9}],\n",
       " {'subsample': 0.7},\n",
       " 0.81270358306188928)"
      ]
     },
     "execution_count": 61,
     "metadata": {},
     "output_type": "execute_result"
    }
   ],
   "source": [
    "#On basis of above observation we can set\n",
    "#max_depth=3\n",
    "#min_samples_split=50\n",
    "# clf = GradientBoostingClassifier(learning_rate =0.1,random_state=10,subsample=0.8,n_estimators=20,max_features=3,\n",
    "#                                  max_depth=5,min_samples_leaf=13,min_samples_split=50)\n",
    "# param_grid4 = {'subsample':[0.6,0.7,0.75,0.8,0.85,0.9]}\n",
    "\n",
    "# gsearch4 = GridSearchCV(clf, param_grid= param_grid4) \n",
    "# predictors = [x for x in df.columns if x not in [target, IDcol]]\n",
    "# gsearch4.fit(df[predictors],df[target])\n",
    "# gsearch4.grid_scores_, gsearch4.best_params_, gsearch4.best_score_"
   ]
  },
  {
   "cell_type": "code",
   "execution_count": 62,
   "metadata": {
    "collapsed": false
   },
   "outputs": [
    {
     "name": "stdout",
     "output_type": "stream",
     "text": [
      "\n",
      "Model Report\n",
      "Accuracy : 0.8078\n",
      "AUC Score (Train): 0.888564\n",
      "CV Score : Mean - 0.7324402 | Std - 0.04141199 | Min - 0.6804511 | Max - 0.7807018\n"
     ]
    },
    {
     "data": {
      "image/png": "[encoded data removed]",
      "text/plain": [
       "<matplotlib.figure.Figure at 0x153a5b527b8>"
      ]
     },
     "metadata": {},
     "output_type": "display_data"
    }
   ],
   "source": [
    "# modelfit(gsearch4.best_estimator_, df, predictors)"
   ]
  },
  {
   "cell_type": "code",
   "execution_count": 84,
   "metadata": {
    "collapsed": false
   },
   "outputs": [],
   "source": [
    "submission = pd.DataFrame({\n",
    "        'Loan_ID':dtest['Loan_ID'],\n",
    "        'Loan_Status':dtrain_predictions\n",
    "    })\n",
    "submission.to_csv('Loan_Prediction.csv',index=False)"
   ]
  }
 ],
 "metadata": {
  "kernelspec": {
   "display_name": "Python 3",
   "language": "python",
   "name": "python3"
  },
  "language_info": {
   "codemirror_mode": {
    "name": "ipython",
    "version": 3
   },
   "file_extension": ".py",
   "mimetype": "text/x-python",
   "name": "python",
   "nbconvert_exporter": "python",
   "pygments_lexer": "ipython3",
   "version": "3.5.1"
  }
 },
 "nbformat": 4,
 "nbformat_minor": 0
}
